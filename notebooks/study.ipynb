{
 "cells": [
  {
   "cell_type": "code",
   "execution_count": 1,
   "id": "72a85394-df3c-4bf5-adb8-1c2702739db5",
   "metadata": {},
   "outputs": [],
   "source": [
    "from pathlib import Path\n",
    "import os\n",
    "import json\n",
    "import sys\n",
    "import optuna\n",
    "from optuna.samplers import TPESampler\n",
    "from stable_baselines3 import DQN\n",
    "from stable_baselines3 import PPO\n",
    "from stable_baselines3.common.env_util import make_vec_env\n",
    "from stable_baselines3.common.vec_env import DummyVecEnv\n",
    "from stable_baselines3.common.vec_env import SubprocVecEnv\n",
    "from stable_baselines3.common.evaluation import evaluate_policy\n",
    "from stable_baselines3.common.callbacks import ProgressBarCallback\n",
    "import numpy as np\n",
    "import torch\n",
    "import random\n",
    "import yaml\n",
    "import pandas as pd\n",
    "import datetime\n",
    "from matplotlib import pyplot as plt\n",
    "import seaborn as sns\n",
    "from tqdm import tqdm\n",
    "path_to_src = Path(Path(os.getcwd()).parent, 'src')\n",
    "sys.path.append(str(path_to_src))\n",
    "from enviroment import StockTradingEnvDSR\n",
    "from agents import LinearFeatureExtractor, RNNFeatureExtractor, LSTMExtractor, MLPFeatureExtractor\n",
    "from utils import get_data, get_scaled_data_new, get_time_data_new, prepare_aligned_data, daily_portfolio_return, statistics_calc\n",
    "import warnings\n",
    "warnings.filterwarnings('ignore')"
   ]
  },
  {
   "cell_type": "markdown",
   "id": "a0f67206-b1ec-4088-b22e-6ed0b496d475",
   "metadata": {},
   "source": [
    "# Reinforcement Learning (RL) in algorithmic trading"
   ]
  },
  {
   "cell_type": "markdown",
   "id": "1c67ce1e-d22a-4564-bb39-42f38528f832",
   "metadata": {},
   "source": [
    "В контролируемом обучении (Supervised learning) мы хотим предсказать метку (target), используя набор признаков (предикторов), и мы обучаем модель МО, используя множество выборок пар (признаки, метка). В обучении с подкреплением (RL) мы хотим максимизировать цель, используя последовательность действий (поэтому это иногда называют «последовательным принятием решений»). Каждое действие $a(t)$ в момент времени $t$ основано на переменных состояния $s(t)$ в момент времени $t$, и следующее состояние $s(t+1)$ может (но не обязательно) зависеть от $s(t)$ и $a(t)$. в общем случае и $a$, и $s$ могут быть векторами или даже матрицами. Переменные состояния в RL соответствуют признакам в контролируемом обучении. После того, как действие $a(t)$ выполнено, мы получаем награду $r(t)$, скаляр. В простейшем случае (например, в рассматриваемом нами примере) конечной целью является максимизация ожидаемого общего вознаграждения:\n",
    "$$J = E[r(0) + r(1) + ... + r(T)]$$\n",
    "Модель ML в глубоком обучении с подкреплением (DRL) используется для обучения на последовательности $(s(t), a(t), r(t))$ для $t=0, 1, 2, …,$ чтобы сгенерировать оптимальное $a(t)$ с учетом входных данных $s(t)$, с целью максимизировать $J$. В теории принято называть эту модель ML политикой $\\pi$. Важно отметить, что $\\pi$ — это распределение вероятностей по действиям, обусловленным состояниями, $\\pi( a(t) | s(t) )$. Действие не является детерминированной функцией состояния. Именно поэтому цель DRL — максимизировать ожидаемую общую награду, а не реализованную общую награду из одной выборочной последовательности $(s(t), a(t), r(t))$.\n",
    "$$\n",
    "\\pi^* = \\text{argmax}_\\pi J(\\pi) = \\text{argmax}_\\pi \\mathbb{E} \\left[ \\sum_{t=0}^T r(s_t, a_t \\sim \\pi(a|s_t)) \\right] \\tag{1}\n",
    "$$\n",
    "\n",
    "где $\\sim$ означает, что действие $a$ выбирается из распределения вероятностей $\\pi(a(t)|s(t))$. Для упрощения записи мы использовали $s$ и $a$ для обозначения $s(t)$ и $a(t)$.\n",
    "\n",
    "### Q-learning\n",
    "\n",
    "Q-learning - алгоритм обучения с подкреплением (RL), где агент учится **оптимальной стратегии** через оценку функции качества действий. Ключевые понятия:\n",
    "\n",
    "- **Q-функция** $Q(s,a)$: Ожидаемая суммарная дисконтированная награда за выбор действия $a$ в состоянии $s$ с последующим следованием оптимальной политике\n",
    "- **V-функция** $V(s)$: Ожидаемая суммарная награда из состояния $s$ при оптимальной политике ($V(s) = \\max_a Q(s,a)$)\n",
    "- **Связь Q и V**: $Q(s,a) = r(s,a) + \\gamma \\mathbb{E}[V(s')]$\n",
    "  \n",
    "$$\n",
    "Q(s_t, a_t) \\leftarrow Q(s_t, a_t) + \\alpha \\left( r_t + \\gamma \\max_a Q(s_{t+1}, a) - Q(s_t, a_t) \\right) \\tag{1}\n",
    "$$\n",
    "\n",
    "где:\n",
    "- $\\alpha$ — скорость обучения\n",
    "- $\\gamma$ — коэффициент дисконтирования\n",
    "- $r_t$ — награда на шаге $t$\n",
    "\n",
    "Используется $\\epsilon$-greedy стратегия исследования:\n",
    "- С вероятностью $\\epsilon$ выбирается случайное действие\n",
    "- Иначе выбирается действие $\\argmax_a Q(s_t, a)$\n",
    "\n",
    "Полная будущая награда определяется как:\n",
    "\n",
    "$$\n",
    "R_\\Sigma = r_t + \\gamma V(s_{t+1}) \\tag{2}\n",
    "$$\n",
    "\n",
    "Обобщение на $n$ шагов (n-step return):\n",
    "\n",
    "$$\n",
    "R_\\Sigma^{(n)} = \\sum_{k=0}^{n-1} \\gamma^k r_{t+k} + \\gamma^n \\max_a Q(s_{t+n}, a) \\tag{3}\n",
    "$$\n",
    "\n",
    "При параметризации Q-функции нейросетью $Q_\\theta$ получаем:\n",
    "\n",
    "$$\n",
    "Q_\\theta(s_t, a_t) \\leftarrow Q_\\theta(s_t, a_t) + \\alpha \\left( R_\\Sigma^{(n)} - Q_\\theta(s_t, a_t) \\right) \\tag{4}\n",
    "$$\n",
    "\n",
    "где целевое значение вычисляется как:\n",
    "\n",
    "$$\n",
    "R_\\Sigma^{(n)} = \\sum_{k=0}^{n-1} \\gamma^k r_{t+k} + \\gamma^n \\max_a Q_{\\theta^-}(s_{t+n}, a) \\tag{5}\n",
    "$$\n",
    "\n",
    "Здесь $\\theta^-$ — параметры целевой сети (target network).\n",
    "\n",
    "### Proximal Policy Optimization (PPO)\n",
    "\n",
    "#### 1. Обновление политики через градиентный спуск  \n",
    "В Reinforcement Learning цель — максимизировать суммарную вознаграждение агента. Прямая оптимизация параметров политики  \n",
    "$\n",
    "\\pi_\\theta(a \\mid s)\n",
    "$\n",
    "методом градиентного спуска может приводить к слишком резким изменениям стратегии и дестабилизации обучения.\n",
    "\n",
    "---\n",
    "\n",
    "#### 2. Вероятностное отношение (Probability Ratio)  \n",
    "Чтобы измерять, насколько новая политика отличается от старой, вводят отношение вероятностей:\n",
    "$$\n",
    "r(\\theta) = \\frac{\\pi_\\theta(a \\mid s)}{\\pi_{\\theta_\\text{old}}(a \\mid s)}\n",
    "$$\n",
    "- Если $r(\\theta)$ сильно уходит от 1, новая политика слишком далека от предыдущей.  \n",
    "- Контроль «размашистых» обновлений помогает сохранить стабильность обучения.\n",
    "\n",
    "---\n",
    "\n",
    "#### 3. Оценка преимущества (Advantage Estimate)  \n",
    "Преимущество $A_t$ показывает, насколько действие превзошло ожидания:\n",
    "$$\n",
    "A_t = R_t - V(s_t)\n",
    "$$ \n",
    "- $R_t$ — накопленная дисконтированная награда с момента $t$.  \n",
    "- $V(s_t)$ — оценка ценности состояния $s_t$.  \n",
    "- $A_t>0$ указывает на действия лучше среднего, $A_t<0$ — хуже.\n",
    "\n",
    "---\n",
    "\n",
    "#### 4. Механизм «clipping»  \n",
    "Чтобы предотвратить слишком большие шаги, используют «обрезку» отношения:\n",
    "$$\n",
    "L(\\theta) = \\mathbb{E}\\bigl[\\min\\bigl(r(\\theta)\\,A_t,\\;\\mathrm{clip}\\bigl(r(\\theta),\\,1-\\varepsilon,\\,1+\\varepsilon\\bigr)\\,A_t\\bigr)\\bigr]\n",
    "$$  \n",
    "- $\\varepsilon\\in[0.1,0.3]$ задаёт допустимый диапазон изменений $r(\\theta)$.  \n",
    "- Если $r(\\theta)$ выходит за границы $[1-\\varepsilon,\\,1+\\varepsilon]$, сигнализируется «слишком резкое» обновление и соответствующий вклад в функцию потерь ограничивается.\n",
    "\n",
    "---\n",
    "\n",
    "#### 5. Итоговый процесс обучения PPO  \n",
    "1. **Сбор траекторий** по текущей политике $\\pi_{\\theta_\\text{old}}$.  \n",
    "2. **Оценка преимуществ** $A_t$ с помощью ценностной функции $V(s)$.  \n",
    "3. **Оптимизация** обновлённой политики $\\pi_\\theta$ с функцией потерь $L(\\theta)$ и механизмом clipping.  \n",
    "4. **Обновление** старых параметров: $\\theta_\\text{old}\\gets\\theta$.  \n",
    "5. **Повторение цикла** до сходимости.\n",
    "\n",
    "\n",
    "### Используемые алгоритмы и модели\n",
    "\n",
    "В своей реализации я опирался на готовые реализации из библиотеки [Stable Baselines 3](https://github.com/DLR-RM/stable-baselines3):\n",
    "\n",
    "- **DQN**  \n",
    "- **PPO**\n",
    "\n",
    "#### Репозиторий с кодом  \n",
    "Все файлы с окружением и агентами лежат по ссылке:  \n",
    "> https://github.com/VladShchekotikhin/rl_study\n",
    "\n",
    "---\n",
    "\n",
    "#### Параметризация Q‑функции в DQN\n",
    "\n",
    "Для DQN рассматривались три разных экстрактора признаков (feature extractors), каждый из которых задаёт свою архитектуру аппроксимации $Q(s,a)$:\n",
    "\n",
    "1. **LinearFeatureExtractor**  \n",
    "   - Свёртка всего окна наблюдений в вектор длины `features_dim`.  \n",
    "   - Состоит из одного линейного слоя + активации Tanh.  \n",
    "2. **RNNFeatureExtractor**\n",
    "   - Состоит из одного реккурентного слоя $\\text{RNN}$ и одного линейного.\n",
    "   - Из-за своей реккурентной структуры должна лучше улавливать временные зависимости.\n",
    "3. **LSTMExtractor**\n",
    "   - Состоит из одного реккурентного слоя $\\text{LSTM}$ и одного линейного.\n",
    "   - Из-за своей реккурентной структуры должна лучше улавливать временные зависимости."
   ]
  },
  {
   "cell_type": "markdown",
   "id": "720a7e60-67e7-4082-9ffb-697e73e381bb",
   "metadata": {},
   "source": [
    "### Функция награды: Дифференциальный коэффициент Шарпа (DSR)\n",
    "\n",
    "В задачах алгоритмической торговли стандартная максимизация прибыли часто приводит к неоптимальным результатам, так как не учитывает риск. Современные управляющие портфелем максимизируют **риск-скорректированную доходность**. Для этого обычно используется коэффициент Шарпа, но он имеет ограничение: требует расчета за фиксированный период времени $T$, что делает его непригодным для онлайн-обучения.\n",
    "\n",
    "В качестве решения мы используем **Дифференциальный коэффициент Шарпа (Differential Sharpe Ratio, DSR)** (Moody et al., 1998). Эта метрика позволяет оценивать риск-скорректированную доходность на каждом временном шаге $t$ и доказала свою эффективность в задачах портфельной оптимизации (Moody and Saffell, 2001; Dempster and Leemans, 2006).\n",
    "\n",
    "#### Математическая основа\n",
    "\n",
    "Стандартный коэффициент Шарпа за период $t$:\n",
    "$$\n",
    "S_t = \\frac{A_t}{K_t \\sqrt{B_t - A_t^2}}\n",
    "$$\n",
    "- $A_t = \\frac{1}{t}\\sum_{i=1}^{t} R_i$ (средняя доходность) \n",
    "- $B_t = \\frac{1}{t}\\sum_{i=1}^{t} R_i^2$ (средний квадрат доходности)\n",
    "- $K_t = \\sqrt{\\frac{t}{t-1}}$ (нормирующий коэффициент)\n",
    "\n",
    "Для онлайн-обучения мы переходим к экспоненциальному скользящему среднему с параметром скорости обновления $\\eta \\approx \\frac{1}{252}$ (252 торговых дня в году):\n",
    "$$\n",
    "A_t = A_{t-1} + \\eta \\Delta A_t \n",
    "$$\n",
    "$$\n",
    "B_t = B_{t-1} + \\eta \\Delta B_t \n",
    "$$\n",
    "с обновлениями:\n",
    "$$\n",
    "\\Delta A_t = R_t - A_{t-1} \n",
    "$$\n",
    "$$\n",
    "\\Delta B_t = R_t^2 - B_{t-1} \n",
    "$$\n",
    "(инициализация: $A_0 = B_0 = 0$)\n",
    "\n",
    "Разложив $S_t$ в ряд Тейлора до первого порядка:\n",
    "$$\n",
    "S_t \\approx S_{t-1} + \\eta \\left. \\frac{\\partial S_t}{\\partial \\eta} \\right|_{\\eta=0} + O(\\eta^2) \n",
    "$$\n",
    "Получаем искомую награду на шаге $t$:\n",
    "$$\n",
    "D_t \\equiv \\frac{\\partial S_t}{\\partial \\eta} = \\frac{B_{t-1} \\Delta A_t - \\frac{1}{2} A_{t-1} \\Delta B_t}{(B_{t-1} - A_{t-1}^2)^{3/2}}\n",
    "$$"
   ]
  },
  {
   "cell_type": "markdown",
   "id": "6280c3db-99c6-40cb-8e30-db96019b1101",
   "metadata": {},
   "source": [
    "# Тестирование DQN"
   ]
  },
  {
   "cell_type": "code",
   "execution_count": 2,
   "id": "c7926fd7-20fc-4c74-b2e1-efb8d9a82ac0",
   "metadata": {},
   "outputs": [],
   "source": [
    "CONFIG = {\n",
    "    \"ticker\": \"AAPL\",\n",
    "    \"model_type\": \"Linear\",\n",
    "    \"window_size\": 90,\n",
    "    \"price_column\": 3,\n",
    "    \"num_actions\": 11,\n",
    "    \"train_period\": (\"2019-11-13\", \"2024-01-11\"),\n",
    "    \"val_period\": (\"2024-01-11\", \"2025-03-19\"),\n",
    "    \"seed\": 42,\n",
    "    \"default_params\": {\n",
    "        \"learning_rate\": 1e-4,\n",
    "        \"buffer_size\": 100000,\n",
    "        \"learning_starts\": 10000,\n",
    "        \"batch_size\": 128,\n",
    "        \"gamma\": 0.9,\n",
    "        \"exploration_fraction\": 0.3,\n",
    "        \"exploration_initial_eps\": 0.9,\n",
    "        \"exploration_final_eps\": 0.05,\n",
    "        \"tensorboard_log\": \"logs/\"\n",
    "    },\n",
    "    \"optuna\": {\n",
    "        \"n_trials\": 0,\n",
    "        \"timeout\": 7200,  # 1 час\n",
    "        \"direction\": \"maximize\"\n",
    "    }\n",
    "}"
   ]
  },
  {
   "cell_type": "code",
   "execution_count": 3,
   "id": "88f9415b-efe2-49c5-abd0-7f5e5b5c52f1",
   "metadata": {},
   "outputs": [],
   "source": [
    "# Фиксация сидов для воспроизводимости\n",
    "def set_seeds(seed=42):\n",
    "    random.seed(seed)\n",
    "    np.random.seed(seed)\n",
    "    torch.manual_seed(seed)\n",
    "    torch.cuda.manual_seed_all(seed)\n",
    "\n",
    "\n",
    "def create_env(data, scaled_data, time_data, config, mode='train'):\n",
    "    \"\"\"Создает окружение с синхронизированными данными\"\"\"\n",
    "    train_start, train_end = config[\"train_period\"]\n",
    "    val_start, val_end = config[\"val_period\"]\n",
    "    \n",
    "    # Создаем маску для выбранного периода\n",
    "    if mode == 'train':\n",
    "        mask = (data.index >= train_start) & (data.index <= train_end)\n",
    "    else:\n",
    "        mask = (data.index >= val_start) & (data.index <= val_end)\n",
    "    \n",
    "    # Применяем маску\n",
    "    data_segment = data[mask] # исторические данные OLHC\n",
    "    scaled_segment = scaled_data[mask] # признаковое описание (тех индикаторы и тд)\n",
    "    time_segment = time_data[mask] # временные признаки\n",
    "    \n",
    "    # Проверка согласованности\n",
    "    assert len(data_segment) == len(scaled_segment) == len(time_segment), \\\n",
    "        f\"Размеры не совпадают: data={len(data_segment)}, scaled={len(scaled_segment)}, time={len(time_segment)}\"\n",
    "    \n",
    "    env_kwargs = {\n",
    "        \"data\": data_segment[['open', 'high', 'low', 'close']].values.astype(np.float32),\n",
    "        \"scaled_data\": scaled_segment.values.astype(np.float32),\n",
    "        \"time_data\": time_segment.values.astype(np.float32),\n",
    "        \"window_size\": config[\"window_size\"],\n",
    "        \"price_column\": config[\"price_column\"],\n",
    "        \"num_actions\": config[\"num_actions\"], \n",
    "        \"timestamps\": data_segment.index.values\n",
    "    }\n",
    "    \n",
    "    return make_vec_env(\n",
    "        lambda: StockTradingEnvDSR(**env_kwargs),\n",
    "        n_envs=1,\n",
    "        vec_env_cls=DummyVecEnv\n",
    "    )\n",
    "\n",
    "\n",
    "# Конфигурация модели\n",
    "def get_model_config(model_type, trial=None):\n",
    "    \"\"\"Возвращает конфигурацию для выбранного типа модели\"\"\"\n",
    "    base_config = {\n",
    "        \"Linear\": {\n",
    "            \"features_extractor_class\": LinearFeatureExtractor,\n",
    "            \"features_extractor_kwargs\": {\n",
    "                \"features_dim\": trial.suggest_int(\"linear_dim\", 16, 128) if trial else 32\n",
    "            }\n",
    "        },\n",
    "        \"RNN\": {\n",
    "            \"features_extractor_class\": RNNFeatureExtractor,\n",
    "            \"features_extractor_kwargs\": {\n",
    "                \"features_dim\": trial.suggest_int(\"rnn_dim\", 32, 256) if trial else 64,\n",
    "                \"hidden_size\": trial.suggest_int(\"rnn_hidden\", 64, 512) if trial else 128\n",
    "            }\n",
    "        },\n",
    "        \"LSTM\": {\n",
    "            \"features_extractor_class\": LSTMExtractor,\n",
    "            \"features_extractor_kwargs\": {\n",
    "                \"features_dim\": trial.suggest_int(\"lstm_dim\", 32, 256) if trial else 64,\n",
    "                \"hidden_size\": trial.suggest_int(\"lstm_hidden\", 64, 512) if trial else 128\n",
    "            }\n",
    "        }\n",
    "    }\n",
    "    \n",
    "    return base_config.get(model_type, base_config[\"Linear\"])  "
   ]
  },
  {
   "cell_type": "code",
   "execution_count": 15,
   "id": "dbcf324f-ba9f-4bcc-9591-d1ce43b7c48a",
   "metadata": {},
   "outputs": [],
   "source": [
    "def train_model(config, interval='B', trial=None):\n",
    "    \"\"\"Обучает модель с заданной конфигурацией\"\"\"\n",
    "    set_seeds(config[\"seed\"])\n",
    "    \n",
    "    # Получаем синхронизированные данные\n",
    "    data_array, scaled_array, time_array, full_index = prepare_aligned_data(\n",
    "        config[\"ticker\"], config, interval\n",
    "    )\n",
    "    \n",
    "    # Создаем окружения\n",
    "    env_train = create_env(data_array, scaled_array, time_array, config, 'train')\n",
    "    env_val = create_env(data_array, scaled_array, time_array, config, 'val')\n",
    "\n",
    "    params = config[\"default_params\"].copy()\n",
    "\n",
    "    tb_log = params.pop(\"tensorboard_log\")\n",
    "    tb_log_path = f\"save/{tb_log}/{config['model_type']}_{trial.number if trial else 'default'}\"\n",
    "\n",
    "    if trial:\n",
    "        params.update({\n",
    "            \"learning_rate\": trial.suggest_float(\"learning_rate\", 1e-5, 1e-2, log=True),\n",
    "            \"batch_size\": trial.suggest_categorical(\"batch_size\", [32, 64, 128, 256]),\n",
    "            \"gamma\": trial.suggest_float(\"gamma\", 0.9, 0.999),\n",
    "            \"exploration_fraction\": trial.suggest_float(\"exploration_fraction\", 0.1, 0.5),\n",
    "            \"buffer_size\": trial.suggest_int(\"buffer_size\", 5000, 100000)\n",
    "        })\n",
    "    \n",
    "    model_config = get_model_config(config[\"model_type\"], trial=trial)\n",
    "\n",
    "    model = DQN(\n",
    "        \"MlpPolicy\",\n",
    "        env_train,\n",
    "        policy_kwargs=model_config,\n",
    "        verbose=1,\n",
    "        tensorboard_log=tb_log_path,\n",
    "        #replay_buffer_kwargs=dict(optimize_memory_usage=True),\n",
    "        device=\"auto\",\n",
    "        **params\n",
    "    )\n",
    "\n",
    "    print(model_config)\n",
    "    model.learn(\n",
    "        total_timesteps=50000,\n",
    "        callback=ProgressBarCallback(),\n",
    "        log_interval=100,\n",
    "        tb_log_name=f\"{config['model_type']}_{trial.number if trial else 'default'}\"\n",
    "    )\n",
    "    print('Обучение завершено')\n",
    "    #sharpe_ratio, returns, b_h_ret = evaluate_daily_sharpe(model, env_val)\n",
    "    returns, b_h_ret = daily_portfolio_return(env_val, model)\n",
    "    if not trial:\n",
    "        save_path = Path(\"models\", f\"{config['ticker']}_{config['model_type']}\")\n",
    "        model.save(str(save_path))\n",
    "    \n",
    "    metrics = statistics_calc(returns, b_h_ret, plot=True, mode='val', ticker=CONFIG['ticker'])\n",
    "    return metrics, returns, b_h_ret, model\n",
    "\n",
    "def objective(trial):\n",
    "    \"\"\"Целевая функция для оптимизации гиперпараметров\"\"\"\n",
    "    config = CONFIG.copy()\n",
    "    config[\"window_size\"] = trial.suggest_categorical(\"window_size\", [30, 60, 90, 120])\n",
    "    config[\"num_actions\"] = trial.suggest_categorical(\"num_actions\", [3, 5, 11, 19])\n",
    "    # config[\"model_type\"] = trial.suggest_categorical(\"model_type\", [\"Linear\", \"RNN\", \"LSTM\"])\n",
    "    metrics, p1, p2, p3 = train_model(config, trial)\n",
    "    return 0.7 * metrics[\"Sharpe ratio\"].values[0] + 0.3 * metrics[\"Annual return\"].values[0]"
   ]
  },
  {
   "cell_type": "markdown",
   "id": "756c2197-2796-4d14-b902-b711c82be578",
   "metadata": {},
   "source": [
    "Торговля раз в день:"
   ]
  },
  {
   "cell_type": "code",
   "execution_count": 6,
   "id": "8091fb27-c658-41a2-95f3-7ba112ee1b7d",
   "metadata": {},
   "outputs": [
    {
     "name": "stdout",
     "output_type": "stream",
     "text": [
      "Shape of data: (4040, 6) 2010-01-04 00:00:00 2025-06-27 00:00:00\n",
      "feature finance: Index(['f_log_ret', 'f_vol20', 'f_vol60', 'f_vol20/vol60', 'f_ema_10',\n",
      "       'f_ema_20', 'f_rsi', 'f_macd_line', 'f_macd_signal'],\n",
      "      dtype='object')\n",
      "feature time: Index(['day_of_week_sin', 'day_of_week_cos', 'day_of_month_sin',\n",
      "       'day_of_month_cos', 'day_of_year_sin', 'day_of_year_cos',\n",
      "       'week_of_year_sin', 'week_of_year_cos', 'month_sin', 'month_cos',\n",
      "       'quarter_sin', 'quarter_cos', 'is_month_end'],\n",
      "      dtype='object')\n",
      "Using cpu device\n",
      "{'features_extractor_class': <class 'agents.LinearFeatureExtractor'>, 'features_extractor_kwargs': {'features_dim': 32}}\n",
      "Logging to save/logs//Linear_default\\Linear_default_84\n"
     ]
    },
    {
     "data": {
      "application/vnd.jupyter.widget-view+json": {
       "model_id": "012baad32b624506a36c1c51cb92239c",
       "version_major": 2,
       "version_minor": 0
      },
      "text/plain": [
       "Output()"
      ]
     },
     "metadata": {},
     "output_type": "display_data"
    },
    {
     "data": {
      "text/html": [
       "<pre style=\"white-space:pre;overflow-x:auto;line-height:normal;font-family:Menlo,'DejaVu Sans Mono',consolas,'Courier New',monospace\"></pre>\n"
      ],
      "text/plain": []
     },
     "metadata": {},
     "output_type": "display_data"
    },
    {
     "name": "stdout",
     "output_type": "stream",
     "text": [
      "Обучение завершено\n"
     ]
    },
    {
     "data": {
      "image/png": "[encoded data removed]",
      "text/plain": [
       "<Figure size 800x400 with 1 Axes>"
      ]
     },
     "metadata": {},
     "output_type": "display_data"
    },
    {
     "name": "stdout",
     "output_type": "stream",
     "text": [
      "Metrics on val:\n",
      "Sharpe ratio: 1.5241818249788255, annual return: 0.28269553835673, volatility: 0.18547363163883504\n"
     ]
    }
   ],
   "source": [
    "if CONFIG[\"optuna\"][\"n_trials\"] > 0:\n",
    "    # Оптимизация гиперпараметров с Optuna\n",
    "    study = optuna.create_study(\n",
    "        direction=CONFIG[\"optuna\"][\"direction\"],\n",
    "        sampler=TPESampler(seed=CONFIG[\"seed\"])\n",
    "    )\n",
    "\n",
    "    study.optimize(\n",
    "        objective,\n",
    "        n_trials=CONFIG[\"optuna\"][\"n_trials\"],\n",
    "        timeout=CONFIG[\"optuna\"][\"timeout\"],\n",
    "        show_progress_bar=True\n",
    "    )\n",
    "\n",
    "    best_params = study.best_params\n",
    "    \n",
    "    with open(\"best_params.yaml\", \"w\") as f:\n",
    "        yaml.dump(best_params, f)\n",
    "        \n",
    "    print(f\"Лучшие параметры: {best_params}\")\n",
    "    print(f\"Лучшая награда: {study.best_value}\")\n",
    "\n",
    "    # Обучение финальной модели с лучшими параметрами\n",
    "    # CONFIG[\"model_type\"] = best_params[\"model_type\"]\n",
    "    CONFIG[\"window_size\"] = best_params[\"window_size\"]\n",
    "    del best_params[\"window_size\"]\n",
    "    CONFIG[\"default_params\"].update({\n",
    "        k: v for k, v in best_params.items() \n",
    "        if k not in [\"model_type\", \"linear_dim\", \"rnn_dim\", \"rnn_hidden\", \"lstm_dim\", \"lstm_hidden\"]\n",
    "    })\n",
    "    metrics, ret_cur, b_h_ret_cur, model = train_model(CONFIG)\n",
    "else:\n",
    "    # Простое обучение без оптимизации\n",
    "    metrics, ret_cur, b_h_ret_cur, model = train_model(CONFIG)"
   ]
  },
  {
   "cell_type": "code",
   "execution_count": 7,
   "id": "e1a8be11-a102-4d74-a97d-3acb688dbca2",
   "metadata": {},
   "outputs": [
    {
     "name": "stdout",
     "output_type": "stream",
     "text": [
      "Shape of data: (4040, 6) 2010-01-04 00:00:00 2025-06-27 00:00:00\n",
      "feature finance: Index(['f_log_ret', 'f_vol20', 'f_vol60', 'f_vol20/vol60', 'f_ema_10',\n",
      "       'f_ema_20', 'f_rsi', 'f_macd_line', 'f_macd_signal'],\n",
      "      dtype='object')\n",
      "feature time: Index(['day_of_week_sin', 'day_of_week_cos', 'day_of_month_sin',\n",
      "       'day_of_month_cos', 'day_of_year_sin', 'day_of_year_cos',\n",
      "       'week_of_year_sin', 'week_of_year_cos', 'month_sin', 'month_cos',\n",
      "       'quarter_sin', 'quarter_cos', 'is_month_end'],\n",
      "      dtype='object')\n"
     ]
    },
    {
     "data": {
      "image/png": "[encoded data removed]",
      "text/plain": [
       "<Figure size 800x400 with 1 Axes>"
      ]
     },
     "metadata": {},
     "output_type": "display_data"
    },
    {
     "name": "stdout",
     "output_type": "stream",
     "text": [
      "Metrics on train:\n",
      "Sharpe ratio: 3.335235663177882, annual return: 0.879450141128722, volatility: 0.2636845578374404\n"
     ]
    }
   ],
   "source": [
    "data_array, scaled_array, time_array, full_index = prepare_aligned_data(\n",
    "    CONFIG[\"ticker\"], CONFIG\n",
    ")\n",
    "\n",
    "env_train = create_env(data_array, scaled_array, time_array, CONFIG, 'train')\n",
    "\n",
    "ret, b_h = daily_portfolio_return(env_train, model)\n",
    "\n",
    "metrics = statistics_calc(ret, b_h, plot=True, mode='train')"
   ]
  },
  {
   "cell_type": "markdown",
   "id": "0c34475e-929e-4e97-8dee-a8dc816ff8c9",
   "metadata": {},
   "source": [
    "Теперь увеличим количество количество шагов обучения до 1_000_000, а также теперь торговать будем по 5-ти минутным барам."
   ]
  },
  {
   "cell_type": "code",
   "execution_count": 16,
   "id": "22214f22-7e99-4164-9e63-928ecacc67aa",
   "metadata": {},
   "outputs": [
    {
     "name": "stdout",
     "output_type": "stream",
     "text": [
      "Shape of data: (1628131, 6) 2010-01-04 14:30:00 2025-06-27 20:00:00\n",
      "feature finance: Index(['f_log_ret', 'f_vol20', 'f_vol60', 'f_vol20/vol60', 'f_ema_10',\n",
      "       'f_ema_20', 'f_rsi', 'f_macd_line', 'f_macd_signal'],\n",
      "      dtype='object')\n",
      "feature time: Index(['day_of_week_sin', 'day_of_week_cos', 'day_of_month_sin',\n",
      "       'day_of_month_cos', 'day_of_year_sin', 'day_of_year_cos',\n",
      "       'week_of_year_sin', 'week_of_year_cos', 'month_sin', 'month_cos',\n",
      "       'quarter_sin', 'quarter_cos', 'is_month_end'],\n",
      "      dtype='object')\n",
      "Using cpu device\n",
      "{'features_extractor_class': <class 'agents.LinearFeatureExtractor'>, 'features_extractor_kwargs': {'features_dim': 32}}\n",
      "Logging to save/logs//Linear_default\\Linear_default_87\n"
     ]
    },
    {
     "data": {
      "application/vnd.jupyter.widget-view+json": {
       "model_id": "cd5f5fc0a2434d92b57deefb42e8beb7",
       "version_major": 2,
       "version_minor": 0
      },
      "text/plain": [
       "Output()"
      ]
     },
     "metadata": {},
     "output_type": "display_data"
    },
    {
     "data": {
      "text/html": [
       "<pre style=\"white-space:pre;overflow-x:auto;line-height:normal;font-family:Menlo,'DejaVu Sans Mono',consolas,'Courier New',monospace\"></pre>\n"
      ],
      "text/plain": []
     },
     "metadata": {},
     "output_type": "display_data"
    },
    {
     "name": "stdout",
     "output_type": "stream",
     "text": [
      "Обучение завершено\n"
     ]
    },
    {
     "data": {
      "image/png": "[encoded data removed]",
      "text/plain": [
       "<Figure size 800x400 with 1 Axes>"
      ]
     },
     "metadata": {},
     "output_type": "display_data"
    },
    {
     "name": "stdout",
     "output_type": "stream",
     "text": [
      "Metrics on val:\n",
      "Sharpe ratio: 0.41231278273866734, annual return: 0.07370202556390767, volatility: 0.17875270583260475\n"
     ]
    }
   ],
   "source": [
    "metrics, ret_cur, b_h_ret_cur, model = train_model(CONFIG, interval='5min')"
   ]
  },
  {
   "cell_type": "markdown",
   "id": "a45dae74-8e73-4dff-8b6c-65ed815fe9d8",
   "metadata": {},
   "source": [
    "# PPO"
   ]
  },
  {
   "cell_type": "code",
   "execution_count": 2,
   "id": "753297fa-8ee3-45d4-a601-30f59b1d7ac0",
   "metadata": {},
   "outputs": [],
   "source": [
    "CONFIG = {\n",
    "    \"ticker\": \"AAPL\",\n",
    "    \"model_type\": \"Linear\",\n",
    "    \"window_size\": 90,\n",
    "    \"price_column\": 3,\n",
    "    \"num_actions\": 5,\n",
    "    \"training_mode\": \"single\",\n",
    "    \"sliding_window_config\": {\n",
    "        \"train_years\": 5,\n",
    "        \"val_years\": 1,\n",
    "        \"test_years\": 1,\n",
    "        \"start_year\": 2010,\n",
    "        \"n_windows\": 5,\n",
    "        \"n_envs\": 1,\n",
    "        \"n_agents\": 3\n",
    "    },\n",
    "    \"seed\": 42,\n",
    "    \"ppo_params\": {\n",
    "        \"n_steps\": 756,\n",
    "        \"batch_size\": 1260,\n",
    "        \"n_epochs\": 16,\n",
    "        \"gamma\": 0.9,\n",
    "        \"gae_lambda\": 0.9,\n",
    "        \"clip_range\": 0.25,\n",
    "        \"learning_rate\": 3e-4,\n",
    "        \"ent_coef\": 0.01,\n",
    "        \"vf_coef\": 0.5,\n",
    "        \"max_grad_norm\": 0.5,\n",
    "        \"tensorboard_log\": \"logs/\"\n",
    "    },\n",
    "    \"total_timesteps\": 50000,\n",
    "    # Периоды для одиночного режима\n",
    "    \"train_period\": (\"2010-11-13\", \"2023-01-11\"),\n",
    "    \"val_period\": (\"2023-01-11\", \"2025-03-19\"),\n",
    "    \"test_period\": None,  # Для одиночного режима\n",
    "    \"optuna\": {\n",
    "        \"n_trials\": 0,\n",
    "        \"timeout\": 72000,  \n",
    "        \"direction\": \"maximize\"\n",
    "    }\n",
    "}\n"
   ]
  },
  {
   "cell_type": "code",
   "execution_count": 42,
   "id": "e88ae240-92bd-48db-9d33-6aefcdd2b267",
   "metadata": {},
   "outputs": [],
   "source": [
    "def set_seeds(seed=42):\n",
    "    random.seed(seed)\n",
    "    np.random.seed(seed)\n",
    "    torch.manual_seed(seed)\n",
    "    torch.cuda.manual_seed_all(seed)\n",
    "    \n",
    "def create_env(data, scaled_data, time_data, config, mode='train', n_envs=1, period_override=None):\n",
    "    \"\"\"Создает окружение с возможностью переопределения периодов\"\"\"\n",
    "    if period_override:\n",
    "        start, end = period_override\n",
    "    else:\n",
    "        if mode == 'train':\n",
    "            start, end = config.get(\"train_period\", (None, None))\n",
    "        elif mode == 'val':\n",
    "            start, end = config.get(\"val_period\", (None, None))\n",
    "        elif mode == 'test':\n",
    "            start, end = config.get(\"test_period\", (None, None))\n",
    "    \n",
    "    if start is None or end is None:\n",
    "        raise ValueError(f\"Для режима {mode} не заданы периоды\")\n",
    "    \n",
    "    mask = (data.index >= start) & (data.index <= end)\n",
    "    \n",
    "    # Применяем маску\n",
    "    data_segment = data[mask]\n",
    "    scaled_segment = scaled_data[mask]\n",
    "    time_segment = time_data[mask]\n",
    "    \n",
    "    env_kwargs = {\n",
    "        \"data\": data_segment[['open', 'high', 'low', 'close']].values.astype(np.float32),\n",
    "        \"scaled_data\": scaled_segment.values.astype(np.float32),\n",
    "        \"time_data\": time_segment.values.astype(np.float32),\n",
    "        \"window_size\": config[\"window_size\"],\n",
    "        \"price_column\": config[\"price_column\"],\n",
    "        \"num_actions\": config[\"num_actions\"], \n",
    "        \"timestamps\": data_segment.index.values\n",
    "    }\n",
    "    \n",
    "    if n_envs > 1:\n",
    "        return make_vec_env(\n",
    "            lambda: StockTradingEnvDSR(**env_kwargs),\n",
    "            n_envs=n_envs,\n",
    "            vec_env_cls=SubprocVecEnv,\n",
    "            seed=config[\"seed\"]\n",
    "        )\n",
    "    else:\n",
    "        return DummyVecEnv([lambda: StockTradingEnvDSR(**env_kwargs)])\n",
    "\n",
    "def get_model_config(model_type, trial=None):\n",
    "    base_config = {\n",
    "        \"MLP\": {\n",
    "            \"features_extractor_class\": MLPFeatureExtractor,\n",
    "            \"features_extractor_kwargs\": {\n",
    "                \"features_dim\": trial.suggest_int('linear_dim', 32, 256) if trial else 64,\n",
    "                \"hidden_layers\": [256, 128],\n",
    "                \"dropout\": trial.suggest_float('dropout', 0.1, 0.8) if trial else 0.1  # Добавлено условие\n",
    "            }\n",
    "        },\n",
    "        \"Linear\": {\n",
    "            \"features_extractor_class\": LinearFeatureExtractor,\n",
    "            \"features_extractor_kwargs\": {\n",
    "                \"features_dim\": trial.suggest_int('linear_dim', 16, 128) if trial else 32,\n",
    "            }\n",
    "        },\n",
    "        \"RNN\": {\n",
    "            \"features_extractor_class\": RNNFeatureExtractor,\n",
    "            \"features_extractor_kwargs\": {\n",
    "                \"features_dim\": trial.suggest_int('linear_dim', 32, 256) if trial else 64,\n",
    "                \"hidden_size\": trial.suggest_int('hidden_dim', 64, 512) if trial else 128  # Добавлено условие\n",
    "            }\n",
    "        },\n",
    "        \"LSTM\": {\n",
    "            \"features_extractor_class\": LSTMExtractor,\n",
    "            \"features_extractor_kwargs\": {\n",
    "                \"features_dim\": trial.suggest_int('linear_dim', 32, 256) if trial else 64,\n",
    "                \"hidden_size\": trial.suggest_int('hidden_dim', 64, 512) if trial else 128  # Добавлено условие\n",
    "            }\n",
    "        }\n",
    "    }\n",
    "    return base_config.get(model_type, base_config[\"Linear\"])"
   ]
  },
  {
   "cell_type": "code",
   "execution_count": 13,
   "id": "e0ec245e-5f18-4bc2-b2b7-75a3cea87697",
   "metadata": {},
   "outputs": [],
   "source": [
    "def train_single_model(config, interval='B', trial=None):\n",
    "    set_seeds(config[\"seed\"])\n",
    "    \n",
    "    raw_data, scaled_data, time_data, _ = prepare_aligned_data(\n",
    "        config[\"ticker\"], config, interval\n",
    "    )\n",
    "    \n",
    "    # Создаем окружения с использованием периодов из конфига\n",
    "    env_train = create_env(\n",
    "        raw_data, scaled_data, time_data, config,\n",
    "        mode='train', n_envs=5\n",
    "    )\n",
    "    env_val = create_env(\n",
    "        raw_data, scaled_data, time_data, config,\n",
    "        mode='val', n_envs=1\n",
    "    )\n",
    "\n",
    "    # Получаем конфиг экстрактора\n",
    "    policy_kwargs = get_model_config(config[\"model_type\"], trial)\n",
    "    \n",
    "    # Обновляем параметры PPO\n",
    "    ppo_params = config[\"ppo_params\"].copy()\n",
    "    ppo_params[\"policy_kwargs\"] = policy_kwargs\n",
    "    \n",
    "    model = PPO(\n",
    "        \"MlpPolicy\",\n",
    "        env_train,\n",
    "        verbose=1,\n",
    "        **ppo_params\n",
    "    )\n",
    "    \n",
    "    model.learn(total_timesteps=config[\"total_timesteps\"], log_interval=100, callback=ProgressBarCallback())\n",
    "    \n",
    "    returns, b_h_ret = daily_portfolio_return(env_val, model)\n",
    "    metrics = statistics_calc(returns, b_h_ret, plot=True, mode='validation')\n",
    "    \n",
    "    return metrics, returns, b_h_ret, model"
   ]
  },
  {
   "cell_type": "code",
   "execution_count": 14,
   "id": "f9aaac81-8d92-4fb2-bf3f-edba8491290b",
   "metadata": {},
   "outputs": [],
   "source": [
    "def sliding_window_training(config, interval='B', trial=None):\n",
    "    set_seeds(config[\"seed\"])\n",
    "    window_cfg = config[\"sliding_window_config\"]\n",
    "    best_agent = None\n",
    "    all_results = []\n",
    "\n",
    "    raw_data, scaled_data, time_data, _ = prepare_aligned_data(\n",
    "        config[\"ticker\"], config, interval\n",
    "    )\n",
    "    start_year = window_cfg[\"start_year\"]\n",
    "    n_windows = window_cfg[\"n_windows\"]\n",
    "    \n",
    "    for window_idx in range(n_windows):\n",
    "        current_year = start_year + window_idx\n",
    "        print(f\"\\nОкно {window_idx+1}/{n_windows} (Год: {current_year})\")\n",
    "        \n",
    "        # Расчет периодов для текущего окна\n",
    "        train_start = datetime.datetime(current_year, 1, 1)\n",
    "        train_end = train_start + datetime.timedelta(days=365 * window_cfg[\"train_years\"])\n",
    "        val_start = train_end\n",
    "        val_end = val_start + datetime.timedelta(days=365 * window_cfg[\"val_years\"])\n",
    "        test_start = val_end\n",
    "        test_end = test_start + datetime.timedelta(days=365 * window_cfg[\"test_years\"])\n",
    "        \n",
    "        # Создание окружений\n",
    "        env_train = create_env(\n",
    "            raw_data, scaled_data, time_data, config, \n",
    "            n_envs=window_cfg[\"n_envs\"],\n",
    "            period_override=(train_start, train_end)\n",
    "        )\n",
    "        \n",
    "        env_val = create_env(\n",
    "            raw_data, scaled_data, time_data, config,\n",
    "            mode='val', n_envs=1,\n",
    "            period_override=(val_start, val_end)\n",
    "        )\n",
    "        \n",
    "        best_agent_val = None\n",
    "        best_val_reward = -np.inf\n",
    "        \n",
    "        for agent_idx in range(window_cfg[\"n_agents\"]):\n",
    "            print(f\"Обучение агента {agent_idx+1}/{window_cfg['n_agents']}\")\n",
    "            set_seeds(config[\"seed\"] + agent_idx)\n",
    "            \n",
    "            # Получаем конфиг экстрактора\n",
    "            policy_kwargs = get_model_config(config[\"model_type\"], trial)\n",
    "            \n",
    "            # Инициализация модели\n",
    "            if best_agent and window_idx > 0:\n",
    "                model = PPO(\n",
    "                    \"MlpPolicy\",\n",
    "                    env_train,\n",
    "                    **config[\"ppo_params\"],\n",
    "                    policy_kwargs=policy_kwargs\n",
    "                )\n",
    "                model.set_parameters(best_agent.get_parameters())\n",
    "            else:\n",
    "                model = PPO(\n",
    "                    \"MlpPolicy\",\n",
    "                    env_train,\n",
    "                    **config[\"ppo_params\"],\n",
    "                    policy_kwargs=policy_kwargs\n",
    "                )\n",
    "            \n",
    "            # Обучение\n",
    "            model.learn(total_timesteps=config[\"total_timesteps\"], callback=ProgressBarCallback())\n",
    "            \n",
    "            # Оценка\n",
    "            mean_reward, _ = evaluate_policy(\n",
    "                model, env_val, n_eval_episodes=1, deterministic=True\n",
    "            )\n",
    "            print(f\"Агент {agent_idx+1} Средняя награда: {mean_reward:.4f}\")\n",
    "            \n",
    "            if mean_reward > best_val_reward:\n",
    "                best_val_reward = mean_reward\n",
    "                best_agent_val = model\n",
    "        \n",
    "        # Тестирование лучшего агента\n",
    "        env_test = create_env(\n",
    "            raw_data, scaled_data, time_data, config,\n",
    "            mode='test', n_envs=1,\n",
    "            period_override=(test_start, test_end)\n",
    "        )\n",
    "        \n",
    "        returns, b_h_ret = daily_portfolio_return(env_test, best_agent_val)\n",
    "        metrics = statistics_calc(\n",
    "            returns, b_h_ret, \n",
    "            name=f\"Window_{window_idx}\", \n",
    "            plot=False,\n",
    "            mode='test',\n",
    "            ticker=config[\"ticker\"]\n",
    "        )\n",
    "        \n",
    "        all_results.append(metrics)\n",
    "        best_agent = best_agent_val  # Для следующего окна\n",
    "        \n",
    "        # Очистка\n",
    "        del env_train, env_val, env_test\n",
    "        torch.cuda.empty_cache()\n",
    "    \n",
    "    return pd.concat(all_results)"
   ]
  },
  {
   "cell_type": "code",
   "execution_count": 9,
   "id": "45fb1636-9fbd-4f1b-835c-c111082d7a18",
   "metadata": {},
   "outputs": [],
   "source": [
    "def objective(trial):\n",
    "    \"\"\"Целевая функция для оптимизации гиперпараметров\"\"\"\n",
    "    config = CONFIG.copy()\n",
    "    config[\"window_size\"] = trial.suggest_categorical(\"window_size\", [30, 60, 90, 120, 200])\n",
    "    config[\"num_actions\"] = trial.suggest_categorical(\"num_actions\", [3, 5, 11, 19, 27])\n",
    "    config[\"total_timesteps\"] = trial.suggest_categorical(\"total_timesteps\", [30000, 50000, 100000])\n",
    "    config[\"ppo_params\"][\"n_steps\"] = trial.suggest_int(\"n_steps\", 128, 2048, step=128)\n",
    "    # Размер батча для обучения (должен делиться на n_steps)\n",
    "    config[\"ppo_params\"][\"batch_size\"] = trial.suggest_categorical(\"batch_size\", [64, 128, 256, 512, 1024, 2048])\n",
    "    # Число проходов (эпох) по собранному батчу\n",
    "    config[\"ppo_params\"][\"n_epochs\"] = trial.suggest_int(\"n_epochs\", 3, 30)\n",
    "    # Дисконт-фактор\n",
    "    config[\"ppo_params\"][\"gamma\"] = trial.suggest_float(\"gamma\", 0.90, 0.9999, step=0.001)\n",
    "    # Лямбда для GAE\n",
    "    config[\"ppo_params\"][\"gae_lambda\"] = trial.suggest_float(\"gae_lambda\", 0.8, 1.0, step=0.01)\n",
    "    # Диапазон “обрезки” вероятностей\n",
    "    config[\"ppo_params\"][\"clip_range\"] = trial.suggest_float(\"clip_range\", 0.1, 0.4, step=0.05)\n",
    "    # Скорость обучения\n",
    "    config[\"ppo_params\"][\"learning_rate\"] = trial.suggest_loguniform(\"learning_rate\", 1e-5, 1e-3)\n",
    "    # Коэффициент энтропийного бонуса\n",
    "    config[\"ppo_params\"][\"ent_coef\"] = trial.suggest_loguniform(\"ent_coef\", 1e-5, 1e-1)\n",
    "    # Коэффициент потерь value-функции\n",
    "    config[\"ppo_params\"][\"vf_coef\"] = trial.suggest_float(\"vf_coef\", 0.1, 1.0, step=0.1)\n",
    "    # Максимальная норма градиента\n",
    "    config[\"ppo_params\"][\"max_grad_norm\"] = trial.suggest_float(\"max_grad_norm\", 0.1, 1.0)\n",
    "    # config[\"model_type\"] = trial.suggest_categorical(\"model_type\", [\"Linear\", \"RNN\", \"LSTM\"])\n",
    "                                                                \n",
    "    min_acceptable_return = 0.05\n",
    "    all_results = sliding_window_training(config, trial=trial)\n",
    "    annual_return = all_results[\"Annual return\"].mean()\n",
    "    sharpe = all_results[\"Sharpe ratio\"].mean()\n",
    "    vol = all_results[\"Volatility\"].mean()\n",
    "    if annual_return < min_acceptable_return:\n",
    "        return annual_return - 1.0\n",
    "    return 0.7 * all_results[\"Sharpe ratio\"].mean() + 0.3 * all_results[\"Annual return\"].mean() - 0.1 * vol"
   ]
  },
  {
   "cell_type": "code",
   "execution_count": 8,
   "id": "63d877aa-96ce-4535-ab1e-a31138f6acc5",
   "metadata": {},
   "outputs": [],
   "source": [
    "set_seeds(CONFIG[\"seed\"])\n",
    "Path(\"save\", \"models\").parent.mkdir(exist_ok=True)\n",
    "Path(\"save\", \"logs\").parent.mkdir(exist_ok=True)"
   ]
  },
  {
   "cell_type": "code",
   "execution_count": 16,
   "id": "6734fd81-2a4d-4403-8fd0-6a197b79314b",
   "metadata": {},
   "outputs": [
    {
     "name": "stdout",
     "output_type": "stream",
     "text": [
      "Shape of data: (4040, 6) 2010-01-04 00:00:00 2025-06-27 00:00:00\n",
      "feature finance: Index(['f_log_ret', 'f_vol20', 'f_vol60', 'f_vol20/vol60', 'f_ema_10',\n",
      "       'f_ema_20', 'f_rsi', 'f_macd_line', 'f_macd_signal'],\n",
      "      dtype='object')\n",
      "feature time: Index(['day_of_week_sin', 'day_of_week_cos', 'day_of_month_sin',\n",
      "       'day_of_month_cos', 'day_of_year_sin', 'day_of_year_cos',\n",
      "       'week_of_year_sin', 'week_of_year_cos', 'month_sin', 'month_cos',\n",
      "       'quarter_sin', 'quarter_cos', 'is_month_end'],\n",
      "      dtype='object')\n",
      "Using cpu device\n",
      "Logging to logs/PPO_6\n"
     ]
    },
    {
     "data": {
      "application/vnd.jupyter.widget-view+json": {
       "model_id": "a15f6224cc6c4be5950cdf46db49c100",
       "version_major": 2,
       "version_minor": 0
      },
      "text/plain": [
       "Output()"
      ]
     },
     "metadata": {},
     "output_type": "display_data"
    },
    {
     "data": {
      "text/html": [
       "<pre style=\"white-space:pre;overflow-x:auto;line-height:normal;font-family:Menlo,'DejaVu Sans Mono',consolas,'Courier New',monospace\"></pre>\n"
      ],
      "text/plain": []
     },
     "metadata": {},
     "output_type": "display_data"
    },
    {
     "data": {
      "image/png": "[encoded data removed]",
      "text/plain": [
       "<Figure size 800x400 with 1 Axes>"
      ]
     },
     "metadata": {},
     "output_type": "display_data"
    },
    {
     "name": "stdout",
     "output_type": "stream",
     "text": [
      "Metrics on validation:\n",
      "Sharpe ratio: 2.0789844043988084, annual return: 0.3195661235361639, volatility: 0.15371261220623475\n"
     ]
    }
   ],
   "source": [
    "if CONFIG[\"optuna\"][\"n_trials\"] > 0:\n",
    "    # Оптимизация гиперпараметров с Optuna\n",
    "    study = optuna.create_study(\n",
    "        direction=CONFIG[\"optuna\"][\"direction\"],\n",
    "        sampler=TPESampler(seed=CONFIG[\"seed\"])\n",
    "    )\n",
    "\n",
    "    study.optimize(\n",
    "        objective,\n",
    "        n_trials=CONFIG[\"optuna\"][\"n_trials\"],\n",
    "        timeout=CONFIG[\"optuna\"][\"timeout\"],\n",
    "        show_progress_bar=True\n",
    "    )\n",
    "\n",
    "    best_params = study.best_params\n",
    "    \n",
    "    with open(\"best_params.yaml\", \"w\") as f:\n",
    "        yaml.dump(best_params, f)\n",
    "        \n",
    "    print(f\"Лучшие параметры: {best_params}\")\n",
    "    print(f\"Лучшая награда: {study.best_value}\")\n",
    "else:\n",
    "    # Простое обучение без оптимизации\n",
    "    metrics, ret_cur, b_h_ret_cur, model = train_single_model(CONFIG)"
   ]
  },
  {
   "cell_type": "code",
   "execution_count": 17,
   "id": "2d7dcb22-d819-4e81-9718-f4e4d4c2e84f",
   "metadata": {},
   "outputs": [
    {
     "name": "stdout",
     "output_type": "stream",
     "text": [
      "Shape of data: (1628131, 6) 2010-01-04 14:30:00 2025-06-27 20:00:00\n",
      "feature finance: Index(['f_log_ret', 'f_vol20', 'f_vol60', 'f_vol20/vol60', 'f_ema_10',\n",
      "       'f_ema_20', 'f_rsi', 'f_macd_line', 'f_macd_signal'],\n",
      "      dtype='object')\n",
      "feature time: Index(['day_of_week_sin', 'day_of_week_cos', 'day_of_month_sin',\n",
      "       'day_of_month_cos', 'day_of_year_sin', 'day_of_year_cos',\n",
      "       'week_of_year_sin', 'week_of_year_cos', 'month_sin', 'month_cos',\n",
      "       'quarter_sin', 'quarter_cos', 'is_month_end'],\n",
      "      dtype='object')\n",
      "Using cpu device\n",
      "Logging to logs/PPO_7\n"
     ]
    },
    {
     "data": {
      "application/vnd.jupyter.widget-view+json": {
       "model_id": "b710bca50e524873b85c63e08875afb9",
       "version_major": 2,
       "version_minor": 0
      },
      "text/plain": [
       "Output()"
      ]
     },
     "metadata": {},
     "output_type": "display_data"
    },
    {
     "data": {
      "text/html": [
       "<pre style=\"white-space:pre;overflow-x:auto;line-height:normal;font-family:Menlo,'DejaVu Sans Mono',consolas,'Courier New',monospace\"></pre>\n"
      ],
      "text/plain": []
     },
     "metadata": {},
     "output_type": "display_data"
    },
    {
     "data": {
      "image/png": "[encoded data removed]",
      "text/plain": [
       "<Figure size 800x400 with 1 Axes>"
      ]
     },
     "metadata": {},
     "output_type": "display_data"
    },
    {
     "name": "stdout",
     "output_type": "stream",
     "text": [
      "Metrics on validation:\n",
      "Sharpe ratio: 0.9965321585410957, annual return: 0.17200668357997573, volatility: 0.17260525122620254\n"
     ]
    }
   ],
   "source": [
    "metrics, ret_cur, b_h_ret_cur, model = train_single_model(CONFIG, interval='5min')"
   ]
  },
  {
   "cell_type": "markdown",
   "id": "9d95d494-e72b-41d6-9adf-52cab4e8b05d",
   "metadata": {},
   "source": [
    "# Подбор гиперпараметров"
   ]
  },
  {
   "cell_type": "markdown",
   "id": "68181b36-3370-40dc-acd5-2e1f896beee5",
   "metadata": {},
   "source": [
    "В статье [Deep Reinforcement Learning for Optimal Portfolio Allocation: A Comparative\n",
    "Study with Mean-Variance Optimization](https://icaps23.icaps-conference.org/papers/finplan/FinPlan23_paper_4.pdf), где был был произведен подробный подбор параметров PPO модели. Вот полученный набор из статьи:\n",
    "- \"n_steps\": 756\n",
    "- \"batch_size\": 1260\n",
    "- \"n_epochs\": 16\n",
    "- \"gamma\": 0.9\n",
    "- \"gae_lambda\": 0.9\n",
    "- \"clip_range\": 0.25\n",
    "- \"learning_rate\": 3e-4\n",
    "- \"ent_coef\": 0.01\n",
    "- \"vf_coef\": 0.5\n",
    "- \"max_grad_norm\": 0.5\n",
    "\n",
    "В той статье решалась задача портфельной оптимизации, а мы рассматриваем один актив, поэтому стоит провести свой независимый подбор гиперпараметров."
   ]
  },
  {
   "cell_type": "code",
   "execution_count": 35,
   "id": "2997bc01-55b1-4ed5-999b-5ff75575933f",
   "metadata": {},
   "outputs": [],
   "source": [
    "CONFIG = {\n",
    "    \"ticker\": \"AAPL\",\n",
    "    \"model_type\": \"Linear\",\n",
    "    \"window_size\": 90,\n",
    "    \"price_column\": 3,\n",
    "    \"num_actions\": 5,\n",
    "    \"training_mode\": \"single\",\n",
    "    \"sliding_window_config\": {\n",
    "        \"train_years\": 5,\n",
    "        \"val_years\": 1,\n",
    "        \"test_years\": 1,\n",
    "        \"start_year\": 2010,\n",
    "        \"n_windows\": 5,\n",
    "        \"n_envs\": 1,\n",
    "        \"n_agents\": 3\n",
    "    },\n",
    "    \"seed\": 42,\n",
    "    \"ppo_params\": {\n",
    "        \"n_steps\": 756,\n",
    "        \"batch_size\": 1260,\n",
    "        \"n_epochs\": 16,\n",
    "        \"gamma\": 0.9,\n",
    "        \"gae_lambda\": 0.9,\n",
    "        \"clip_range\": 0.25,\n",
    "        \"learning_rate\": 3e-4,\n",
    "        \"ent_coef\": 0.01,\n",
    "        \"vf_coef\": 0.5,\n",
    "        \"max_grad_norm\": 0.5,\n",
    "        \"tensorboard_log\": \"logs/\"\n",
    "    },\n",
    "    \"total_timesteps\": 50000,\n",
    "    # Периоды для одиночного режима\n",
    "    \"train_period\": (\"2010-11-13\", \"2023-01-11\"),\n",
    "    \"val_period\": (\"2023-01-11\", \"2025-03-19\"),\n",
    "    \"test_period\": None,  # Для одиночного режима\n",
    "    \"optuna\": {\n",
    "        \"n_trials\": 15,\n",
    "        \"timeout\": 72000,  \n",
    "        \"direction\": \"maximize\"\n",
    "    }\n",
    "}\n"
   ]
  },
  {
   "cell_type": "code",
   "execution_count": 38,
   "id": "31e47b3a-eb75-4cb7-bb49-1b86b521f92a",
   "metadata": {
    "scrolled": true
   },
   "outputs": [
    {
     "name": "stderr",
     "output_type": "stream",
     "text": [
      "[I 2025-07-24 14:03:21,405] A new study created in memory with name: no-name-c2713b29-d4ef-4e79-8289-6e39e13afa68\n"
     ]
    },
    {
     "data": {
      "application/vnd.jupyter.widget-view+json": {
       "model_id": "08b63a2c08aa49dcac148397eb88ccf8",
       "version_major": 2,
       "version_minor": 0
      },
      "text/plain": [
       "  0%|          | 0/15 [00:00<?, ?it/s]"
      ]
     },
     "metadata": {},
     "output_type": "display_data"
    },
    {
     "data": {
      "application/vnd.jupyter.widget-view+json": {
       "model_id": "7b50012ab0494548823647a9e70c6fbf",
       "version_major": 2,
       "version_minor": 0
      },
      "text/plain": [
       "Output()"
      ]
     },
     "metadata": {},
     "output_type": "display_data"
    },
    {
     "name": "stdout",
     "output_type": "stream",
     "text": [
      "Shape of data: (4040, 6) 2010-01-04 00:00:00 2025-06-27 00:00:00\n",
      "feature finance: Index(['f_log_ret', 'f_vol20', 'f_vol60', 'f_vol20/vol60', 'f_ema_10',\n",
      "       'f_ema_20', 'f_rsi', 'f_macd_line', 'f_macd_signal'],\n",
      "      dtype='object')\n",
      "feature time: Index(['day_of_week_sin', 'day_of_week_cos', 'day_of_month_sin',\n",
      "       'day_of_month_cos', 'day_of_year_sin', 'day_of_year_cos',\n",
      "       'week_of_year_sin', 'week_of_year_cos', 'month_sin', 'month_cos',\n",
      "       'quarter_sin', 'quarter_cos', 'is_month_end'],\n",
      "      dtype='object')\n",
      "\n",
      "Окно 1/5 (Год: 2010)\n",
      "Обучение агента 1/3\n"
     ]
    },
    {
     "data": {
      "text/html": [
       "<pre style=\"white-space:pre;overflow-x:auto;line-height:normal;font-family:Menlo,'DejaVu Sans Mono',consolas,'Courier New',monospace\"></pre>\n"
      ],
      "text/plain": []
     },
     "metadata": {},
     "output_type": "display_data"
    },
    {
     "data": {
      "application/vnd.jupyter.widget-view+json": {
       "model_id": "f515f04e34874a1f8e273c5c634be5ab",
       "version_major": 2,
       "version_minor": 0
      },
      "text/plain": [
       "Output()"
      ]
     },
     "metadata": {},
     "output_type": "display_data"
    },
    {
     "name": "stdout",
     "output_type": "stream",
     "text": [
      "Агент 1 Средняя награда: -32.1803\n",
      "Обучение агента 2/3\n"
     ]
    },
    {
     "data": {
      "text/html": [
       "<pre style=\"white-space:pre;overflow-x:auto;line-height:normal;font-family:Menlo,'DejaVu Sans Mono',consolas,'Courier New',monospace\"></pre>\n"
      ],
      "text/plain": []
     },
     "metadata": {},
     "output_type": "display_data"
    },
    {
     "data": {
      "application/vnd.jupyter.widget-view+json": {
       "model_id": "635bb45940f74c87b274f0d84f0db7fc",
       "version_major": 2,
       "version_minor": 0
      },
      "text/plain": [
       "Output()"
      ]
     },
     "metadata": {},
     "output_type": "display_data"
    },
    {
     "name": "stdout",
     "output_type": "stream",
     "text": [
      "Агент 2 Средняя награда: 105.7639\n",
      "Обучение агента 3/3\n"
     ]
    },
    {
     "data": {
      "text/html": [
       "<pre style=\"white-space:pre;overflow-x:auto;line-height:normal;font-family:Menlo,'DejaVu Sans Mono',consolas,'Courier New',monospace\"></pre>\n"
      ],
      "text/plain": []
     },
     "metadata": {},
     "output_type": "display_data"
    },
    {
     "data": {
      "application/vnd.jupyter.widget-view+json": {
       "model_id": "5863d021918148b6b458703e5b291646",
       "version_major": 2,
       "version_minor": 0
      },
      "text/plain": [
       "Output()"
      ]
     },
     "metadata": {},
     "output_type": "display_data"
    },
    {
     "name": "stdout",
     "output_type": "stream",
     "text": [
      "Агент 3 Средняя награда: -25.9519\n",
      "\n",
      "Окно 2/5 (Год: 2011)\n",
      "Обучение агента 1/3\n"
     ]
    },
    {
     "data": {
      "text/html": [
       "<pre style=\"white-space:pre;overflow-x:auto;line-height:normal;font-family:Menlo,'DejaVu Sans Mono',consolas,'Courier New',monospace\"></pre>\n"
      ],
      "text/plain": []
     },
     "metadata": {},
     "output_type": "display_data"
    },
    {
     "data": {
      "application/vnd.jupyter.widget-view+json": {
       "model_id": "6c3dd1abb238486780b5354f25288a61",
       "version_major": 2,
       "version_minor": 0
      },
      "text/plain": [
       "Output()"
      ]
     },
     "metadata": {},
     "output_type": "display_data"
    },
    {
     "name": "stdout",
     "output_type": "stream",
     "text": [
      "Агент 1 Средняя награда: -13.4814\n",
      "Обучение агента 2/3\n"
     ]
    },
    {
     "data": {
      "text/html": [
       "<pre style=\"white-space:pre;overflow-x:auto;line-height:normal;font-family:Menlo,'DejaVu Sans Mono',consolas,'Courier New',monospace\"></pre>\n"
      ],
      "text/plain": []
     },
     "metadata": {},
     "output_type": "display_data"
    },
    {
     "data": {
      "application/vnd.jupyter.widget-view+json": {
       "model_id": "12701d265ede4320895c07452c527d4c",
       "version_major": 2,
       "version_minor": 0
      },
      "text/plain": [
       "Output()"
      ]
     },
     "metadata": {},
     "output_type": "display_data"
    },
    {
     "name": "stdout",
     "output_type": "stream",
     "text": [
      "Агент 2 Средняя награда: -9.2380\n",
      "Обучение агента 3/3\n"
     ]
    },
    {
     "data": {
      "text/html": [
       "<pre style=\"white-space:pre;overflow-x:auto;line-height:normal;font-family:Menlo,'DejaVu Sans Mono',consolas,'Courier New',monospace\"></pre>\n"
      ],
      "text/plain": []
     },
     "metadata": {},
     "output_type": "display_data"
    },
    {
     "data": {
      "application/vnd.jupyter.widget-view+json": {
       "model_id": "1c53022200da4172a9538e4671b8fefd",
       "version_major": 2,
       "version_minor": 0
      },
      "text/plain": [
       "Output()"
      ]
     },
     "metadata": {},
     "output_type": "display_data"
    },
    {
     "data": {
      "text/html": [
       "<pre style=\"white-space:pre;overflow-x:auto;line-height:normal;font-family:Menlo,'DejaVu Sans Mono',consolas,'Courier New',monospace\"></pre>\n"
      ],
      "text/plain": []
     },
     "metadata": {},
     "output_type": "display_data"
    },
    {
     "data": {
      "application/vnd.jupyter.widget-view+json": {
       "model_id": "a5fc316ec6d045d5a764e6456f9ac9d9",
       "version_major": 2,
       "version_minor": 0
      },
      "text/plain": [
       "Output()"
      ]
     },
     "metadata": {},
     "output_type": "display_data"
    },
    {
     "name": "stdout",
     "output_type": "stream",
     "text": [
      "Агент 1 Средняя награда: 93.8318\n",
      "Обучение агента 2/3\n"
     ]
    },
    {
     "data": {
      "text/html": [
       "<pre style=\"white-space:pre;overflow-x:auto;line-height:normal;font-family:Menlo,'DejaVu Sans Mono',consolas,'Courier New',monospace\"></pre>\n"
      ],
      "text/plain": []
     },
     "metadata": {},
     "output_type": "display_data"
    },
    {
     "data": {
      "application/vnd.jupyter.widget-view+json": {
       "model_id": "0555b1a4c61e433185421298ede409a9",
       "version_major": 2,
       "version_minor": 0
      },
      "text/plain": [
       "Output()"
      ]
     },
     "metadata": {},
     "output_type": "display_data"
    },
    {
     "name": "stdout",
     "output_type": "stream",
     "text": [
      "Агент 2 Средняя награда: -30.0316\n",
      "Обучение агента 3/3\n"
     ]
    },
    {
     "data": {
      "text/html": [
       "<pre style=\"white-space:pre;overflow-x:auto;line-height:normal;font-family:Menlo,'DejaVu Sans Mono',consolas,'Courier New',monospace\"></pre>\n"
      ],
      "text/plain": []
     },
     "metadata": {},
     "output_type": "display_data"
    },
    {
     "data": {
      "application/vnd.jupyter.widget-view+json": {
       "model_id": "a609ae643c114e3a9be74727f195d3d8",
       "version_major": 2,
       "version_minor": 0
      },
      "text/plain": [
       "Output()"
      ]
     },
     "metadata": {},
     "output_type": "display_data"
    },
    {
     "data": {
      "text/html": [
       "<pre style=\"white-space:pre;overflow-x:auto;line-height:normal;font-family:Menlo,'DejaVu Sans Mono',consolas,'Courier New',monospace\"></pre>\n"
      ],
      "text/plain": []
     },
     "metadata": {},
     "output_type": "display_data"
    },
    {
     "data": {
      "application/vnd.jupyter.widget-view+json": {
       "model_id": "a92f1c2ce3da441a84e4971295f6d58c",
       "version_major": 2,
       "version_minor": 0
      },
      "text/plain": [
       "Output()"
      ]
     },
     "metadata": {},
     "output_type": "display_data"
    },
    {
     "name": "stdout",
     "output_type": "stream",
     "text": [
      "Агент 1 Средняя награда: -91.3535\n",
      "Обучение агента 2/3\n"
     ]
    },
    {
     "data": {
      "text/html": [
       "<pre style=\"white-space:pre;overflow-x:auto;line-height:normal;font-family:Menlo,'DejaVu Sans Mono',consolas,'Courier New',monospace\"></pre>\n"
      ],
      "text/plain": []
     },
     "metadata": {},
     "output_type": "display_data"
    },
    {
     "data": {
      "application/vnd.jupyter.widget-view+json": {
       "model_id": "3fb72b78691640e391214c1caf158060",
       "version_major": 2,
       "version_minor": 0
      },
      "text/plain": [
       "Output()"
      ]
     },
     "metadata": {},
     "output_type": "display_data"
    },
    {
     "name": "stdout",
     "output_type": "stream",
     "text": [
      "Агент 2 Средняя награда: -76.5691\n",
      "Обучение агента 3/3\n"
     ]
    },
    {
     "data": {
      "text/html": [
       "<pre style=\"white-space:pre;overflow-x:auto;line-height:normal;font-family:Menlo,'DejaVu Sans Mono',consolas,'Courier New',monospace\"></pre>\n"
      ],
      "text/plain": []
     },
     "metadata": {},
     "output_type": "display_data"
    },
    {
     "data": {
      "application/vnd.jupyter.widget-view+json": {
       "model_id": "3aef05e3df8e405291d47a617b384b7f",
       "version_major": 2,
       "version_minor": 0
      },
      "text/plain": [
       "Output()"
      ]
     },
     "metadata": {},
     "output_type": "display_data"
    },
    {
     "name": "stdout",
     "output_type": "stream",
     "text": [
      "Агент 3 Средняя награда: -85.8054\n",
      "\n",
      "Окно 5/5 (Год: 2014)\n",
      "Обучение агента 1/3\n"
     ]
    },
    {
     "data": {
      "text/html": [
       "<pre style=\"white-space:pre;overflow-x:auto;line-height:normal;font-family:Menlo,'DejaVu Sans Mono',consolas,'Courier New',monospace\"></pre>\n"
      ],
      "text/plain": []
     },
     "metadata": {},
     "output_type": "display_data"
    },
    {
     "data": {
      "application/vnd.jupyter.widget-view+json": {
       "model_id": "0e3d7108d0734150ad4b0dfe90904e15",
       "version_major": 2,
       "version_minor": 0
      },
      "text/plain": [
       "Output()"
      ]
     },
     "metadata": {},
     "output_type": "display_data"
    },
    {
     "name": "stdout",
     "output_type": "stream",
     "text": [
      "Агент 1 Средняя награда: -20.4966\n",
      "Обучение агента 2/3\n"
     ]
    },
    {
     "data": {
      "text/html": [
       "<pre style=\"white-space:pre;overflow-x:auto;line-height:normal;font-family:Menlo,'DejaVu Sans Mono',consolas,'Courier New',monospace\"></pre>\n"
      ],
      "text/plain": []
     },
     "metadata": {},
     "output_type": "display_data"
    },
    {
     "data": {
      "application/vnd.jupyter.widget-view+json": {
       "model_id": "3707937c14e04e41845d9387a7dc3379",
       "version_major": 2,
       "version_minor": 0
      },
      "text/plain": [
       "Output()"
      ]
     },
     "metadata": {},
     "output_type": "display_data"
    },
    {
     "name": "stdout",
     "output_type": "stream",
     "text": [
      "Агент 2 Средняя награда: 13.6552\n",
      "Обучение агента 3/3\n"
     ]
    },
    {
     "data": {
      "text/html": [
       "<pre style=\"white-space:pre;overflow-x:auto;line-height:normal;font-family:Menlo,'DejaVu Sans Mono',consolas,'Courier New',monospace\"></pre>\n"
      ],
      "text/plain": []
     },
     "metadata": {},
     "output_type": "display_data"
    },
    {
     "name": "stdout",
     "output_type": "stream",
     "text": [
      "Агент 3 Средняя награда: -842.9997\n",
      "[I 2025-07-24 14:14:48,060] Trial 0 finished with value: 0.8519309593656232 and parameters: {'window_size': 60, 'num_actions': 11, 'total_timesteps': 50000, 'n_steps': 512, 'batch_size': 512, 'n_epochs': 20, 'gamma': 0.913, 'gae_lambda': 0.8600000000000001, 'clip_range': 0.2, 'learning_rate': 8.168455894760161e-05, 'ent_coef': 0.013826232179369865, 'vf_coef': 0.2, 'max_grad_norm': 0.5628109945722505, 'linear_dim': 165, 'dropout': 0.1325152889039984, 'hidden_dim': 336}. Best is trial 0 with value: 0.8519309593656232.\n"
     ]
    },
    {
     "data": {
      "application/vnd.jupyter.widget-view+json": {
       "model_id": "bd869f42ac7348d1908d9b67c15814f1",
       "version_major": 2,
       "version_minor": 0
      },
      "text/plain": [
       "Output()"
      ]
     },
     "metadata": {},
     "output_type": "display_data"
    },
    {
     "name": "stdout",
     "output_type": "stream",
     "text": [
      "Shape of data: (4040, 6) 2010-01-04 00:00:00 2025-06-27 00:00:00\n",
      "feature finance: Index(['f_log_ret', 'f_vol20', 'f_vol60', 'f_vol20/vol60', 'f_ema_10',\n",
      "       'f_ema_20', 'f_rsi', 'f_macd_line', 'f_macd_signal'],\n",
      "      dtype='object')\n",
      "feature time: Index(['day_of_week_sin', 'day_of_week_cos', 'day_of_month_sin',\n",
      "       'day_of_month_cos', 'day_of_year_sin', 'day_of_year_cos',\n",
      "       'week_of_year_sin', 'week_of_year_cos', 'month_sin', 'month_cos',\n",
      "       'quarter_sin', 'quarter_cos', 'is_month_end'],\n",
      "      dtype='object')\n",
      "\n",
      "Окно 1/5 (Год: 2010)\n",
      "Обучение агента 1/3\n"
     ]
    },
    {
     "data": {
      "text/html": [
       "<pre style=\"white-space:pre;overflow-x:auto;line-height:normal;font-family:Menlo,'DejaVu Sans Mono',consolas,'Courier New',monospace\"></pre>\n"
      ],
      "text/plain": []
     },
     "metadata": {},
     "output_type": "display_data"
    },
    {
     "data": {
      "application/vnd.jupyter.widget-view+json": {
       "model_id": "4bb700f49da74db7891c02ead155e810",
       "version_major": 2,
       "version_minor": 0
      },
      "text/plain": [
       "Output()"
      ]
     },
     "metadata": {},
     "output_type": "display_data"
    },
    {
     "name": "stdout",
     "output_type": "stream",
     "text": [
      "Агент 1 Средняя награда: 278.4265\n",
      "Обучение агента 2/3\n"
     ]
    },
    {
     "data": {
      "text/html": [
       "<pre style=\"white-space:pre;overflow-x:auto;line-height:normal;font-family:Menlo,'DejaVu Sans Mono',consolas,'Courier New',monospace\"></pre>\n"
      ],
      "text/plain": []
     },
     "metadata": {},
     "output_type": "display_data"
    },
    {
     "data": {
      "application/vnd.jupyter.widget-view+json": {
       "model_id": "d97f2f0f2c7f4cf4a3ada4e9f9302a62",
       "version_major": 2,
       "version_minor": 0
      },
      "text/plain": [
       "Output()"
      ]
     },
     "metadata": {},
     "output_type": "display_data"
    },
    {
     "name": "stdout",
     "output_type": "stream",
     "text": [
      "Агент 2 Средняя награда: 29.9978\n",
      "Обучение агента 3/3\n"
     ]
    },
    {
     "data": {
      "text/html": [
       "<pre style=\"white-space:pre;overflow-x:auto;line-height:normal;font-family:Menlo,'DejaVu Sans Mono',consolas,'Courier New',monospace\"></pre>\n"
      ],
      "text/plain": []
     },
     "metadata": {},
     "output_type": "display_data"
    },
    {
     "data": {
      "application/vnd.jupyter.widget-view+json": {
       "model_id": "0ba1592ff6d14db6be351cefdf371ee7",
       "version_major": 2,
       "version_minor": 0
      },
      "text/plain": [
       "Output()"
      ]
     },
     "metadata": {},
     "output_type": "display_data"
    },
    {
     "name": "stdout",
     "output_type": "stream",
     "text": [
      "Агент 3 Средняя награда: 33.5513\n",
      "\n",
      "Окно 2/5 (Год: 2011)\n",
      "Обучение агента 1/3\n"
     ]
    },
    {
     "data": {
      "text/html": [
       "<pre style=\"white-space:pre;overflow-x:auto;line-height:normal;font-family:Menlo,'DejaVu Sans Mono',consolas,'Courier New',monospace\"></pre>\n"
      ],
      "text/plain": []
     },
     "metadata": {},
     "output_type": "display_data"
    },
    {
     "data": {
      "application/vnd.jupyter.widget-view+json": {
       "model_id": "82fea83aa99148e88b26fdd3f9db82e2",
       "version_major": 2,
       "version_minor": 0
      },
      "text/plain": [
       "Output()"
      ]
     },
     "metadata": {},
     "output_type": "display_data"
    },
    {
     "name": "stdout",
     "output_type": "stream",
     "text": [
      "Агент 1 Средняя награда: 8.0247\n",
      "Обучение агента 2/3\n"
     ]
    },
    {
     "data": {
      "text/html": [
       "<pre style=\"white-space:pre;overflow-x:auto;line-height:normal;font-family:Menlo,'DejaVu Sans Mono',consolas,'Courier New',monospace\"></pre>\n"
      ],
      "text/plain": []
     },
     "metadata": {},
     "output_type": "display_data"
    },
    {
     "data": {
      "application/vnd.jupyter.widget-view+json": {
       "model_id": "5deb439e30bb4cfea1447781f65c54e2",
       "version_major": 2,
       "version_minor": 0
      },
      "text/plain": [
       "Output()"
      ]
     },
     "metadata": {},
     "output_type": "display_data"
    },
    {
     "name": "stdout",
     "output_type": "stream",
     "text": [
      "Агент 2 Средняя награда: 42.5654\n",
      "Обучение агента 3/3\n"
     ]
    },
    {
     "data": {
      "text/html": [
       "<pre style=\"white-space:pre;overflow-x:auto;line-height:normal;font-family:Menlo,'DejaVu Sans Mono',consolas,'Courier New',monospace\"></pre>\n"
      ],
      "text/plain": []
     },
     "metadata": {},
     "output_type": "display_data"
    },
    {
     "data": {
      "application/vnd.jupyter.widget-view+json": {
       "model_id": "fb300c0d280a4ed4b30c59acfc16db05",
       "version_major": 2,
       "version_minor": 0
      },
      "text/plain": [
       "Output()"
      ]
     },
     "metadata": {},
     "output_type": "display_data"
    },
    {
     "name": "stdout",
     "output_type": "stream",
     "text": [
      "Агент 3 Средняя награда: 53.7530\n",
      "\n",
      "Окно 3/5 (Год: 2012)\n",
      "Обучение агента 1/3\n"
     ]
    },
    {
     "data": {
      "text/html": [
       "<pre style=\"white-space:pre;overflow-x:auto;line-height:normal;font-family:Menlo,'DejaVu Sans Mono',consolas,'Courier New',monospace\"></pre>\n"
      ],
      "text/plain": []
     },
     "metadata": {},
     "output_type": "display_data"
    },
    {
     "data": {
      "application/vnd.jupyter.widget-view+json": {
       "model_id": "ad8ada835fec482a8c773e90b5fc6390",
       "version_major": 2,
       "version_minor": 0
      },
      "text/plain": [
       "Output()"
      ]
     },
     "metadata": {},
     "output_type": "display_data"
    },
    {
     "name": "stdout",
     "output_type": "stream",
     "text": [
      "Агент 1 Средняя награда: -9.9087\n",
      "Обучение агента 2/3\n"
     ]
    },
    {
     "data": {
      "text/html": [
       "<pre style=\"white-space:pre;overflow-x:auto;line-height:normal;font-family:Menlo,'DejaVu Sans Mono',consolas,'Courier New',monospace\"></pre>\n"
      ],
      "text/plain": []
     },
     "metadata": {},
     "output_type": "display_data"
    },
    {
     "data": {
      "application/vnd.jupyter.widget-view+json": {
       "model_id": "bc33921d126348f499a778ee34d51605",
       "version_major": 2,
       "version_minor": 0
      },
      "text/plain": [
       "Output()"
      ]
     },
     "metadata": {},
     "output_type": "display_data"
    },
    {
     "name": "stdout",
     "output_type": "stream",
     "text": [
      "Агент 2 Средняя награда: 15.0095\n",
      "Обучение агента 3/3\n"
     ]
    },
    {
     "data": {
      "text/html": [
       "<pre style=\"white-space:pre;overflow-x:auto;line-height:normal;font-family:Menlo,'DejaVu Sans Mono',consolas,'Courier New',monospace\"></pre>\n"
      ],
      "text/plain": []
     },
     "metadata": {},
     "output_type": "display_data"
    },
    {
     "data": {
      "application/vnd.jupyter.widget-view+json": {
       "model_id": "d83f10f735334a1397848828198d57a8",
       "version_major": 2,
       "version_minor": 0
      },
      "text/plain": [
       "Output()"
      ]
     },
     "metadata": {},
     "output_type": "display_data"
    },
    {
     "data": {
      "text/html": [
       "<pre style=\"white-space:pre;overflow-x:auto;line-height:normal;font-family:Menlo,'DejaVu Sans Mono',consolas,'Courier New',monospace\"></pre>\n"
      ],
      "text/plain": []
     },
     "metadata": {},
     "output_type": "display_data"
    },
    {
     "data": {
      "application/vnd.jupyter.widget-view+json": {
       "model_id": "2a3034dd28464152823cd3390603dbdf",
       "version_major": 2,
       "version_minor": 0
      },
      "text/plain": [
       "Output()"
      ]
     },
     "metadata": {},
     "output_type": "display_data"
    },
    {
     "name": "stdout",
     "output_type": "stream",
     "text": [
      "Агент 1 Средняя награда: 416.9127\n",
      "Обучение агента 2/3\n"
     ]
    },
    {
     "data": {
      "text/html": [
       "<pre style=\"white-space:pre;overflow-x:auto;line-height:normal;font-family:Menlo,'DejaVu Sans Mono',consolas,'Courier New',monospace\"></pre>\n"
      ],
      "text/plain": []
     },
     "metadata": {},
     "output_type": "display_data"
    },
    {
     "data": {
      "application/vnd.jupyter.widget-view+json": {
       "model_id": "6b33ba3914d14810abf0bfc1b725cb91",
       "version_major": 2,
       "version_minor": 0
      },
      "text/plain": [
       "Output()"
      ]
     },
     "metadata": {},
     "output_type": "display_data"
    },
    {
     "name": "stdout",
     "output_type": "stream",
     "text": [
      "Агент 2 Средняя награда: 40.5652\n",
      "Обучение агента 3/3\n"
     ]
    },
    {
     "data": {
      "text/html": [
       "<pre style=\"white-space:pre;overflow-x:auto;line-height:normal;font-family:Menlo,'DejaVu Sans Mono',consolas,'Courier New',monospace\"></pre>\n"
      ],
      "text/plain": []
     },
     "metadata": {},
     "output_type": "display_data"
    },
    {
     "data": {
      "application/vnd.jupyter.widget-view+json": {
       "model_id": "1b3182b0ee574828bdcf8a237f7986f7",
       "version_major": 2,
       "version_minor": 0
      },
      "text/plain": [
       "Output()"
      ]
     },
     "metadata": {},
     "output_type": "display_data"
    },
    {
     "name": "stdout",
     "output_type": "stream",
     "text": [
      "Агент 3 Средняя награда: -54.1347\n",
      "\n",
      "Окно 5/5 (Год: 2014)\n",
      "Обучение агента 1/3\n"
     ]
    },
    {
     "data": {
      "text/html": [
       "<pre style=\"white-space:pre;overflow-x:auto;line-height:normal;font-family:Menlo,'DejaVu Sans Mono',consolas,'Courier New',monospace\"></pre>\n"
      ],
      "text/plain": []
     },
     "metadata": {},
     "output_type": "display_data"
    },
    {
     "data": {
      "application/vnd.jupyter.widget-view+json": {
       "model_id": "762fc0dc3f9f447da337580674a4ea30",
       "version_major": 2,
       "version_minor": 0
      },
      "text/plain": [
       "Output()"
      ]
     },
     "metadata": {},
     "output_type": "display_data"
    },
    {
     "name": "stdout",
     "output_type": "stream",
     "text": [
      "Агент 1 Средняя награда: 25.4949\n",
      "Обучение агента 2/3\n"
     ]
    },
    {
     "data": {
      "text/html": [
       "<pre style=\"white-space:pre;overflow-x:auto;line-height:normal;font-family:Menlo,'DejaVu Sans Mono',consolas,'Courier New',monospace\"></pre>\n"
      ],
      "text/plain": []
     },
     "metadata": {},
     "output_type": "display_data"
    },
    {
     "data": {
      "application/vnd.jupyter.widget-view+json": {
       "model_id": "bb6699576a6f433babf8b22029f1e1b2",
       "version_major": 2,
       "version_minor": 0
      },
      "text/plain": [
       "Output()"
      ]
     },
     "metadata": {},
     "output_type": "display_data"
    },
    {
     "name": "stdout",
     "output_type": "stream",
     "text": [
      "Агент 2 Средняя награда: 27.9312\n",
      "Обучение агента 3/3\n"
     ]
    },
    {
     "data": {
      "text/html": [
       "<pre style=\"white-space:pre;overflow-x:auto;line-height:normal;font-family:Menlo,'DejaVu Sans Mono',consolas,'Courier New',monospace\"></pre>\n"
      ],
      "text/plain": []
     },
     "metadata": {},
     "output_type": "display_data"
    },
    {
     "name": "stdout",
     "output_type": "stream",
     "text": [
      "Агент 3 Средняя награда: 2.3683\n",
      "[I 2025-07-24 14:40:53,598] Trial 1 finished with value: 0.6215733274728067 and parameters: {'window_size': 120, 'num_actions': 11, 'total_timesteps': 100000, 'n_steps': 640, 'batch_size': 2048, 'n_epochs': 24, 'gamma': 0.993, 'gae_lambda': 0.98, 'clip_range': 0.30000000000000004, 'learning_rate': 0.0006978281265126031, 'ent_coef': 2.259279742015695e-05, 'vf_coef': 0.2, 'max_grad_norm': 0.14070456001948428, 'linear_dim': 105, 'dropout': 0.3720741027826374, 'hidden_dim': 185}. Best is trial 0 with value: 0.8519309593656232.\n"
     ]
    },
    {
     "data": {
      "application/vnd.jupyter.widget-view+json": {
       "model_id": "bbb3e54995b44ff19135d89313ec2d7d",
       "version_major": 2,
       "version_minor": 0
      },
      "text/plain": [
       "Output()"
      ]
     },
     "metadata": {},
     "output_type": "display_data"
    },
    {
     "name": "stdout",
     "output_type": "stream",
     "text": [
      "Shape of data: (4040, 6) 2010-01-04 00:00:00 2025-06-27 00:00:00\n",
      "feature finance: Index(['f_log_ret', 'f_vol20', 'f_vol60', 'f_vol20/vol60', 'f_ema_10',\n",
      "       'f_ema_20', 'f_rsi', 'f_macd_line', 'f_macd_signal'],\n",
      "      dtype='object')\n",
      "feature time: Index(['day_of_week_sin', 'day_of_week_cos', 'day_of_month_sin',\n",
      "       'day_of_month_cos', 'day_of_year_sin', 'day_of_year_cos',\n",
      "       'week_of_year_sin', 'week_of_year_cos', 'month_sin', 'month_cos',\n",
      "       'quarter_sin', 'quarter_cos', 'is_month_end'],\n",
      "      dtype='object')\n",
      "\n",
      "Окно 1/5 (Год: 2010)\n",
      "Обучение агента 1/3\n"
     ]
    },
    {
     "data": {
      "text/html": [
       "<pre style=\"white-space:pre;overflow-x:auto;line-height:normal;font-family:Menlo,'DejaVu Sans Mono',consolas,'Courier New',monospace\"></pre>\n"
      ],
      "text/plain": []
     },
     "metadata": {},
     "output_type": "display_data"
    },
    {
     "data": {
      "application/vnd.jupyter.widget-view+json": {
       "model_id": "fb98b8e757b24c8ea2adc8e5f82336fd",
       "version_major": 2,
       "version_minor": 0
      },
      "text/plain": [
       "Output()"
      ]
     },
     "metadata": {},
     "output_type": "display_data"
    },
    {
     "name": "stdout",
     "output_type": "stream",
     "text": [
      "Агент 1 Средняя награда: 5.6148\n",
      "Обучение агента 2/3\n"
     ]
    },
    {
     "data": {
      "text/html": [
       "<pre style=\"white-space:pre;overflow-x:auto;line-height:normal;font-family:Menlo,'DejaVu Sans Mono',consolas,'Courier New',monospace\"></pre>\n"
      ],
      "text/plain": []
     },
     "metadata": {},
     "output_type": "display_data"
    },
    {
     "data": {
      "application/vnd.jupyter.widget-view+json": {
       "model_id": "921e8f548b2f402081db0eca85da0467",
       "version_major": 2,
       "version_minor": 0
      },
      "text/plain": [
       "Output()"
      ]
     },
     "metadata": {},
     "output_type": "display_data"
    },
    {
     "name": "stdout",
     "output_type": "stream",
     "text": [
      "Агент 2 Средняя награда: -798.8101\n",
      "Обучение агента 3/3\n"
     ]
    },
    {
     "data": {
      "text/html": [
       "<pre style=\"white-space:pre;overflow-x:auto;line-height:normal;font-family:Menlo,'DejaVu Sans Mono',consolas,'Courier New',monospace\"></pre>\n"
      ],
      "text/plain": []
     },
     "metadata": {},
     "output_type": "display_data"
    },
    {
     "data": {
      "application/vnd.jupyter.widget-view+json": {
       "model_id": "d936d6b9c126488fa4d662814428e2de",
       "version_major": 2,
       "version_minor": 0
      },
      "text/plain": [
       "Output()"
      ]
     },
     "metadata": {},
     "output_type": "display_data"
    },
    {
     "name": "stdout",
     "output_type": "stream",
     "text": [
      "Агент 3 Средняя награда: 30.4863\n",
      "\n",
      "Окно 2/5 (Год: 2011)\n",
      "Обучение агента 1/3\n"
     ]
    },
    {
     "data": {
      "text/html": [
       "<pre style=\"white-space:pre;overflow-x:auto;line-height:normal;font-family:Menlo,'DejaVu Sans Mono',consolas,'Courier New',monospace\"></pre>\n"
      ],
      "text/plain": []
     },
     "metadata": {},
     "output_type": "display_data"
    },
    {
     "data": {
      "application/vnd.jupyter.widget-view+json": {
       "model_id": "4e3cff94caea45b39e77cf99d6958c76",
       "version_major": 2,
       "version_minor": 0
      },
      "text/plain": [
       "Output()"
      ]
     },
     "metadata": {},
     "output_type": "display_data"
    },
    {
     "name": "stdout",
     "output_type": "stream",
     "text": [
      "Агент 1 Средняя награда: -29.8336\n",
      "Обучение агента 2/3\n"
     ]
    },
    {
     "data": {
      "text/html": [
       "<pre style=\"white-space:pre;overflow-x:auto;line-height:normal;font-family:Menlo,'DejaVu Sans Mono',consolas,'Courier New',monospace\"></pre>\n"
      ],
      "text/plain": []
     },
     "metadata": {},
     "output_type": "display_data"
    },
    {
     "data": {
      "application/vnd.jupyter.widget-view+json": {
       "model_id": "d7c2e63dc3a045b2a602475b75bed3b1",
       "version_major": 2,
       "version_minor": 0
      },
      "text/plain": [
       "Output()"
      ]
     },
     "metadata": {},
     "output_type": "display_data"
    },
    {
     "name": "stdout",
     "output_type": "stream",
     "text": [
      "Агент 2 Средняя награда: 42.3248\n",
      "Обучение агента 3/3\n"
     ]
    },
    {
     "data": {
      "text/html": [
       "<pre style=\"white-space:pre;overflow-x:auto;line-height:normal;font-family:Menlo,'DejaVu Sans Mono',consolas,'Courier New',monospace\"></pre>\n"
      ],
      "text/plain": []
     },
     "metadata": {},
     "output_type": "display_data"
    },
    {
     "data": {
      "application/vnd.jupyter.widget-view+json": {
       "model_id": "5d6f9bcadf90494ba20eb5c64a61754b",
       "version_major": 2,
       "version_minor": 0
      },
      "text/plain": [
       "Output()"
      ]
     },
     "metadata": {},
     "output_type": "display_data"
    },
    {
     "data": {
      "text/html": [
       "<pre style=\"white-space:pre;overflow-x:auto;line-height:normal;font-family:Menlo,'DejaVu Sans Mono',consolas,'Courier New',monospace\"></pre>\n"
      ],
      "text/plain": []
     },
     "metadata": {},
     "output_type": "display_data"
    },
    {
     "data": {
      "application/vnd.jupyter.widget-view+json": {
       "model_id": "441098fde0c44f3b8ea865d4c6511066",
       "version_major": 2,
       "version_minor": 0
      },
      "text/plain": [
       "Output()"
      ]
     },
     "metadata": {},
     "output_type": "display_data"
    },
    {
     "name": "stdout",
     "output_type": "stream",
     "text": [
      "Агент 1 Средняя награда: 2.2536\n",
      "Обучение агента 2/3\n"
     ]
    },
    {
     "data": {
      "text/html": [
       "<pre style=\"white-space:pre;overflow-x:auto;line-height:normal;font-family:Menlo,'DejaVu Sans Mono',consolas,'Courier New',monospace\"></pre>\n"
      ],
      "text/plain": []
     },
     "metadata": {},
     "output_type": "display_data"
    },
    {
     "data": {
      "application/vnd.jupyter.widget-view+json": {
       "model_id": "96abb234a72f49819fea77557fa53994",
       "version_major": 2,
       "version_minor": 0
      },
      "text/plain": [
       "Output()"
      ]
     },
     "metadata": {},
     "output_type": "display_data"
    },
    {
     "name": "stdout",
     "output_type": "stream",
     "text": [
      "Агент 2 Средняя награда: -2.9354\n",
      "Обучение агента 3/3\n"
     ]
    },
    {
     "data": {
      "text/html": [
       "<pre style=\"white-space:pre;overflow-x:auto;line-height:normal;font-family:Menlo,'DejaVu Sans Mono',consolas,'Courier New',monospace\"></pre>\n"
      ],
      "text/plain": []
     },
     "metadata": {},
     "output_type": "display_data"
    },
    {
     "data": {
      "application/vnd.jupyter.widget-view+json": {
       "model_id": "e9ca5e4c7e054aa3b83c9c0f2026e679",
       "version_major": 2,
       "version_minor": 0
      },
      "text/plain": [
       "Output()"
      ]
     },
     "metadata": {},
     "output_type": "display_data"
    },
    {
     "name": "stdout",
     "output_type": "stream",
     "text": [
      "Агент 3 Средняя награда: -4.6139\n",
      "\n",
      "Окно 4/5 (Год: 2013)\n",
      "Обучение агента 1/3\n"
     ]
    },
    {
     "data": {
      "text/html": [
       "<pre style=\"white-space:pre;overflow-x:auto;line-height:normal;font-family:Menlo,'DejaVu Sans Mono',consolas,'Courier New',monospace\"></pre>\n"
      ],
      "text/plain": []
     },
     "metadata": {},
     "output_type": "display_data"
    },
    {
     "data": {
      "application/vnd.jupyter.widget-view+json": {
       "model_id": "cf55480fc6de4325b0dd140622fbfd99",
       "version_major": 2,
       "version_minor": 0
      },
      "text/plain": [
       "Output()"
      ]
     },
     "metadata": {},
     "output_type": "display_data"
    },
    {
     "name": "stdout",
     "output_type": "stream",
     "text": [
      "Агент 1 Средняя награда: -7.6254\n",
      "Обучение агента 2/3\n"
     ]
    },
    {
     "data": {
      "text/html": [
       "<pre style=\"white-space:pre;overflow-x:auto;line-height:normal;font-family:Menlo,'DejaVu Sans Mono',consolas,'Courier New',monospace\"></pre>\n"
      ],
      "text/plain": []
     },
     "metadata": {},
     "output_type": "display_data"
    },
    {
     "data": {
      "application/vnd.jupyter.widget-view+json": {
       "model_id": "a25a6965f3834e0e8a505a2a2e0985af",
       "version_major": 2,
       "version_minor": 0
      },
      "text/plain": [
       "Output()"
      ]
     },
     "metadata": {},
     "output_type": "display_data"
    },
    {
     "name": "stdout",
     "output_type": "stream",
     "text": [
      "Агент 2 Средняя награда: -77.0972\n",
      "Обучение агента 3/3\n"
     ]
    },
    {
     "data": {
      "text/html": [
       "<pre style=\"white-space:pre;overflow-x:auto;line-height:normal;font-family:Menlo,'DejaVu Sans Mono',consolas,'Courier New',monospace\"></pre>\n"
      ],
      "text/plain": []
     },
     "metadata": {},
     "output_type": "display_data"
    },
    {
     "data": {
      "application/vnd.jupyter.widget-view+json": {
       "model_id": "89bb4c9f7e624ff0bfda312c98d32d58",
       "version_major": 2,
       "version_minor": 0
      },
      "text/plain": [
       "Output()"
      ]
     },
     "metadata": {},
     "output_type": "display_data"
    },
    {
     "data": {
      "text/html": [
       "<pre style=\"white-space:pre;overflow-x:auto;line-height:normal;font-family:Menlo,'DejaVu Sans Mono',consolas,'Courier New',monospace\"></pre>\n"
      ],
      "text/plain": []
     },
     "metadata": {},
     "output_type": "display_data"
    },
    {
     "data": {
      "application/vnd.jupyter.widget-view+json": {
       "model_id": "5f2931924df046f681cadd214cf96bc3",
       "version_major": 2,
       "version_minor": 0
      },
      "text/plain": [
       "Output()"
      ]
     },
     "metadata": {},
     "output_type": "display_data"
    },
    {
     "name": "stdout",
     "output_type": "stream",
     "text": [
      "Агент 1 Средняя награда: -3.4708\n",
      "Обучение агента 2/3\n"
     ]
    },
    {
     "data": {
      "text/html": [
       "<pre style=\"white-space:pre;overflow-x:auto;line-height:normal;font-family:Menlo,'DejaVu Sans Mono',consolas,'Courier New',monospace\"></pre>\n"
      ],
      "text/plain": []
     },
     "metadata": {},
     "output_type": "display_data"
    },
    {
     "data": {
      "application/vnd.jupyter.widget-view+json": {
       "model_id": "5e76ea4d69cf423eb64616dc71d1b9c4",
       "version_major": 2,
       "version_minor": 0
      },
      "text/plain": [
       "Output()"
      ]
     },
     "metadata": {},
     "output_type": "display_data"
    },
    {
     "name": "stdout",
     "output_type": "stream",
     "text": [
      "Агент 2 Средняя награда: 71.8687\n",
      "Обучение агента 3/3\n"
     ]
    },
    {
     "data": {
      "text/html": [
       "<pre style=\"white-space:pre;overflow-x:auto;line-height:normal;font-family:Menlo,'DejaVu Sans Mono',consolas,'Courier New',monospace\"></pre>\n"
      ],
      "text/plain": []
     },
     "metadata": {},
     "output_type": "display_data"
    },
    {
     "name": "stdout",
     "output_type": "stream",
     "text": [
      "Агент 3 Средняя награда: 0.3176\n",
      "[I 2025-07-24 14:48:51,624] Trial 2 finished with value: 1.1120110672249275 and parameters: {'window_size': 30, 'num_actions': 11, 'total_timesteps': 50000, 'n_steps': 1536, 'batch_size': 1024, 'n_epochs': 12, 'gamma': 0.906, 'gae_lambda': 0.8600000000000001, 'clip_range': 0.2, 'learning_rate': 0.0002878805718308924, 'ent_coef': 0.003550012525851159, 'vf_coef': 0.9, 'max_grad_norm': 0.5249934326457544, 'linear_dim': 58, 'dropout': 0.5992713510560965, 'hidden_dim': 405}. Best is trial 2 with value: 1.1120110672249275.\n"
     ]
    },
    {
     "data": {
      "application/vnd.jupyter.widget-view+json": {
       "model_id": "3864f93352874f17bdfcb6d3a49fcc6a",
       "version_major": 2,
       "version_minor": 0
      },
      "text/plain": [
       "Output()"
      ]
     },
     "metadata": {},
     "output_type": "display_data"
    },
    {
     "name": "stdout",
     "output_type": "stream",
     "text": [
      "Shape of data: (4040, 6) 2010-01-04 00:00:00 2025-06-27 00:00:00\n",
      "feature finance: Index(['f_log_ret', 'f_vol20', 'f_vol60', 'f_vol20/vol60', 'f_ema_10',\n",
      "       'f_ema_20', 'f_rsi', 'f_macd_line', 'f_macd_signal'],\n",
      "      dtype='object')\n",
      "feature time: Index(['day_of_week_sin', 'day_of_week_cos', 'day_of_month_sin',\n",
      "       'day_of_month_cos', 'day_of_year_sin', 'day_of_year_cos',\n",
      "       'week_of_year_sin', 'week_of_year_cos', 'month_sin', 'month_cos',\n",
      "       'quarter_sin', 'quarter_cos', 'is_month_end'],\n",
      "      dtype='object')\n",
      "\n",
      "Окно 1/5 (Год: 2010)\n",
      "Обучение агента 1/3\n"
     ]
    },
    {
     "data": {
      "text/html": [
       "<pre style=\"white-space:pre;overflow-x:auto;line-height:normal;font-family:Menlo,'DejaVu Sans Mono',consolas,'Courier New',monospace\"></pre>\n"
      ],
      "text/plain": []
     },
     "metadata": {},
     "output_type": "display_data"
    },
    {
     "data": {
      "application/vnd.jupyter.widget-view+json": {
       "model_id": "b81d0c673e2946bc8e671702df6f3df8",
       "version_major": 2,
       "version_minor": 0
      },
      "text/plain": [
       "Output()"
      ]
     },
     "metadata": {},
     "output_type": "display_data"
    },
    {
     "name": "stdout",
     "output_type": "stream",
     "text": [
      "Агент 1 Средняя награда: -8.7355\n",
      "Обучение агента 2/3\n"
     ]
    },
    {
     "data": {
      "text/html": [
       "<pre style=\"white-space:pre;overflow-x:auto;line-height:normal;font-family:Menlo,'DejaVu Sans Mono',consolas,'Courier New',monospace\"></pre>\n"
      ],
      "text/plain": []
     },
     "metadata": {},
     "output_type": "display_data"
    },
    {
     "data": {
      "application/vnd.jupyter.widget-view+json": {
       "model_id": "153799328bf84cb68d357052235c9e1e",
       "version_major": 2,
       "version_minor": 0
      },
      "text/plain": [
       "Output()"
      ]
     },
     "metadata": {},
     "output_type": "display_data"
    },
    {
     "name": "stdout",
     "output_type": "stream",
     "text": [
      "Агент 2 Средняя награда: 84.2926\n",
      "Обучение агента 3/3\n"
     ]
    },
    {
     "data": {
      "text/html": [
       "<pre style=\"white-space:pre;overflow-x:auto;line-height:normal;font-family:Menlo,'DejaVu Sans Mono',consolas,'Courier New',monospace\"></pre>\n"
      ],
      "text/plain": []
     },
     "metadata": {},
     "output_type": "display_data"
    },
    {
     "data": {
      "application/vnd.jupyter.widget-view+json": {
       "model_id": "3d64c17a2b524eab8a155064cb060bdc",
       "version_major": 2,
       "version_minor": 0
      },
      "text/plain": [
       "Output()"
      ]
     },
     "metadata": {},
     "output_type": "display_data"
    },
    {
     "name": "stdout",
     "output_type": "stream",
     "text": [
      "Агент 3 Средняя награда: -62.6345\n",
      "\n",
      "Окно 2/5 (Год: 2011)\n",
      "Обучение агента 1/3\n"
     ]
    },
    {
     "data": {
      "text/html": [
       "<pre style=\"white-space:pre;overflow-x:auto;line-height:normal;font-family:Menlo,'DejaVu Sans Mono',consolas,'Courier New',monospace\"></pre>\n"
      ],
      "text/plain": []
     },
     "metadata": {},
     "output_type": "display_data"
    },
    {
     "data": {
      "application/vnd.jupyter.widget-view+json": {
       "model_id": "b1d0f463ad9843b38d9373acb24c6b31",
       "version_major": 2,
       "version_minor": 0
      },
      "text/plain": [
       "Output()"
      ]
     },
     "metadata": {},
     "output_type": "display_data"
    },
    {
     "name": "stdout",
     "output_type": "stream",
     "text": [
      "Агент 1 Средняя награда: 67.9180\n",
      "Обучение агента 2/3\n"
     ]
    },
    {
     "data": {
      "text/html": [
       "<pre style=\"white-space:pre;overflow-x:auto;line-height:normal;font-family:Menlo,'DejaVu Sans Mono',consolas,'Courier New',monospace\"></pre>\n"
      ],
      "text/plain": []
     },
     "metadata": {},
     "output_type": "display_data"
    },
    {
     "data": {
      "application/vnd.jupyter.widget-view+json": {
       "model_id": "43a751ac640c4facabc3ddc784f44210",
       "version_major": 2,
       "version_minor": 0
      },
      "text/plain": [
       "Output()"
      ]
     },
     "metadata": {},
     "output_type": "display_data"
    },
    {
     "name": "stdout",
     "output_type": "stream",
     "text": [
      "Агент 2 Средняя награда: -5.7173\n",
      "Обучение агента 3/3\n"
     ]
    },
    {
     "data": {
      "text/html": [
       "<pre style=\"white-space:pre;overflow-x:auto;line-height:normal;font-family:Menlo,'DejaVu Sans Mono',consolas,'Courier New',monospace\"></pre>\n"
      ],
      "text/plain": []
     },
     "metadata": {},
     "output_type": "display_data"
    },
    {
     "data": {
      "application/vnd.jupyter.widget-view+json": {
       "model_id": "91865ca3c860413f9a78646e956780ab",
       "version_major": 2,
       "version_minor": 0
      },
      "text/plain": [
       "Output()"
      ]
     },
     "metadata": {},
     "output_type": "display_data"
    },
    {
     "name": "stdout",
     "output_type": "stream",
     "text": [
      "Агент 3 Средняя награда: -36.2899\n",
      "\n",
      "Окно 3/5 (Год: 2012)\n",
      "Обучение агента 1/3\n"
     ]
    },
    {
     "data": {
      "text/html": [
       "<pre style=\"white-space:pre;overflow-x:auto;line-height:normal;font-family:Menlo,'DejaVu Sans Mono',consolas,'Courier New',monospace\"></pre>\n"
      ],
      "text/plain": []
     },
     "metadata": {},
     "output_type": "display_data"
    },
    {
     "data": {
      "application/vnd.jupyter.widget-view+json": {
       "model_id": "412f791d6980457398dacd8b5a3c67fe",
       "version_major": 2,
       "version_minor": 0
      },
      "text/plain": [
       "Output()"
      ]
     },
     "metadata": {},
     "output_type": "display_data"
    },
    {
     "name": "stdout",
     "output_type": "stream",
     "text": [
      "Агент 1 Средняя награда: 55.4581\n",
      "Обучение агента 2/3\n"
     ]
    },
    {
     "data": {
      "text/html": [
       "<pre style=\"white-space:pre;overflow-x:auto;line-height:normal;font-family:Menlo,'DejaVu Sans Mono',consolas,'Courier New',monospace\"></pre>\n"
      ],
      "text/plain": []
     },
     "metadata": {},
     "output_type": "display_data"
    },
    {
     "data": {
      "application/vnd.jupyter.widget-view+json": {
       "model_id": "aa7c916d9614468ca89debede4c3a067",
       "version_major": 2,
       "version_minor": 0
      },
      "text/plain": [
       "Output()"
      ]
     },
     "metadata": {},
     "output_type": "display_data"
    },
    {
     "name": "stdout",
     "output_type": "stream",
     "text": [
      "Агент 2 Средняя награда: -95.5233\n",
      "Обучение агента 3/3\n"
     ]
    },
    {
     "data": {
      "text/html": [
       "<pre style=\"white-space:pre;overflow-x:auto;line-height:normal;font-family:Menlo,'DejaVu Sans Mono',consolas,'Courier New',monospace\"></pre>\n"
      ],
      "text/plain": []
     },
     "metadata": {},
     "output_type": "display_data"
    },
    {
     "data": {
      "application/vnd.jupyter.widget-view+json": {
       "model_id": "afb3e48e870142009fa37d012d6e8372",
       "version_major": 2,
       "version_minor": 0
      },
      "text/plain": [
       "Output()"
      ]
     },
     "metadata": {},
     "output_type": "display_data"
    },
    {
     "name": "stdout",
     "output_type": "stream",
     "text": [
      "Агент 3 Средняя награда: 24.8260\n",
      "\n",
      "Окно 4/5 (Год: 2013)\n",
      "Обучение агента 1/3\n"
     ]
    },
    {
     "data": {
      "text/html": [
       "<pre style=\"white-space:pre;overflow-x:auto;line-height:normal;font-family:Menlo,'DejaVu Sans Mono',consolas,'Courier New',monospace\"></pre>\n"
      ],
      "text/plain": []
     },
     "metadata": {},
     "output_type": "display_data"
    },
    {
     "data": {
      "application/vnd.jupyter.widget-view+json": {
       "model_id": "94b852bb242742a0a31d748308e9e1bc",
       "version_major": 2,
       "version_minor": 0
      },
      "text/plain": [
       "Output()"
      ]
     },
     "metadata": {},
     "output_type": "display_data"
    },
    {
     "name": "stdout",
     "output_type": "stream",
     "text": [
      "Агент 1 Средняя награда: 1089.1422\n",
      "Обучение агента 2/3\n"
     ]
    },
    {
     "data": {
      "text/html": [
       "<pre style=\"white-space:pre;overflow-x:auto;line-height:normal;font-family:Menlo,'DejaVu Sans Mono',consolas,'Courier New',monospace\"></pre>\n"
      ],
      "text/plain": []
     },
     "metadata": {},
     "output_type": "display_data"
    },
    {
     "data": {
      "application/vnd.jupyter.widget-view+json": {
       "model_id": "f346bca0ea41466e8695ba00a8946127",
       "version_major": 2,
       "version_minor": 0
      },
      "text/plain": [
       "Output()"
      ]
     },
     "metadata": {},
     "output_type": "display_data"
    },
    {
     "name": "stdout",
     "output_type": "stream",
     "text": [
      "Агент 2 Средняя награда: -38.0326\n",
      "Обучение агента 3/3\n"
     ]
    },
    {
     "data": {
      "text/html": [
       "<pre style=\"white-space:pre;overflow-x:auto;line-height:normal;font-family:Menlo,'DejaVu Sans Mono',consolas,'Courier New',monospace\"></pre>\n"
      ],
      "text/plain": []
     },
     "metadata": {},
     "output_type": "display_data"
    },
    {
     "data": {
      "application/vnd.jupyter.widget-view+json": {
       "model_id": "87163f46427f4ffb9a05637af918f2e0",
       "version_major": 2,
       "version_minor": 0
      },
      "text/plain": [
       "Output()"
      ]
     },
     "metadata": {},
     "output_type": "display_data"
    },
    {
     "data": {
      "text/html": [
       "<pre style=\"white-space:pre;overflow-x:auto;line-height:normal;font-family:Menlo,'DejaVu Sans Mono',consolas,'Courier New',monospace\"></pre>\n"
      ],
      "text/plain": []
     },
     "metadata": {},
     "output_type": "display_data"
    },
    {
     "data": {
      "application/vnd.jupyter.widget-view+json": {
       "model_id": "fe2698e0e8bd4f8a87f37d8fe99d6a37",
       "version_major": 2,
       "version_minor": 0
      },
      "text/plain": [
       "Output()"
      ]
     },
     "metadata": {},
     "output_type": "display_data"
    },
    {
     "name": "stdout",
     "output_type": "stream",
     "text": [
      "Агент 1 Средняя награда: 166.6459\n",
      "Обучение агента 2/3\n"
     ]
    },
    {
     "data": {
      "text/html": [
       "<pre style=\"white-space:pre;overflow-x:auto;line-height:normal;font-family:Menlo,'DejaVu Sans Mono',consolas,'Courier New',monospace\"></pre>\n"
      ],
      "text/plain": []
     },
     "metadata": {},
     "output_type": "display_data"
    },
    {
     "data": {
      "application/vnd.jupyter.widget-view+json": {
       "model_id": "ae11084ca1b14ed2b31a874c7119470a",
       "version_major": 2,
       "version_minor": 0
      },
      "text/plain": [
       "Output()"
      ]
     },
     "metadata": {},
     "output_type": "display_data"
    },
    {
     "name": "stdout",
     "output_type": "stream",
     "text": [
      "Агент 2 Средняя награда: 279.2107\n",
      "Обучение агента 3/3\n"
     ]
    },
    {
     "data": {
      "text/html": [
       "<pre style=\"white-space:pre;overflow-x:auto;line-height:normal;font-family:Menlo,'DejaVu Sans Mono',consolas,'Courier New',monospace\"></pre>\n"
      ],
      "text/plain": []
     },
     "metadata": {},
     "output_type": "display_data"
    },
    {
     "name": "stdout",
     "output_type": "stream",
     "text": [
      "Агент 3 Средняя награда: 398.0269\n",
      "[I 2025-07-24 15:00:50,068] Trial 3 finished with value: 0.9112151640372219 and parameters: {'window_size': 60, 'num_actions': 19, 'total_timesteps': 50000, 'n_steps': 896, 'batch_size': 2048, 'n_epochs': 25, 'gamma': 0.9630000000000001, 'gae_lambda': 0.98, 'clip_range': 0.35, 'learning_rate': 2.3612399244412595e-05, 'ent_coef': 0.03717371747825049, 'vf_coef': 0.6, 'max_grad_norm': 0.8266961396476563, 'linear_dim': 233, 'dropout': 0.32260243248030473, 'hidden_dim': 113}. Best is trial 2 with value: 1.1120110672249275.\n"
     ]
    },
    {
     "data": {
      "application/vnd.jupyter.widget-view+json": {
       "model_id": "94241086b3a545eea65bfad3a26ea428",
       "version_major": 2,
       "version_minor": 0
      },
      "text/plain": [
       "Output()"
      ]
     },
     "metadata": {},
     "output_type": "display_data"
    },
    {
     "name": "stdout",
     "output_type": "stream",
     "text": [
      "Shape of data: (4040, 6) 2010-01-04 00:00:00 2025-06-27 00:00:00\n",
      "feature finance: Index(['f_log_ret', 'f_vol20', 'f_vol60', 'f_vol20/vol60', 'f_ema_10',\n",
      "       'f_ema_20', 'f_rsi', 'f_macd_line', 'f_macd_signal'],\n",
      "      dtype='object')\n",
      "feature time: Index(['day_of_week_sin', 'day_of_week_cos', 'day_of_month_sin',\n",
      "       'day_of_month_cos', 'day_of_year_sin', 'day_of_year_cos',\n",
      "       'week_of_year_sin', 'week_of_year_cos', 'month_sin', 'month_cos',\n",
      "       'quarter_sin', 'quarter_cos', 'is_month_end'],\n",
      "      dtype='object')\n",
      "\n",
      "Окно 1/5 (Год: 2010)\n",
      "Обучение агента 1/3\n"
     ]
    },
    {
     "data": {
      "text/html": [
       "<pre style=\"white-space:pre;overflow-x:auto;line-height:normal;font-family:Menlo,'DejaVu Sans Mono',consolas,'Courier New',monospace\"></pre>\n"
      ],
      "text/plain": []
     },
     "metadata": {},
     "output_type": "display_data"
    },
    {
     "data": {
      "application/vnd.jupyter.widget-view+json": {
       "model_id": "5b07678063a04b28be6614f78aaf1824",
       "version_major": 2,
       "version_minor": 0
      },
      "text/plain": [
       "Output()"
      ]
     },
     "metadata": {},
     "output_type": "display_data"
    },
    {
     "name": "stdout",
     "output_type": "stream",
     "text": [
      "Агент 1 Средняя награда: 33.9506\n",
      "Обучение агента 2/3\n"
     ]
    },
    {
     "data": {
      "text/html": [
       "<pre style=\"white-space:pre;overflow-x:auto;line-height:normal;font-family:Menlo,'DejaVu Sans Mono',consolas,'Courier New',monospace\"></pre>\n"
      ],
      "text/plain": []
     },
     "metadata": {},
     "output_type": "display_data"
    },
    {
     "data": {
      "application/vnd.jupyter.widget-view+json": {
       "model_id": "ae6cd48c8193497d991dcc74b443f6a3",
       "version_major": 2,
       "version_minor": 0
      },
      "text/plain": [
       "Output()"
      ]
     },
     "metadata": {},
     "output_type": "display_data"
    },
    {
     "name": "stdout",
     "output_type": "stream",
     "text": [
      "Агент 2 Средняя награда: 33.4037\n",
      "Обучение агента 3/3\n"
     ]
    },
    {
     "data": {
      "text/html": [
       "<pre style=\"white-space:pre;overflow-x:auto;line-height:normal;font-family:Menlo,'DejaVu Sans Mono',consolas,'Courier New',monospace\"></pre>\n"
      ],
      "text/plain": []
     },
     "metadata": {},
     "output_type": "display_data"
    },
    {
     "data": {
      "application/vnd.jupyter.widget-view+json": {
       "model_id": "6ddfff0d5bdc46adab4f9dc462c65e17",
       "version_major": 2,
       "version_minor": 0
      },
      "text/plain": [
       "Output()"
      ]
     },
     "metadata": {},
     "output_type": "display_data"
    },
    {
     "name": "stdout",
     "output_type": "stream",
     "text": [
      "Агент 3 Средняя награда: 35.6069\n",
      "\n",
      "Окно 2/5 (Год: 2011)\n",
      "Обучение агента 1/3\n"
     ]
    },
    {
     "data": {
      "text/html": [
       "<pre style=\"white-space:pre;overflow-x:auto;line-height:normal;font-family:Menlo,'DejaVu Sans Mono',consolas,'Courier New',monospace\"></pre>\n"
      ],
      "text/plain": []
     },
     "metadata": {},
     "output_type": "display_data"
    },
    {
     "data": {
      "application/vnd.jupyter.widget-view+json": {
       "model_id": "326caa5b505f4bb99431e527dc2e7472",
       "version_major": 2,
       "version_minor": 0
      },
      "text/plain": [
       "Output()"
      ]
     },
     "metadata": {},
     "output_type": "display_data"
    },
    {
     "name": "stdout",
     "output_type": "stream",
     "text": [
      "Агент 1 Средняя награда: 48.0857\n",
      "Обучение агента 2/3\n"
     ]
    },
    {
     "data": {
      "text/html": [
       "<pre style=\"white-space:pre;overflow-x:auto;line-height:normal;font-family:Menlo,'DejaVu Sans Mono',consolas,'Courier New',monospace\"></pre>\n"
      ],
      "text/plain": []
     },
     "metadata": {},
     "output_type": "display_data"
    },
    {
     "data": {
      "application/vnd.jupyter.widget-view+json": {
       "model_id": "c26b059f44344f7cbe7e9f048f163b15",
       "version_major": 2,
       "version_minor": 0
      },
      "text/plain": [
       "Output()"
      ]
     },
     "metadata": {},
     "output_type": "display_data"
    },
    {
     "name": "stdout",
     "output_type": "stream",
     "text": [
      "Агент 2 Средняя награда: 48.5004\n",
      "Обучение агента 3/3\n"
     ]
    },
    {
     "data": {
      "text/html": [
       "<pre style=\"white-space:pre;overflow-x:auto;line-height:normal;font-family:Menlo,'DejaVu Sans Mono',consolas,'Courier New',monospace\"></pre>\n"
      ],
      "text/plain": []
     },
     "metadata": {},
     "output_type": "display_data"
    },
    {
     "data": {
      "application/vnd.jupyter.widget-view+json": {
       "model_id": "93e866122269402d8441754f24bd5c87",
       "version_major": 2,
       "version_minor": 0
      },
      "text/plain": [
       "Output()"
      ]
     },
     "metadata": {},
     "output_type": "display_data"
    },
    {
     "name": "stdout",
     "output_type": "stream",
     "text": [
      "Агент 3 Средняя награда: 59.1260\n",
      "\n",
      "Окно 3/5 (Год: 2012)\n",
      "Обучение агента 1/3\n"
     ]
    },
    {
     "data": {
      "text/html": [
       "<pre style=\"white-space:pre;overflow-x:auto;line-height:normal;font-family:Menlo,'DejaVu Sans Mono',consolas,'Courier New',monospace\"></pre>\n"
      ],
      "text/plain": []
     },
     "metadata": {},
     "output_type": "display_data"
    },
    {
     "data": {
      "application/vnd.jupyter.widget-view+json": {
       "model_id": "0587a1a5cba6440eace3d3da8fcfdf7a",
       "version_major": 2,
       "version_minor": 0
      },
      "text/plain": [
       "Output()"
      ]
     },
     "metadata": {},
     "output_type": "display_data"
    },
    {
     "name": "stdout",
     "output_type": "stream",
     "text": [
      "Агент 1 Средняя награда: 21.9786\n",
      "Обучение агента 2/3\n"
     ]
    },
    {
     "data": {
      "text/html": [
       "<pre style=\"white-space:pre;overflow-x:auto;line-height:normal;font-family:Menlo,'DejaVu Sans Mono',consolas,'Courier New',monospace\"></pre>\n"
      ],
      "text/plain": []
     },
     "metadata": {},
     "output_type": "display_data"
    },
    {
     "data": {
      "application/vnd.jupyter.widget-view+json": {
       "model_id": "08215151d7bd4b0192a8aace9ce6bbd5",
       "version_major": 2,
       "version_minor": 0
      },
      "text/plain": [
       "Output()"
      ]
     },
     "metadata": {},
     "output_type": "display_data"
    },
    {
     "name": "stdout",
     "output_type": "stream",
     "text": [
      "Агент 2 Средняя награда: 11.7977\n",
      "Обучение агента 3/3\n"
     ]
    },
    {
     "data": {
      "text/html": [
       "<pre style=\"white-space:pre;overflow-x:auto;line-height:normal;font-family:Menlo,'DejaVu Sans Mono',consolas,'Courier New',monospace\"></pre>\n"
      ],
      "text/plain": []
     },
     "metadata": {},
     "output_type": "display_data"
    },
    {
     "data": {
      "application/vnd.jupyter.widget-view+json": {
       "model_id": "f3d35eceded54dd7a5417a9683ffc3cb",
       "version_major": 2,
       "version_minor": 0
      },
      "text/plain": [
       "Output()"
      ]
     },
     "metadata": {},
     "output_type": "display_data"
    },
    {
     "name": "stdout",
     "output_type": "stream",
     "text": [
      "Агент 3 Средняя награда: -89.3075\n",
      "\n",
      "Окно 4/5 (Год: 2013)\n",
      "Обучение агента 1/3\n"
     ]
    },
    {
     "data": {
      "text/html": [
       "<pre style=\"white-space:pre;overflow-x:auto;line-height:normal;font-family:Menlo,'DejaVu Sans Mono',consolas,'Courier New',monospace\"></pre>\n"
      ],
      "text/plain": []
     },
     "metadata": {},
     "output_type": "display_data"
    },
    {
     "data": {
      "application/vnd.jupyter.widget-view+json": {
       "model_id": "bbaaca35f37143678ff27ca3b07671e9",
       "version_major": 2,
       "version_minor": 0
      },
      "text/plain": [
       "Output()"
      ]
     },
     "metadata": {},
     "output_type": "display_data"
    },
    {
     "name": "stdout",
     "output_type": "stream",
     "text": [
      "Агент 1 Средняя награда: -34.9587\n",
      "Обучение агента 2/3\n"
     ]
    },
    {
     "data": {
      "text/html": [
       "<pre style=\"white-space:pre;overflow-x:auto;line-height:normal;font-family:Menlo,'DejaVu Sans Mono',consolas,'Courier New',monospace\"></pre>\n"
      ],
      "text/plain": []
     },
     "metadata": {},
     "output_type": "display_data"
    },
    {
     "data": {
      "application/vnd.jupyter.widget-view+json": {
       "model_id": "0d126818b30e442aae2b5da6aa98f149",
       "version_major": 2,
       "version_minor": 0
      },
      "text/plain": [
       "Output()"
      ]
     },
     "metadata": {},
     "output_type": "display_data"
    },
    {
     "name": "stdout",
     "output_type": "stream",
     "text": [
      "Агент 2 Средняя награда: -32.2573\n",
      "Обучение агента 3/3\n"
     ]
    },
    {
     "data": {
      "text/html": [
       "<pre style=\"white-space:pre;overflow-x:auto;line-height:normal;font-family:Menlo,'DejaVu Sans Mono',consolas,'Courier New',monospace\"></pre>\n"
      ],
      "text/plain": []
     },
     "metadata": {},
     "output_type": "display_data"
    },
    {
     "data": {
      "application/vnd.jupyter.widget-view+json": {
       "model_id": "f78d2cfd982149308579d1c52d48f693",
       "version_major": 2,
       "version_minor": 0
      },
      "text/plain": [
       "Output()"
      ]
     },
     "metadata": {},
     "output_type": "display_data"
    },
    {
     "name": "stdout",
     "output_type": "stream",
     "text": [
      "Агент 3 Средняя награда: -21.2815\n",
      "\n",
      "Окно 5/5 (Год: 2014)\n",
      "Обучение агента 1/3\n"
     ]
    },
    {
     "data": {
      "text/html": [
       "<pre style=\"white-space:pre;overflow-x:auto;line-height:normal;font-family:Menlo,'DejaVu Sans Mono',consolas,'Courier New',monospace\"></pre>\n"
      ],
      "text/plain": []
     },
     "metadata": {},
     "output_type": "display_data"
    },
    {
     "data": {
      "application/vnd.jupyter.widget-view+json": {
       "model_id": "ad34e0981a6e4821a80a9f675144015f",
       "version_major": 2,
       "version_minor": 0
      },
      "text/plain": [
       "Output()"
      ]
     },
     "metadata": {},
     "output_type": "display_data"
    },
    {
     "name": "stdout",
     "output_type": "stream",
     "text": [
      "Агент 1 Средняя награда: 8.4728\n",
      "Обучение агента 2/3\n"
     ]
    },
    {
     "data": {
      "text/html": [
       "<pre style=\"white-space:pre;overflow-x:auto;line-height:normal;font-family:Menlo,'DejaVu Sans Mono',consolas,'Courier New',monospace\"></pre>\n"
      ],
      "text/plain": []
     },
     "metadata": {},
     "output_type": "display_data"
    },
    {
     "data": {
      "application/vnd.jupyter.widget-view+json": {
       "model_id": "427874fc11d9458597e02743c41f69ef",
       "version_major": 2,
       "version_minor": 0
      },
      "text/plain": [
       "Output()"
      ]
     },
     "metadata": {},
     "output_type": "display_data"
    },
    {
     "name": "stdout",
     "output_type": "stream",
     "text": [
      "Агент 2 Средняя награда: 13.9519\n",
      "Обучение агента 3/3\n"
     ]
    },
    {
     "data": {
      "text/html": [
       "<pre style=\"white-space:pre;overflow-x:auto;line-height:normal;font-family:Menlo,'DejaVu Sans Mono',consolas,'Courier New',monospace\"></pre>\n"
      ],
      "text/plain": []
     },
     "metadata": {},
     "output_type": "display_data"
    },
    {
     "name": "stdout",
     "output_type": "stream",
     "text": [
      "Агент 3 Средняя награда: 7.9080\n",
      "[I 2025-07-24 15:08:03,075] Trial 4 finished with value: 1.2054563769702125 and parameters: {'window_size': 120, 'num_actions': 3, 'total_timesteps': 30000, 'n_steps': 1536, 'batch_size': 128, 'n_epochs': 10, 'gamma': 0.903, 'gae_lambda': 0.92, 'clip_range': 0.25, 'learning_rate': 1.2675278269816288e-05, 'ent_coef': 0.00013019246714361573, 'vf_coef': 1.0, 'max_grad_norm': 0.3156057016002752, 'linear_dim': 64, 'dropout': 0.4426169321942941, 'hidden_dim': 506}. Best is trial 4 with value: 1.2054563769702125.\n"
     ]
    },
    {
     "data": {
      "application/vnd.jupyter.widget-view+json": {
       "model_id": "4d0eb29c953f456288ee879cf4176b0f",
       "version_major": 2,
       "version_minor": 0
      },
      "text/plain": [
       "Output()"
      ]
     },
     "metadata": {},
     "output_type": "display_data"
    },
    {
     "name": "stdout",
     "output_type": "stream",
     "text": [
      "Shape of data: (4040, 6) 2010-01-04 00:00:00 2025-06-27 00:00:00\n",
      "feature finance: Index(['f_log_ret', 'f_vol20', 'f_vol60', 'f_vol20/vol60', 'f_ema_10',\n",
      "       'f_ema_20', 'f_rsi', 'f_macd_line', 'f_macd_signal'],\n",
      "      dtype='object')\n",
      "feature time: Index(['day_of_week_sin', 'day_of_week_cos', 'day_of_month_sin',\n",
      "       'day_of_month_cos', 'day_of_year_sin', 'day_of_year_cos',\n",
      "       'week_of_year_sin', 'week_of_year_cos', 'month_sin', 'month_cos',\n",
      "       'quarter_sin', 'quarter_cos', 'is_month_end'],\n",
      "      dtype='object')\n",
      "\n",
      "Окно 1/5 (Год: 2010)\n",
      "Обучение агента 1/3\n"
     ]
    },
    {
     "data": {
      "text/html": [
       "<pre style=\"white-space:pre;overflow-x:auto;line-height:normal;font-family:Menlo,'DejaVu Sans Mono',consolas,'Courier New',monospace\"></pre>\n"
      ],
      "text/plain": []
     },
     "metadata": {},
     "output_type": "display_data"
    },
    {
     "data": {
      "application/vnd.jupyter.widget-view+json": {
       "model_id": "5b519677dbef430ea45463ef6c5dbef8",
       "version_major": 2,
       "version_minor": 0
      },
      "text/plain": [
       "Output()"
      ]
     },
     "metadata": {},
     "output_type": "display_data"
    },
    {
     "name": "stdout",
     "output_type": "stream",
     "text": [
      "Агент 1 Средняя награда: -18.5751\n",
      "Обучение агента 2/3\n"
     ]
    },
    {
     "data": {
      "text/html": [
       "<pre style=\"white-space:pre;overflow-x:auto;line-height:normal;font-family:Menlo,'DejaVu Sans Mono',consolas,'Courier New',monospace\"></pre>\n"
      ],
      "text/plain": []
     },
     "metadata": {},
     "output_type": "display_data"
    },
    {
     "data": {
      "application/vnd.jupyter.widget-view+json": {
       "model_id": "bc9d39e6390c4ecd8f655198752171e6",
       "version_major": 2,
       "version_minor": 0
      },
      "text/plain": [
       "Output()"
      ]
     },
     "metadata": {},
     "output_type": "display_data"
    },
    {
     "name": "stdout",
     "output_type": "stream",
     "text": [
      "Агент 2 Средняя награда: -34.4271\n",
      "Обучение агента 3/3\n"
     ]
    },
    {
     "data": {
      "text/html": [
       "<pre style=\"white-space:pre;overflow-x:auto;line-height:normal;font-family:Menlo,'DejaVu Sans Mono',consolas,'Courier New',monospace\"></pre>\n"
      ],
      "text/plain": []
     },
     "metadata": {},
     "output_type": "display_data"
    },
    {
     "data": {
      "application/vnd.jupyter.widget-view+json": {
       "model_id": "f449b987878a4d659ca5a6a0f54153b0",
       "version_major": 2,
       "version_minor": 0
      },
      "text/plain": [
       "Output()"
      ]
     },
     "metadata": {},
     "output_type": "display_data"
    },
    {
     "name": "stdout",
     "output_type": "stream",
     "text": [
      "Агент 3 Средняя награда: -44.9718\n",
      "\n",
      "Окно 2/5 (Год: 2011)\n",
      "Обучение агента 1/3\n"
     ]
    },
    {
     "data": {
      "text/html": [
       "<pre style=\"white-space:pre;overflow-x:auto;line-height:normal;font-family:Menlo,'DejaVu Sans Mono',consolas,'Courier New',monospace\"></pre>\n"
      ],
      "text/plain": []
     },
     "metadata": {},
     "output_type": "display_data"
    },
    {
     "data": {
      "application/vnd.jupyter.widget-view+json": {
       "model_id": "5ac085b81fab4fe1a4e2acbcbbb02279",
       "version_major": 2,
       "version_minor": 0
      },
      "text/plain": [
       "Output()"
      ]
     },
     "metadata": {},
     "output_type": "display_data"
    },
    {
     "name": "stdout",
     "output_type": "stream",
     "text": [
      "Агент 1 Средняя награда: -2450.1639\n",
      "Обучение агента 2/3\n"
     ]
    },
    {
     "data": {
      "text/html": [
       "<pre style=\"white-space:pre;overflow-x:auto;line-height:normal;font-family:Menlo,'DejaVu Sans Mono',consolas,'Courier New',monospace\"></pre>\n"
      ],
      "text/plain": []
     },
     "metadata": {},
     "output_type": "display_data"
    },
    {
     "data": {
      "application/vnd.jupyter.widget-view+json": {
       "model_id": "ed2aac5ba174482e845b24443519c848",
       "version_major": 2,
       "version_minor": 0
      },
      "text/plain": [
       "Output()"
      ]
     },
     "metadata": {},
     "output_type": "display_data"
    },
    {
     "name": "stdout",
     "output_type": "stream",
     "text": [
      "Агент 2 Средняя награда: -2458.0454\n",
      "Обучение агента 3/3\n"
     ]
    },
    {
     "data": {
      "text/html": [
       "<pre style=\"white-space:pre;overflow-x:auto;line-height:normal;font-family:Menlo,'DejaVu Sans Mono',consolas,'Courier New',monospace\"></pre>\n"
      ],
      "text/plain": []
     },
     "metadata": {},
     "output_type": "display_data"
    },
    {
     "data": {
      "application/vnd.jupyter.widget-view+json": {
       "model_id": "7fac1024ccd340acb154cc0cc6f5b7a1",
       "version_major": 2,
       "version_minor": 0
      },
      "text/plain": [
       "Output()"
      ]
     },
     "metadata": {},
     "output_type": "display_data"
    },
    {
     "name": "stdout",
     "output_type": "stream",
     "text": [
      "Агент 3 Средняя награда: -2456.7310\n",
      "\n",
      "Окно 3/5 (Год: 2012)\n",
      "Обучение агента 1/3\n"
     ]
    },
    {
     "data": {
      "text/html": [
       "<pre style=\"white-space:pre;overflow-x:auto;line-height:normal;font-family:Menlo,'DejaVu Sans Mono',consolas,'Courier New',monospace\"></pre>\n"
      ],
      "text/plain": []
     },
     "metadata": {},
     "output_type": "display_data"
    },
    {
     "data": {
      "application/vnd.jupyter.widget-view+json": {
       "model_id": "e424080182454e7fbb6e3fd16c6567aa",
       "version_major": 2,
       "version_minor": 0
      },
      "text/plain": [
       "Output()"
      ]
     },
     "metadata": {},
     "output_type": "display_data"
    },
    {
     "name": "stdout",
     "output_type": "stream",
     "text": [
      "Агент 1 Средняя награда: 1209.5048\n",
      "Обучение агента 2/3\n"
     ]
    },
    {
     "data": {
      "text/html": [
       "<pre style=\"white-space:pre;overflow-x:auto;line-height:normal;font-family:Menlo,'DejaVu Sans Mono',consolas,'Courier New',monospace\"></pre>\n"
      ],
      "text/plain": []
     },
     "metadata": {},
     "output_type": "display_data"
    },
    {
     "data": {
      "application/vnd.jupyter.widget-view+json": {
       "model_id": "f29bdf7ac89a474384307e33302fab4f",
       "version_major": 2,
       "version_minor": 0
      },
      "text/plain": [
       "Output()"
      ]
     },
     "metadata": {},
     "output_type": "display_data"
    },
    {
     "name": "stdout",
     "output_type": "stream",
     "text": [
      "Агент 2 Средняя награда: 1205.5898\n",
      "Обучение агента 3/3\n"
     ]
    },
    {
     "data": {
      "text/html": [
       "<pre style=\"white-space:pre;overflow-x:auto;line-height:normal;font-family:Menlo,'DejaVu Sans Mono',consolas,'Courier New',monospace\"></pre>\n"
      ],
      "text/plain": []
     },
     "metadata": {},
     "output_type": "display_data"
    },
    {
     "data": {
      "application/vnd.jupyter.widget-view+json": {
       "model_id": "99e19fa707444add9ca02a2fc3522cca",
       "version_major": 2,
       "version_minor": 0
      },
      "text/plain": [
       "Output()"
      ]
     },
     "metadata": {},
     "output_type": "display_data"
    },
    {
     "name": "stdout",
     "output_type": "stream",
     "text": [
      "Агент 3 Средняя награда: 1204.0202\n",
      "\n",
      "Окно 4/5 (Год: 2013)\n",
      "Обучение агента 1/3\n"
     ]
    },
    {
     "data": {
      "text/html": [
       "<pre style=\"white-space:pre;overflow-x:auto;line-height:normal;font-family:Menlo,'DejaVu Sans Mono',consolas,'Courier New',monospace\"></pre>\n"
      ],
      "text/plain": []
     },
     "metadata": {},
     "output_type": "display_data"
    },
    {
     "data": {
      "application/vnd.jupyter.widget-view+json": {
       "model_id": "957f602454144fa196fe8727a575f8f2",
       "version_major": 2,
       "version_minor": 0
      },
      "text/plain": [
       "Output()"
      ]
     },
     "metadata": {},
     "output_type": "display_data"
    },
    {
     "name": "stdout",
     "output_type": "stream",
     "text": [
      "Агент 1 Средняя награда: 22.1520\n",
      "Обучение агента 2/3\n"
     ]
    },
    {
     "data": {
      "text/html": [
       "<pre style=\"white-space:pre;overflow-x:auto;line-height:normal;font-family:Menlo,'DejaVu Sans Mono',consolas,'Courier New',monospace\"></pre>\n"
      ],
      "text/plain": []
     },
     "metadata": {},
     "output_type": "display_data"
    },
    {
     "data": {
      "application/vnd.jupyter.widget-view+json": {
       "model_id": "617b3fba1153452da174ff39633c34e2",
       "version_major": 2,
       "version_minor": 0
      },
      "text/plain": [
       "Output()"
      ]
     },
     "metadata": {},
     "output_type": "display_data"
    },
    {
     "name": "stdout",
     "output_type": "stream",
     "text": [
      "Агент 2 Средняя награда: 18.3436\n",
      "Обучение агента 3/3\n"
     ]
    },
    {
     "data": {
      "text/html": [
       "<pre style=\"white-space:pre;overflow-x:auto;line-height:normal;font-family:Menlo,'DejaVu Sans Mono',consolas,'Courier New',monospace\"></pre>\n"
      ],
      "text/plain": []
     },
     "metadata": {},
     "output_type": "display_data"
    },
    {
     "data": {
      "application/vnd.jupyter.widget-view+json": {
       "model_id": "4b1ded6398554788af9c542433b8c50e",
       "version_major": 2,
       "version_minor": 0
      },
      "text/plain": [
       "Output()"
      ]
     },
     "metadata": {},
     "output_type": "display_data"
    },
    {
     "name": "stdout",
     "output_type": "stream",
     "text": [
      "Агент 3 Средняя награда: 23.5143\n",
      "\n",
      "Окно 5/5 (Год: 2014)\n",
      "Обучение агента 1/3\n"
     ]
    },
    {
     "data": {
      "text/html": [
       "<pre style=\"white-space:pre;overflow-x:auto;line-height:normal;font-family:Menlo,'DejaVu Sans Mono',consolas,'Courier New',monospace\"></pre>\n"
      ],
      "text/plain": []
     },
     "metadata": {},
     "output_type": "display_data"
    },
    {
     "data": {
      "application/vnd.jupyter.widget-view+json": {
       "model_id": "fe70e4787d4f42e4893d813c8b2a05f1",
       "version_major": 2,
       "version_minor": 0
      },
      "text/plain": [
       "Output()"
      ]
     },
     "metadata": {},
     "output_type": "display_data"
    },
    {
     "name": "stdout",
     "output_type": "stream",
     "text": [
      "Агент 1 Средняя награда: 1.5507\n",
      "Обучение агента 2/3\n"
     ]
    },
    {
     "data": {
      "text/html": [
       "<pre style=\"white-space:pre;overflow-x:auto;line-height:normal;font-family:Menlo,'DejaVu Sans Mono',consolas,'Courier New',monospace\"></pre>\n"
      ],
      "text/plain": []
     },
     "metadata": {},
     "output_type": "display_data"
    },
    {
     "data": {
      "application/vnd.jupyter.widget-view+json": {
       "model_id": "777d868d509f4ccb8e6060d2d3d0416f",
       "version_major": 2,
       "version_minor": 0
      },
      "text/plain": [
       "Output()"
      ]
     },
     "metadata": {},
     "output_type": "display_data"
    },
    {
     "name": "stdout",
     "output_type": "stream",
     "text": [
      "Агент 2 Средняя награда: -20.4738\n",
      "Обучение агента 3/3\n"
     ]
    },
    {
     "data": {
      "text/html": [
       "<pre style=\"white-space:pre;overflow-x:auto;line-height:normal;font-family:Menlo,'DejaVu Sans Mono',consolas,'Courier New',monospace\"></pre>\n"
      ],
      "text/plain": []
     },
     "metadata": {},
     "output_type": "display_data"
    },
    {
     "name": "stdout",
     "output_type": "stream",
     "text": [
      "Агент 3 Средняя награда: -2.3986\n",
      "[I 2025-07-24 15:15:09,867] Trial 5 finished with value: 0.8305804972543698 and parameters: {'window_size': 90, 'num_actions': 11, 'total_timesteps': 30000, 'n_steps': 128, 'batch_size': 128, 'n_epochs': 7, 'gamma': 0.9690000000000001, 'gae_lambda': 0.88, 'clip_range': 0.4, 'learning_rate': 1.883830778761975e-05, 'ent_coef': 0.00023134781612225627, 'vf_coef': 0.2, 'max_grad_norm': 0.9322242564507065, 'linear_dim': 229, 'dropout': 0.28055913940060895, 'hidden_dim': 360}. Best is trial 4 with value: 1.2054563769702125.\n"
     ]
    },
    {
     "data": {
      "application/vnd.jupyter.widget-view+json": {
       "model_id": "5b222506a38d44989e77b6ae6928db03",
       "version_major": 2,
       "version_minor": 0
      },
      "text/plain": [
       "Output()"
      ]
     },
     "metadata": {},
     "output_type": "display_data"
    },
    {
     "name": "stdout",
     "output_type": "stream",
     "text": [
      "Shape of data: (4040, 6) 2010-01-04 00:00:00 2025-06-27 00:00:00\n",
      "feature finance: Index(['f_log_ret', 'f_vol20', 'f_vol60', 'f_vol20/vol60', 'f_ema_10',\n",
      "       'f_ema_20', 'f_rsi', 'f_macd_line', 'f_macd_signal'],\n",
      "      dtype='object')\n",
      "feature time: Index(['day_of_week_sin', 'day_of_week_cos', 'day_of_month_sin',\n",
      "       'day_of_month_cos', 'day_of_year_sin', 'day_of_year_cos',\n",
      "       'week_of_year_sin', 'week_of_year_cos', 'month_sin', 'month_cos',\n",
      "       'quarter_sin', 'quarter_cos', 'is_month_end'],\n",
      "      dtype='object')\n",
      "\n",
      "Окно 1/5 (Год: 2010)\n",
      "Обучение агента 1/3\n"
     ]
    },
    {
     "data": {
      "text/html": [
       "<pre style=\"white-space:pre;overflow-x:auto;line-height:normal;font-family:Menlo,'DejaVu Sans Mono',consolas,'Courier New',monospace\"></pre>\n"
      ],
      "text/plain": []
     },
     "metadata": {},
     "output_type": "display_data"
    },
    {
     "data": {
      "application/vnd.jupyter.widget-view+json": {
       "model_id": "11c0a33063c9412897030f4d12092794",
       "version_major": 2,
       "version_minor": 0
      },
      "text/plain": [
       "Output()"
      ]
     },
     "metadata": {},
     "output_type": "display_data"
    },
    {
     "name": "stdout",
     "output_type": "stream",
     "text": [
      "Агент 1 Средняя награда: -24.7805\n",
      "Обучение агента 2/3\n"
     ]
    },
    {
     "data": {
      "text/html": [
       "<pre style=\"white-space:pre;overflow-x:auto;line-height:normal;font-family:Menlo,'DejaVu Sans Mono',consolas,'Courier New',monospace\"></pre>\n"
      ],
      "text/plain": []
     },
     "metadata": {},
     "output_type": "display_data"
    },
    {
     "data": {
      "application/vnd.jupyter.widget-view+json": {
       "model_id": "8c6a6178d51b4aae966bbfb8e9fc9c26",
       "version_major": 2,
       "version_minor": 0
      },
      "text/plain": [
       "Output()"
      ]
     },
     "metadata": {},
     "output_type": "display_data"
    },
    {
     "name": "stdout",
     "output_type": "stream",
     "text": [
      "Агент 2 Средняя награда: -52.1125\n",
      "Обучение агента 3/3\n"
     ]
    },
    {
     "data": {
      "text/html": [
       "<pre style=\"white-space:pre;overflow-x:auto;line-height:normal;font-family:Menlo,'DejaVu Sans Mono',consolas,'Courier New',monospace\"></pre>\n"
      ],
      "text/plain": []
     },
     "metadata": {},
     "output_type": "display_data"
    },
    {
     "data": {
      "application/vnd.jupyter.widget-view+json": {
       "model_id": "a88676494f1747ac93ba2a026af887f6",
       "version_major": 2,
       "version_minor": 0
      },
      "text/plain": [
       "Output()"
      ]
     },
     "metadata": {},
     "output_type": "display_data"
    },
    {
     "name": "stdout",
     "output_type": "stream",
     "text": [
      "Агент 3 Средняя награда: 48.8583\n",
      "\n",
      "Окно 2/5 (Год: 2011)\n",
      "Обучение агента 1/3\n"
     ]
    },
    {
     "data": {
      "text/html": [
       "<pre style=\"white-space:pre;overflow-x:auto;line-height:normal;font-family:Menlo,'DejaVu Sans Mono',consolas,'Courier New',monospace\"></pre>\n"
      ],
      "text/plain": []
     },
     "metadata": {},
     "output_type": "display_data"
    },
    {
     "data": {
      "application/vnd.jupyter.widget-view+json": {
       "model_id": "cc74530ebca64d01a330af0d8de28788",
       "version_major": 2,
       "version_minor": 0
      },
      "text/plain": [
       "Output()"
      ]
     },
     "metadata": {},
     "output_type": "display_data"
    },
    {
     "name": "stdout",
     "output_type": "stream",
     "text": [
      "Агент 1 Средняя награда: -7.8586\n",
      "Обучение агента 2/3\n"
     ]
    },
    {
     "data": {
      "text/html": [
       "<pre style=\"white-space:pre;overflow-x:auto;line-height:normal;font-family:Menlo,'DejaVu Sans Mono',consolas,'Courier New',monospace\"></pre>\n"
      ],
      "text/plain": []
     },
     "metadata": {},
     "output_type": "display_data"
    },
    {
     "data": {
      "application/vnd.jupyter.widget-view+json": {
       "model_id": "8bdebe91bd2b43a4852ab67710636b5b",
       "version_major": 2,
       "version_minor": 0
      },
      "text/plain": [
       "Output()"
      ]
     },
     "metadata": {},
     "output_type": "display_data"
    },
    {
     "name": "stdout",
     "output_type": "stream",
     "text": [
      "Агент 2 Средняя награда: 30.3720\n",
      "Обучение агента 3/3\n"
     ]
    },
    {
     "data": {
      "text/html": [
       "<pre style=\"white-space:pre;overflow-x:auto;line-height:normal;font-family:Menlo,'DejaVu Sans Mono',consolas,'Courier New',monospace\"></pre>\n"
      ],
      "text/plain": []
     },
     "metadata": {},
     "output_type": "display_data"
    },
    {
     "data": {
      "application/vnd.jupyter.widget-view+json": {
       "model_id": "367d9b5920d84ea1963ad36cb872e90e",
       "version_major": 2,
       "version_minor": 0
      },
      "text/plain": [
       "Output()"
      ]
     },
     "metadata": {},
     "output_type": "display_data"
    },
    {
     "name": "stdout",
     "output_type": "stream",
     "text": [
      "Агент 3 Средняя награда: 28.6861\n",
      "\n",
      "Окно 3/5 (Год: 2012)\n",
      "Обучение агента 1/3\n"
     ]
    },
    {
     "data": {
      "text/html": [
       "<pre style=\"white-space:pre;overflow-x:auto;line-height:normal;font-family:Menlo,'DejaVu Sans Mono',consolas,'Courier New',monospace\"></pre>\n"
      ],
      "text/plain": []
     },
     "metadata": {},
     "output_type": "display_data"
    },
    {
     "data": {
      "application/vnd.jupyter.widget-view+json": {
       "model_id": "3ebc9b4fa9e64be7aac5c81bce223f96",
       "version_major": 2,
       "version_minor": 0
      },
      "text/plain": [
       "Output()"
      ]
     },
     "metadata": {},
     "output_type": "display_data"
    },
    {
     "name": "stdout",
     "output_type": "stream",
     "text": [
      "Агент 1 Средняя награда: 10.4663\n",
      "Обучение агента 2/3\n"
     ]
    },
    {
     "data": {
      "text/html": [
       "<pre style=\"white-space:pre;overflow-x:auto;line-height:normal;font-family:Menlo,'DejaVu Sans Mono',consolas,'Courier New',monospace\"></pre>\n"
      ],
      "text/plain": []
     },
     "metadata": {},
     "output_type": "display_data"
    },
    {
     "data": {
      "application/vnd.jupyter.widget-view+json": {
       "model_id": "fff18dbd1c304b878768be3b7d0804fa",
       "version_major": 2,
       "version_minor": 0
      },
      "text/plain": [
       "Output()"
      ]
     },
     "metadata": {},
     "output_type": "display_data"
    },
    {
     "name": "stdout",
     "output_type": "stream",
     "text": [
      "Агент 2 Средняя награда: 7.2611\n",
      "Обучение агента 3/3\n"
     ]
    },
    {
     "data": {
      "text/html": [
       "<pre style=\"white-space:pre;overflow-x:auto;line-height:normal;font-family:Menlo,'DejaVu Sans Mono',consolas,'Courier New',monospace\"></pre>\n"
      ],
      "text/plain": []
     },
     "metadata": {},
     "output_type": "display_data"
    },
    {
     "data": {
      "application/vnd.jupyter.widget-view+json": {
       "model_id": "f47482f304074cc88a5d33b96de2dbf0",
       "version_major": 2,
       "version_minor": 0
      },
      "text/plain": [
       "Output()"
      ]
     },
     "metadata": {},
     "output_type": "display_data"
    },
    {
     "name": "stdout",
     "output_type": "stream",
     "text": [
      "Агент 3 Средняя награда: 16.8586\n",
      "\n",
      "Окно 4/5 (Год: 2013)\n",
      "Обучение агента 1/3\n"
     ]
    },
    {
     "data": {
      "text/html": [
       "<pre style=\"white-space:pre;overflow-x:auto;line-height:normal;font-family:Menlo,'DejaVu Sans Mono',consolas,'Courier New',monospace\"></pre>\n"
      ],
      "text/plain": []
     },
     "metadata": {},
     "output_type": "display_data"
    },
    {
     "data": {
      "application/vnd.jupyter.widget-view+json": {
       "model_id": "66d5a32879f3458bb533817113153951",
       "version_major": 2,
       "version_minor": 0
      },
      "text/plain": [
       "Output()"
      ]
     },
     "metadata": {},
     "output_type": "display_data"
    },
    {
     "name": "stdout",
     "output_type": "stream",
     "text": [
      "Агент 1 Средняя награда: 39.1701\n",
      "Обучение агента 2/3\n"
     ]
    },
    {
     "data": {
      "text/html": [
       "<pre style=\"white-space:pre;overflow-x:auto;line-height:normal;font-family:Menlo,'DejaVu Sans Mono',consolas,'Courier New',monospace\"></pre>\n"
      ],
      "text/plain": []
     },
     "metadata": {},
     "output_type": "display_data"
    },
    {
     "data": {
      "application/vnd.jupyter.widget-view+json": {
       "model_id": "5df7d92678374c96bffb68757540146c",
       "version_major": 2,
       "version_minor": 0
      },
      "text/plain": [
       "Output()"
      ]
     },
     "metadata": {},
     "output_type": "display_data"
    },
    {
     "name": "stdout",
     "output_type": "stream",
     "text": [
      "Агент 2 Средняя награда: 58.6749\n",
      "Обучение агента 3/3\n"
     ]
    },
    {
     "data": {
      "text/html": [
       "<pre style=\"white-space:pre;overflow-x:auto;line-height:normal;font-family:Menlo,'DejaVu Sans Mono',consolas,'Courier New',monospace\"></pre>\n"
      ],
      "text/plain": []
     },
     "metadata": {},
     "output_type": "display_data"
    },
    {
     "data": {
      "application/vnd.jupyter.widget-view+json": {
       "model_id": "6203d346afaf4465b7e6155f2b94ca44",
       "version_major": 2,
       "version_minor": 0
      },
      "text/plain": [
       "Output()"
      ]
     },
     "metadata": {},
     "output_type": "display_data"
    },
    {
     "name": "stdout",
     "output_type": "stream",
     "text": [
      "Агент 3 Средняя награда: 64.7350\n",
      "\n",
      "Окно 5/5 (Год: 2014)\n",
      "Обучение агента 1/3\n"
     ]
    },
    {
     "data": {
      "text/html": [
       "<pre style=\"white-space:pre;overflow-x:auto;line-height:normal;font-family:Menlo,'DejaVu Sans Mono',consolas,'Courier New',monospace\"></pre>\n"
      ],
      "text/plain": []
     },
     "metadata": {},
     "output_type": "display_data"
    },
    {
     "data": {
      "application/vnd.jupyter.widget-view+json": {
       "model_id": "0a3be2d576804f2faa16f2a8c48bdb1f",
       "version_major": 2,
       "version_minor": 0
      },
      "text/plain": [
       "Output()"
      ]
     },
     "metadata": {},
     "output_type": "display_data"
    },
    {
     "name": "stdout",
     "output_type": "stream",
     "text": [
      "Агент 1 Средняя награда: 118.0346\n",
      "Обучение агента 2/3\n"
     ]
    },
    {
     "data": {
      "text/html": [
       "<pre style=\"white-space:pre;overflow-x:auto;line-height:normal;font-family:Menlo,'DejaVu Sans Mono',consolas,'Courier New',monospace\"></pre>\n"
      ],
      "text/plain": []
     },
     "metadata": {},
     "output_type": "display_data"
    },
    {
     "data": {
      "application/vnd.jupyter.widget-view+json": {
       "model_id": "14eddc745bb64b1d9154970eca66fc22",
       "version_major": 2,
       "version_minor": 0
      },
      "text/plain": [
       "Output()"
      ]
     },
     "metadata": {},
     "output_type": "display_data"
    },
    {
     "name": "stdout",
     "output_type": "stream",
     "text": [
      "Агент 2 Средняя награда: 89.1065\n",
      "Обучение агента 3/3\n"
     ]
    },
    {
     "data": {
      "text/html": [
       "<pre style=\"white-space:pre;overflow-x:auto;line-height:normal;font-family:Menlo,'DejaVu Sans Mono',consolas,'Courier New',monospace\"></pre>\n"
      ],
      "text/plain": []
     },
     "metadata": {},
     "output_type": "display_data"
    },
    {
     "name": "stdout",
     "output_type": "stream",
     "text": [
      "Агент 3 Средняя награда: 63.2675\n",
      "[I 2025-07-24 15:23:04,511] Trial 6 finished with value: 0.8785571155399038 and parameters: {'window_size': 30, 'num_actions': 5, 'total_timesteps': 50000, 'n_steps': 1664, 'batch_size': 512, 'n_epochs': 5, 'gamma': 0.966, 'gae_lambda': 0.8, 'clip_range': 0.15000000000000002, 'learning_rate': 0.00012516058337570362, 'ent_coef': 0.005855726588796253, 'vf_coef': 0.7000000000000001, 'max_grad_norm': 0.3018423785145038, 'linear_dim': 192, 'dropout': 0.26607436124776007, 'hidden_dim': 210}. Best is trial 4 with value: 1.2054563769702125.\n"
     ]
    },
    {
     "data": {
      "application/vnd.jupyter.widget-view+json": {
       "model_id": "881944a291eb489ebf7b87474a352ad9",
       "version_major": 2,
       "version_minor": 0
      },
      "text/plain": [
       "Output()"
      ]
     },
     "metadata": {},
     "output_type": "display_data"
    },
    {
     "name": "stdout",
     "output_type": "stream",
     "text": [
      "Shape of data: (4040, 6) 2010-01-04 00:00:00 2025-06-27 00:00:00\n",
      "feature finance: Index(['f_log_ret', 'f_vol20', 'f_vol60', 'f_vol20/vol60', 'f_ema_10',\n",
      "       'f_ema_20', 'f_rsi', 'f_macd_line', 'f_macd_signal'],\n",
      "      dtype='object')\n",
      "feature time: Index(['day_of_week_sin', 'day_of_week_cos', 'day_of_month_sin',\n",
      "       'day_of_month_cos', 'day_of_year_sin', 'day_of_year_cos',\n",
      "       'week_of_year_sin', 'week_of_year_cos', 'month_sin', 'month_cos',\n",
      "       'quarter_sin', 'quarter_cos', 'is_month_end'],\n",
      "      dtype='object')\n",
      "\n",
      "Окно 1/5 (Год: 2010)\n",
      "Обучение агента 1/3\n"
     ]
    },
    {
     "data": {
      "text/html": [
       "<pre style=\"white-space:pre;overflow-x:auto;line-height:normal;font-family:Menlo,'DejaVu Sans Mono',consolas,'Courier New',monospace\"></pre>\n"
      ],
      "text/plain": []
     },
     "metadata": {},
     "output_type": "display_data"
    },
    {
     "data": {
      "application/vnd.jupyter.widget-view+json": {
       "model_id": "d8b9dc1c11084d94ba0f0e888c0f1c73",
       "version_major": 2,
       "version_minor": 0
      },
      "text/plain": [
       "Output()"
      ]
     },
     "metadata": {},
     "output_type": "display_data"
    },
    {
     "name": "stdout",
     "output_type": "stream",
     "text": [
      "Агент 1 Средняя награда: -34.1389\n",
      "Обучение агента 2/3\n"
     ]
    },
    {
     "data": {
      "text/html": [
       "<pre style=\"white-space:pre;overflow-x:auto;line-height:normal;font-family:Menlo,'DejaVu Sans Mono',consolas,'Courier New',monospace\"></pre>\n"
      ],
      "text/plain": []
     },
     "metadata": {},
     "output_type": "display_data"
    },
    {
     "data": {
      "application/vnd.jupyter.widget-view+json": {
       "model_id": "8aebdb424fb7478fad65696e18be2ffb",
       "version_major": 2,
       "version_minor": 0
      },
      "text/plain": [
       "Output()"
      ]
     },
     "metadata": {},
     "output_type": "display_data"
    },
    {
     "name": "stdout",
     "output_type": "stream",
     "text": [
      "Агент 2 Средняя награда: -39.4530\n",
      "Обучение агента 3/3\n"
     ]
    },
    {
     "data": {
      "text/html": [
       "<pre style=\"white-space:pre;overflow-x:auto;line-height:normal;font-family:Menlo,'DejaVu Sans Mono',consolas,'Courier New',monospace\"></pre>\n"
      ],
      "text/plain": []
     },
     "metadata": {},
     "output_type": "display_data"
    },
    {
     "data": {
      "application/vnd.jupyter.widget-view+json": {
       "model_id": "d113359a41644c5ab348bed11144f9b1",
       "version_major": 2,
       "version_minor": 0
      },
      "text/plain": [
       "Output()"
      ]
     },
     "metadata": {},
     "output_type": "display_data"
    },
    {
     "data": {
      "text/html": [
       "<pre style=\"white-space:pre;overflow-x:auto;line-height:normal;font-family:Menlo,'DejaVu Sans Mono',consolas,'Courier New',monospace\"></pre>\n"
      ],
      "text/plain": []
     },
     "metadata": {},
     "output_type": "display_data"
    },
    {
     "data": {
      "application/vnd.jupyter.widget-view+json": {
       "model_id": "61764485fc6c4184a33de6fb9c9adefc",
       "version_major": 2,
       "version_minor": 0
      },
      "text/plain": [
       "Output()"
      ]
     },
     "metadata": {},
     "output_type": "display_data"
    },
    {
     "name": "stdout",
     "output_type": "stream",
     "text": [
      "Агент 1 Средняя награда: -9.4051\n",
      "Обучение агента 2/3\n"
     ]
    },
    {
     "data": {
      "text/html": [
       "<pre style=\"white-space:pre;overflow-x:auto;line-height:normal;font-family:Menlo,'DejaVu Sans Mono',consolas,'Courier New',monospace\"></pre>\n"
      ],
      "text/plain": []
     },
     "metadata": {},
     "output_type": "display_data"
    },
    {
     "data": {
      "application/vnd.jupyter.widget-view+json": {
       "model_id": "ecc4cc5c1f404a5397947e2bba867e9c",
       "version_major": 2,
       "version_minor": 0
      },
      "text/plain": [
       "Output()"
      ]
     },
     "metadata": {},
     "output_type": "display_data"
    },
    {
     "name": "stdout",
     "output_type": "stream",
     "text": [
      "Агент 2 Средняя награда: -2442.5192\n",
      "Обучение агента 3/3\n"
     ]
    },
    {
     "data": {
      "text/html": [
       "<pre style=\"white-space:pre;overflow-x:auto;line-height:normal;font-family:Menlo,'DejaVu Sans Mono',consolas,'Courier New',monospace\"></pre>\n"
      ],
      "text/plain": []
     },
     "metadata": {},
     "output_type": "display_data"
    },
    {
     "data": {
      "application/vnd.jupyter.widget-view+json": {
       "model_id": "a0e22fb3b188463987d652648bb7b2d5",
       "version_major": 2,
       "version_minor": 0
      },
      "text/plain": [
       "Output()"
      ]
     },
     "metadata": {},
     "output_type": "display_data"
    },
    {
     "name": "stdout",
     "output_type": "stream",
     "text": [
      "Агент 3 Средняя награда: -4.6881\n",
      "\n",
      "Окно 3/5 (Год: 2012)\n",
      "Обучение агента 1/3\n"
     ]
    },
    {
     "data": {
      "text/html": [
       "<pre style=\"white-space:pre;overflow-x:auto;line-height:normal;font-family:Menlo,'DejaVu Sans Mono',consolas,'Courier New',monospace\"></pre>\n"
      ],
      "text/plain": []
     },
     "metadata": {},
     "output_type": "display_data"
    },
    {
     "data": {
      "application/vnd.jupyter.widget-view+json": {
       "model_id": "b2e4610571e94ac0b51a186b1501ab17",
       "version_major": 2,
       "version_minor": 0
      },
      "text/plain": [
       "Output()"
      ]
     },
     "metadata": {},
     "output_type": "display_data"
    },
    {
     "name": "stdout",
     "output_type": "stream",
     "text": [
      "Агент 1 Средняя награда: 1195.8892\n",
      "Обучение агента 2/3\n"
     ]
    },
    {
     "data": {
      "text/html": [
       "<pre style=\"white-space:pre;overflow-x:auto;line-height:normal;font-family:Menlo,'DejaVu Sans Mono',consolas,'Courier New',monospace\"></pre>\n"
      ],
      "text/plain": []
     },
     "metadata": {},
     "output_type": "display_data"
    },
    {
     "data": {
      "application/vnd.jupyter.widget-view+json": {
       "model_id": "6097d994f4c8459491e8ba0f82d54295",
       "version_major": 2,
       "version_minor": 0
      },
      "text/plain": [
       "Output()"
      ]
     },
     "metadata": {},
     "output_type": "display_data"
    },
    {
     "name": "stdout",
     "output_type": "stream",
     "text": [
      "Агент 2 Средняя награда: 1206.7365\n",
      "Обучение агента 3/3\n"
     ]
    },
    {
     "data": {
      "text/html": [
       "<pre style=\"white-space:pre;overflow-x:auto;line-height:normal;font-family:Menlo,'DejaVu Sans Mono',consolas,'Courier New',monospace\"></pre>\n"
      ],
      "text/plain": []
     },
     "metadata": {},
     "output_type": "display_data"
    },
    {
     "data": {
      "application/vnd.jupyter.widget-view+json": {
       "model_id": "fbf7973bdae440909919dfeaa88d8f22",
       "version_major": 2,
       "version_minor": 0
      },
      "text/plain": [
       "Output()"
      ]
     },
     "metadata": {},
     "output_type": "display_data"
    },
    {
     "name": "stdout",
     "output_type": "stream",
     "text": [
      "Агент 3 Средняя награда: 1195.5760\n",
      "\n",
      "Окно 4/5 (Год: 2013)\n",
      "Обучение агента 1/3\n"
     ]
    },
    {
     "data": {
      "text/html": [
       "<pre style=\"white-space:pre;overflow-x:auto;line-height:normal;font-family:Menlo,'DejaVu Sans Mono',consolas,'Courier New',monospace\"></pre>\n"
      ],
      "text/plain": []
     },
     "metadata": {},
     "output_type": "display_data"
    },
    {
     "data": {
      "application/vnd.jupyter.widget-view+json": {
       "model_id": "7e908420fe17430f910b7ad0f2e4dc11",
       "version_major": 2,
       "version_minor": 0
      },
      "text/plain": [
       "Output()"
      ]
     },
     "metadata": {},
     "output_type": "display_data"
    },
    {
     "name": "stdout",
     "output_type": "stream",
     "text": [
      "Агент 1 Средняя награда: 2.9278\n",
      "Обучение агента 2/3\n"
     ]
    },
    {
     "data": {
      "text/html": [
       "<pre style=\"white-space:pre;overflow-x:auto;line-height:normal;font-family:Menlo,'DejaVu Sans Mono',consolas,'Courier New',monospace\"></pre>\n"
      ],
      "text/plain": []
     },
     "metadata": {},
     "output_type": "display_data"
    },
    {
     "data": {
      "application/vnd.jupyter.widget-view+json": {
       "model_id": "a6bcfc4180d14c3c999549dfa2b69f39",
       "version_major": 2,
       "version_minor": 0
      },
      "text/plain": [
       "Output()"
      ]
     },
     "metadata": {},
     "output_type": "display_data"
    },
    {
     "name": "stdout",
     "output_type": "stream",
     "text": [
      "Агент 2 Средняя награда: -45.4683\n",
      "Обучение агента 3/3\n"
     ]
    },
    {
     "data": {
      "text/html": [
       "<pre style=\"white-space:pre;overflow-x:auto;line-height:normal;font-family:Menlo,'DejaVu Sans Mono',consolas,'Courier New',monospace\"></pre>\n"
      ],
      "text/plain": []
     },
     "metadata": {},
     "output_type": "display_data"
    },
    {
     "data": {
      "application/vnd.jupyter.widget-view+json": {
       "model_id": "bc2a8cd7eb33478dadadbde41de231cd",
       "version_major": 2,
       "version_minor": 0
      },
      "text/plain": [
       "Output()"
      ]
     },
     "metadata": {},
     "output_type": "display_data"
    },
    {
     "name": "stdout",
     "output_type": "stream",
     "text": [
      "Агент 3 Средняя награда: -28.5782\n",
      "\n",
      "Окно 5/5 (Год: 2014)\n",
      "Обучение агента 1/3\n"
     ]
    },
    {
     "data": {
      "text/html": [
       "<pre style=\"white-space:pre;overflow-x:auto;line-height:normal;font-family:Menlo,'DejaVu Sans Mono',consolas,'Courier New',monospace\"></pre>\n"
      ],
      "text/plain": []
     },
     "metadata": {},
     "output_type": "display_data"
    },
    {
     "data": {
      "application/vnd.jupyter.widget-view+json": {
       "model_id": "48844efa742249159e38600a27c8dfac",
       "version_major": 2,
       "version_minor": 0
      },
      "text/plain": [
       "Output()"
      ]
     },
     "metadata": {},
     "output_type": "display_data"
    },
    {
     "name": "stdout",
     "output_type": "stream",
     "text": [
      "Агент 1 Средняя награда: -27.5887\n",
      "Обучение агента 2/3\n"
     ]
    },
    {
     "data": {
      "text/html": [
       "<pre style=\"white-space:pre;overflow-x:auto;line-height:normal;font-family:Menlo,'DejaVu Sans Mono',consolas,'Courier New',monospace\"></pre>\n"
      ],
      "text/plain": []
     },
     "metadata": {},
     "output_type": "display_data"
    },
    {
     "data": {
      "application/vnd.jupyter.widget-view+json": {
       "model_id": "dc325db8506740d7a91dab591bb56523",
       "version_major": 2,
       "version_minor": 0
      },
      "text/plain": [
       "Output()"
      ]
     },
     "metadata": {},
     "output_type": "display_data"
    },
    {
     "name": "stdout",
     "output_type": "stream",
     "text": [
      "Агент 2 Средняя награда: 1.4004\n",
      "Обучение агента 3/3\n"
     ]
    },
    {
     "data": {
      "text/html": [
       "<pre style=\"white-space:pre;overflow-x:auto;line-height:normal;font-family:Menlo,'DejaVu Sans Mono',consolas,'Courier New',monospace\"></pre>\n"
      ],
      "text/plain": []
     },
     "metadata": {},
     "output_type": "display_data"
    },
    {
     "name": "stdout",
     "output_type": "stream",
     "text": [
      "Агент 3 Средняя награда: -37.9018\n",
      "[I 2025-07-24 15:31:32,298] Trial 7 finished with value: 1.20514946050551 and parameters: {'window_size': 90, 'num_actions': 27, 'total_timesteps': 50000, 'n_steps': 1664, 'batch_size': 1024, 'n_epochs': 3, 'gamma': 0.964, 'gae_lambda': 0.8300000000000001, 'clip_range': 0.4, 'learning_rate': 0.0008088298191148202, 'ent_coef': 0.04565176372646328, 'vf_coef': 0.4, 'max_grad_norm': 0.11391095487598069, 'linear_dim': 240, 'dropout': 0.3997289038221201, 'hidden_dim': 498}. Best is trial 4 with value: 1.2054563769702125.\n"
     ]
    },
    {
     "data": {
      "application/vnd.jupyter.widget-view+json": {
       "model_id": "f1aa7d09eacd4d1291353b1fa3f6ecc7",
       "version_major": 2,
       "version_minor": 0
      },
      "text/plain": [
       "Output()"
      ]
     },
     "metadata": {},
     "output_type": "display_data"
    },
    {
     "name": "stdout",
     "output_type": "stream",
     "text": [
      "Shape of data: (4040, 6) 2010-01-04 00:00:00 2025-06-27 00:00:00\n",
      "feature finance: Index(['f_log_ret', 'f_vol20', 'f_vol60', 'f_vol20/vol60', 'f_ema_10',\n",
      "       'f_ema_20', 'f_rsi', 'f_macd_line', 'f_macd_signal'],\n",
      "      dtype='object')\n",
      "feature time: Index(['day_of_week_sin', 'day_of_week_cos', 'day_of_month_sin',\n",
      "       'day_of_month_cos', 'day_of_year_sin', 'day_of_year_cos',\n",
      "       'week_of_year_sin', 'week_of_year_cos', 'month_sin', 'month_cos',\n",
      "       'quarter_sin', 'quarter_cos', 'is_month_end'],\n",
      "      dtype='object')\n",
      "\n",
      "Окно 1/5 (Год: 2010)\n",
      "Обучение агента 1/3\n"
     ]
    },
    {
     "data": {
      "text/html": [
       "<pre style=\"white-space:pre;overflow-x:auto;line-height:normal;font-family:Menlo,'DejaVu Sans Mono',consolas,'Courier New',monospace\"></pre>\n"
      ],
      "text/plain": []
     },
     "metadata": {},
     "output_type": "display_data"
    },
    {
     "data": {
      "application/vnd.jupyter.widget-view+json": {
       "model_id": "1bb7d08b73744238b31c3aa0d918fa7b",
       "version_major": 2,
       "version_minor": 0
      },
      "text/plain": [
       "Output()"
      ]
     },
     "metadata": {},
     "output_type": "display_data"
    },
    {
     "name": "stdout",
     "output_type": "stream",
     "text": [
      "Агент 1 Средняя награда: -66.2682\n",
      "Обучение агента 2/3\n"
     ]
    },
    {
     "data": {
      "text/html": [
       "<pre style=\"white-space:pre;overflow-x:auto;line-height:normal;font-family:Menlo,'DejaVu Sans Mono',consolas,'Courier New',monospace\"></pre>\n"
      ],
      "text/plain": []
     },
     "metadata": {},
     "output_type": "display_data"
    },
    {
     "data": {
      "application/vnd.jupyter.widget-view+json": {
       "model_id": "7253bf20cb0244d3b7ec24740de7bf97",
       "version_major": 2,
       "version_minor": 0
      },
      "text/plain": [
       "Output()"
      ]
     },
     "metadata": {},
     "output_type": "display_data"
    },
    {
     "name": "stdout",
     "output_type": "stream",
     "text": [
      "Агент 2 Средняя награда: -62.7629\n",
      "Обучение агента 3/3\n"
     ]
    },
    {
     "data": {
      "text/html": [
       "<pre style=\"white-space:pre;overflow-x:auto;line-height:normal;font-family:Menlo,'DejaVu Sans Mono',consolas,'Courier New',monospace\"></pre>\n"
      ],
      "text/plain": []
     },
     "metadata": {},
     "output_type": "display_data"
    },
    {
     "data": {
      "application/vnd.jupyter.widget-view+json": {
       "model_id": "970865d6f9624ab598a29a56d6b9aa8f",
       "version_major": 2,
       "version_minor": 0
      },
      "text/plain": [
       "Output()"
      ]
     },
     "metadata": {},
     "output_type": "display_data"
    },
    {
     "name": "stdout",
     "output_type": "stream",
     "text": [
      "Агент 3 Средняя награда: -41.6053\n",
      "\n",
      "Окно 2/5 (Год: 2011)\n",
      "Обучение агента 1/3\n"
     ]
    },
    {
     "data": {
      "text/html": [
       "<pre style=\"white-space:pre;overflow-x:auto;line-height:normal;font-family:Menlo,'DejaVu Sans Mono',consolas,'Courier New',monospace\"></pre>\n"
      ],
      "text/plain": []
     },
     "metadata": {},
     "output_type": "display_data"
    },
    {
     "data": {
      "application/vnd.jupyter.widget-view+json": {
       "model_id": "a82a3b28f72e440f911d069cd7d9ad5b",
       "version_major": 2,
       "version_minor": 0
      },
      "text/plain": [
       "Output()"
      ]
     },
     "metadata": {},
     "output_type": "display_data"
    },
    {
     "name": "stdout",
     "output_type": "stream",
     "text": [
      "Агент 1 Средняя награда: 35.2424\n",
      "Обучение агента 2/3\n"
     ]
    },
    {
     "data": {
      "text/html": [
       "<pre style=\"white-space:pre;overflow-x:auto;line-height:normal;font-family:Menlo,'DejaVu Sans Mono',consolas,'Courier New',monospace\"></pre>\n"
      ],
      "text/plain": []
     },
     "metadata": {},
     "output_type": "display_data"
    },
    {
     "data": {
      "application/vnd.jupyter.widget-view+json": {
       "model_id": "9cbc4d8f7c1e4a80becfee23385cdb1b",
       "version_major": 2,
       "version_minor": 0
      },
      "text/plain": [
       "Output()"
      ]
     },
     "metadata": {},
     "output_type": "display_data"
    },
    {
     "name": "stdout",
     "output_type": "stream",
     "text": [
      "Агент 2 Средняя награда: 14.4032\n",
      "Обучение агента 3/3\n"
     ]
    },
    {
     "data": {
      "text/html": [
       "<pre style=\"white-space:pre;overflow-x:auto;line-height:normal;font-family:Menlo,'DejaVu Sans Mono',consolas,'Courier New',monospace\"></pre>\n"
      ],
      "text/plain": []
     },
     "metadata": {},
     "output_type": "display_data"
    },
    {
     "data": {
      "application/vnd.jupyter.widget-view+json": {
       "model_id": "285d062c78154705a76205d65a843429",
       "version_major": 2,
       "version_minor": 0
      },
      "text/plain": [
       "Output()"
      ]
     },
     "metadata": {},
     "output_type": "display_data"
    },
    {
     "data": {
      "text/html": [
       "<pre style=\"white-space:pre;overflow-x:auto;line-height:normal;font-family:Menlo,'DejaVu Sans Mono',consolas,'Courier New',monospace\"></pre>\n"
      ],
      "text/plain": []
     },
     "metadata": {},
     "output_type": "display_data"
    },
    {
     "data": {
      "application/vnd.jupyter.widget-view+json": {
       "model_id": "72cdda0e98bb49a9aba302255c1f5bbc",
       "version_major": 2,
       "version_minor": 0
      },
      "text/plain": [
       "Output()"
      ]
     },
     "metadata": {},
     "output_type": "display_data"
    },
    {
     "name": "stdout",
     "output_type": "stream",
     "text": [
      "Агент 1 Средняя награда: -13.9706\n",
      "Обучение агента 2/3\n"
     ]
    },
    {
     "data": {
      "text/html": [
       "<pre style=\"white-space:pre;overflow-x:auto;line-height:normal;font-family:Menlo,'DejaVu Sans Mono',consolas,'Courier New',monospace\"></pre>\n"
      ],
      "text/plain": []
     },
     "metadata": {},
     "output_type": "display_data"
    },
    {
     "data": {
      "application/vnd.jupyter.widget-view+json": {
       "model_id": "0781316bb8ed4c1cbcf8e6994d88e005",
       "version_major": 2,
       "version_minor": 0
      },
      "text/plain": [
       "Output()"
      ]
     },
     "metadata": {},
     "output_type": "display_data"
    },
    {
     "name": "stdout",
     "output_type": "stream",
     "text": [
      "Агент 2 Средняя награда: 10.0274\n",
      "Обучение агента 3/3\n"
     ]
    },
    {
     "data": {
      "text/html": [
       "<pre style=\"white-space:pre;overflow-x:auto;line-height:normal;font-family:Menlo,'DejaVu Sans Mono',consolas,'Courier New',monospace\"></pre>\n"
      ],
      "text/plain": []
     },
     "metadata": {},
     "output_type": "display_data"
    },
    {
     "data": {
      "application/vnd.jupyter.widget-view+json": {
       "model_id": "89387e2728034a3f9022e08886cf94ac",
       "version_major": 2,
       "version_minor": 0
      },
      "text/plain": [
       "Output()"
      ]
     },
     "metadata": {},
     "output_type": "display_data"
    },
    {
     "name": "stdout",
     "output_type": "stream",
     "text": [
      "Агент 3 Средняя награда: -27.9685\n",
      "\n",
      "Окно 4/5 (Год: 2013)\n",
      "Обучение агента 1/3\n"
     ]
    },
    {
     "data": {
      "text/html": [
       "<pre style=\"white-space:pre;overflow-x:auto;line-height:normal;font-family:Menlo,'DejaVu Sans Mono',consolas,'Courier New',monospace\"></pre>\n"
      ],
      "text/plain": []
     },
     "metadata": {},
     "output_type": "display_data"
    },
    {
     "data": {
      "application/vnd.jupyter.widget-view+json": {
       "model_id": "9c2fe3df279d4308b1ddce40b060b92f",
       "version_major": 2,
       "version_minor": 0
      },
      "text/plain": [
       "Output()"
      ]
     },
     "metadata": {},
     "output_type": "display_data"
    },
    {
     "name": "stdout",
     "output_type": "stream",
     "text": [
      "Агент 1 Средняя награда: 43.2368\n",
      "Обучение агента 2/3\n"
     ]
    },
    {
     "data": {
      "text/html": [
       "<pre style=\"white-space:pre;overflow-x:auto;line-height:normal;font-family:Menlo,'DejaVu Sans Mono',consolas,'Courier New',monospace\"></pre>\n"
      ],
      "text/plain": []
     },
     "metadata": {},
     "output_type": "display_data"
    },
    {
     "data": {
      "application/vnd.jupyter.widget-view+json": {
       "model_id": "98246c80149e419f9c41e58bee12dd26",
       "version_major": 2,
       "version_minor": 0
      },
      "text/plain": [
       "Output()"
      ]
     },
     "metadata": {},
     "output_type": "display_data"
    },
    {
     "name": "stdout",
     "output_type": "stream",
     "text": [
      "Агент 2 Средняя награда: 371.3898\n",
      "Обучение агента 3/3\n"
     ]
    },
    {
     "data": {
      "text/html": [
       "<pre style=\"white-space:pre;overflow-x:auto;line-height:normal;font-family:Menlo,'DejaVu Sans Mono',consolas,'Courier New',monospace\"></pre>\n"
      ],
      "text/plain": []
     },
     "metadata": {},
     "output_type": "display_data"
    },
    {
     "data": {
      "application/vnd.jupyter.widget-view+json": {
       "model_id": "183cefef6cac43b5bc6baebc4574747f",
       "version_major": 2,
       "version_minor": 0
      },
      "text/plain": [
       "Output()"
      ]
     },
     "metadata": {},
     "output_type": "display_data"
    },
    {
     "data": {
      "text/html": [
       "<pre style=\"white-space:pre;overflow-x:auto;line-height:normal;font-family:Menlo,'DejaVu Sans Mono',consolas,'Courier New',monospace\"></pre>\n"
      ],
      "text/plain": []
     },
     "metadata": {},
     "output_type": "display_data"
    },
    {
     "data": {
      "application/vnd.jupyter.widget-view+json": {
       "model_id": "fec931df533c4bd385407c322d09c30a",
       "version_major": 2,
       "version_minor": 0
      },
      "text/plain": [
       "Output()"
      ]
     },
     "metadata": {},
     "output_type": "display_data"
    },
    {
     "name": "stdout",
     "output_type": "stream",
     "text": [
      "Агент 1 Средняя награда: 38.8969\n",
      "Обучение агента 2/3\n"
     ]
    },
    {
     "data": {
      "text/html": [
       "<pre style=\"white-space:pre;overflow-x:auto;line-height:normal;font-family:Menlo,'DejaVu Sans Mono',consolas,'Courier New',monospace\"></pre>\n"
      ],
      "text/plain": []
     },
     "metadata": {},
     "output_type": "display_data"
    },
    {
     "data": {
      "application/vnd.jupyter.widget-view+json": {
       "model_id": "6afc8755e8a14432b0007dc0a1cbacb3",
       "version_major": 2,
       "version_minor": 0
      },
      "text/plain": [
       "Output()"
      ]
     },
     "metadata": {},
     "output_type": "display_data"
    },
    {
     "name": "stdout",
     "output_type": "stream",
     "text": [
      "Агент 2 Средняя награда: 65.6423\n",
      "Обучение агента 3/3\n"
     ]
    },
    {
     "data": {
      "text/html": [
       "<pre style=\"white-space:pre;overflow-x:auto;line-height:normal;font-family:Menlo,'DejaVu Sans Mono',consolas,'Courier New',monospace\"></pre>\n"
      ],
      "text/plain": []
     },
     "metadata": {},
     "output_type": "display_data"
    },
    {
     "name": "stdout",
     "output_type": "stream",
     "text": [
      "Агент 3 Средняя награда: 159.3224\n",
      "[I 2025-07-24 15:51:58,910] Trial 8 finished with value: 0.5033245033538308 and parameters: {'window_size': 30, 'num_actions': 19, 'total_timesteps': 100000, 'n_steps': 2048, 'batch_size': 256, 'n_epochs': 13, 'gamma': 0.929, 'gae_lambda': 0.9600000000000001, 'clip_range': 0.35, 'learning_rate': 0.0005421814280975645, 'ent_coef': 0.04497407193749842, 'vf_coef': 0.6, 'max_grad_norm': 0.5513646652184797, 'linear_dim': 211, 'dropout': 0.5549747515444357, 'hidden_dim': 379}. Best is trial 4 with value: 1.2054563769702125.\n"
     ]
    },
    {
     "data": {
      "application/vnd.jupyter.widget-view+json": {
       "model_id": "32dde77d7f514e39bd1bfb9a1b1cc74a",
       "version_major": 2,
       "version_minor": 0
      },
      "text/plain": [
       "Output()"
      ]
     },
     "metadata": {},
     "output_type": "display_data"
    },
    {
     "name": "stdout",
     "output_type": "stream",
     "text": [
      "Shape of data: (4040, 6) 2010-01-04 00:00:00 2025-06-27 00:00:00\n",
      "feature finance: Index(['f_log_ret', 'f_vol20', 'f_vol60', 'f_vol20/vol60', 'f_ema_10',\n",
      "       'f_ema_20', 'f_rsi', 'f_macd_line', 'f_macd_signal'],\n",
      "      dtype='object')\n",
      "feature time: Index(['day_of_week_sin', 'day_of_week_cos', 'day_of_month_sin',\n",
      "       'day_of_month_cos', 'day_of_year_sin', 'day_of_year_cos',\n",
      "       'week_of_year_sin', 'week_of_year_cos', 'month_sin', 'month_cos',\n",
      "       'quarter_sin', 'quarter_cos', 'is_month_end'],\n",
      "      dtype='object')\n",
      "\n",
      "Окно 1/5 (Год: 2010)\n",
      "Обучение агента 1/3\n"
     ]
    },
    {
     "data": {
      "text/html": [
       "<pre style=\"white-space:pre;overflow-x:auto;line-height:normal;font-family:Menlo,'DejaVu Sans Mono',consolas,'Courier New',monospace\"></pre>\n"
      ],
      "text/plain": []
     },
     "metadata": {},
     "output_type": "display_data"
    },
    {
     "data": {
      "application/vnd.jupyter.widget-view+json": {
       "model_id": "f77ecd72e12a4eec9b0fc91fa0b05eb1",
       "version_major": 2,
       "version_minor": 0
      },
      "text/plain": [
       "Output()"
      ]
     },
     "metadata": {},
     "output_type": "display_data"
    },
    {
     "name": "stdout",
     "output_type": "stream",
     "text": [
      "Агент 1 Средняя награда: -34.3874\n",
      "Обучение агента 2/3\n"
     ]
    },
    {
     "data": {
      "text/html": [
       "<pre style=\"white-space:pre;overflow-x:auto;line-height:normal;font-family:Menlo,'DejaVu Sans Mono',consolas,'Courier New',monospace\"></pre>\n"
      ],
      "text/plain": []
     },
     "metadata": {},
     "output_type": "display_data"
    },
    {
     "data": {
      "application/vnd.jupyter.widget-view+json": {
       "model_id": "4d416a3565f4419dbfce9bda413fac54",
       "version_major": 2,
       "version_minor": 0
      },
      "text/plain": [
       "Output()"
      ]
     },
     "metadata": {},
     "output_type": "display_data"
    },
    {
     "name": "stdout",
     "output_type": "stream",
     "text": [
      "Агент 2 Средняя награда: 256.9156\n",
      "Обучение агента 3/3\n"
     ]
    },
    {
     "data": {
      "text/html": [
       "<pre style=\"white-space:pre;overflow-x:auto;line-height:normal;font-family:Menlo,'DejaVu Sans Mono',consolas,'Courier New',monospace\"></pre>\n"
      ],
      "text/plain": []
     },
     "metadata": {},
     "output_type": "display_data"
    },
    {
     "data": {
      "application/vnd.jupyter.widget-view+json": {
       "model_id": "cb19658171ec490fbb7b3081dd15be94",
       "version_major": 2,
       "version_minor": 0
      },
      "text/plain": [
       "Output()"
      ]
     },
     "metadata": {},
     "output_type": "display_data"
    },
    {
     "name": "stdout",
     "output_type": "stream",
     "text": [
      "Агент 3 Средняя награда: 247.9692\n",
      "\n",
      "Окно 2/5 (Год: 2011)\n",
      "Обучение агента 1/3\n"
     ]
    },
    {
     "data": {
      "text/html": [
       "<pre style=\"white-space:pre;overflow-x:auto;line-height:normal;font-family:Menlo,'DejaVu Sans Mono',consolas,'Courier New',monospace\"></pre>\n"
      ],
      "text/plain": []
     },
     "metadata": {},
     "output_type": "display_data"
    },
    {
     "data": {
      "application/vnd.jupyter.widget-view+json": {
       "model_id": "69412f6fb64e4e519e617c92222508d4",
       "version_major": 2,
       "version_minor": 0
      },
      "text/plain": [
       "Output()"
      ]
     },
     "metadata": {},
     "output_type": "display_data"
    },
    {
     "name": "stdout",
     "output_type": "stream",
     "text": [
      "Агент 1 Средняя награда: -30.4897\n",
      "Обучение агента 2/3\n"
     ]
    },
    {
     "data": {
      "text/html": [
       "<pre style=\"white-space:pre;overflow-x:auto;line-height:normal;font-family:Menlo,'DejaVu Sans Mono',consolas,'Courier New',monospace\"></pre>\n"
      ],
      "text/plain": []
     },
     "metadata": {},
     "output_type": "display_data"
    },
    {
     "data": {
      "application/vnd.jupyter.widget-view+json": {
       "model_id": "5555c714aa4147d2b3ad1c4b550068f5",
       "version_major": 2,
       "version_minor": 0
      },
      "text/plain": [
       "Output()"
      ]
     },
     "metadata": {},
     "output_type": "display_data"
    },
    {
     "name": "stdout",
     "output_type": "stream",
     "text": [
      "Агент 2 Средняя награда: -19.0246\n",
      "Обучение агента 3/3\n"
     ]
    },
    {
     "data": {
      "text/html": [
       "<pre style=\"white-space:pre;overflow-x:auto;line-height:normal;font-family:Menlo,'DejaVu Sans Mono',consolas,'Courier New',monospace\"></pre>\n"
      ],
      "text/plain": []
     },
     "metadata": {},
     "output_type": "display_data"
    },
    {
     "data": {
      "application/vnd.jupyter.widget-view+json": {
       "model_id": "a3c5ce1b44bf42e7bf010ae6924b2356",
       "version_major": 2,
       "version_minor": 0
      },
      "text/plain": [
       "Output()"
      ]
     },
     "metadata": {},
     "output_type": "display_data"
    },
    {
     "name": "stdout",
     "output_type": "stream",
     "text": [
      "Агент 3 Средняя награда: -34.0441\n",
      "\n",
      "Окно 3/5 (Год: 2012)\n",
      "Обучение агента 1/3\n"
     ]
    },
    {
     "data": {
      "text/html": [
       "<pre style=\"white-space:pre;overflow-x:auto;line-height:normal;font-family:Menlo,'DejaVu Sans Mono',consolas,'Courier New',monospace\"></pre>\n"
      ],
      "text/plain": []
     },
     "metadata": {},
     "output_type": "display_data"
    },
    {
     "data": {
      "application/vnd.jupyter.widget-view+json": {
       "model_id": "c00bb56c45564ed994703ae103c9f13f",
       "version_major": 2,
       "version_minor": 0
      },
      "text/plain": [
       "Output()"
      ]
     },
     "metadata": {},
     "output_type": "display_data"
    },
    {
     "name": "stdout",
     "output_type": "stream",
     "text": [
      "Агент 1 Средняя награда: 14.0567\n",
      "Обучение агента 2/3\n"
     ]
    },
    {
     "data": {
      "text/html": [
       "<pre style=\"white-space:pre;overflow-x:auto;line-height:normal;font-family:Menlo,'DejaVu Sans Mono',consolas,'Courier New',monospace\"></pre>\n"
      ],
      "text/plain": []
     },
     "metadata": {},
     "output_type": "display_data"
    },
    {
     "data": {
      "application/vnd.jupyter.widget-view+json": {
       "model_id": "7347e64adfa74a1c9feb8d4523169d2b",
       "version_major": 2,
       "version_minor": 0
      },
      "text/plain": [
       "Output()"
      ]
     },
     "metadata": {},
     "output_type": "display_data"
    },
    {
     "name": "stdout",
     "output_type": "stream",
     "text": [
      "Агент 2 Средняя награда: 165.2381\n",
      "Обучение агента 3/3\n"
     ]
    },
    {
     "data": {
      "text/html": [
       "<pre style=\"white-space:pre;overflow-x:auto;line-height:normal;font-family:Menlo,'DejaVu Sans Mono',consolas,'Courier New',monospace\"></pre>\n"
      ],
      "text/plain": []
     },
     "metadata": {},
     "output_type": "display_data"
    },
    {
     "data": {
      "application/vnd.jupyter.widget-view+json": {
       "model_id": "c865cde27da04daf941379681b38eb63",
       "version_major": 2,
       "version_minor": 0
      },
      "text/plain": [
       "Output()"
      ]
     },
     "metadata": {},
     "output_type": "display_data"
    },
    {
     "name": "stdout",
     "output_type": "stream",
     "text": [
      "Агент 3 Средняя награда: 29.0887\n",
      "\n",
      "Окно 4/5 (Год: 2013)\n",
      "Обучение агента 1/3\n"
     ]
    },
    {
     "data": {
      "text/html": [
       "<pre style=\"white-space:pre;overflow-x:auto;line-height:normal;font-family:Menlo,'DejaVu Sans Mono',consolas,'Courier New',monospace\"></pre>\n"
      ],
      "text/plain": []
     },
     "metadata": {},
     "output_type": "display_data"
    },
    {
     "data": {
      "application/vnd.jupyter.widget-view+json": {
       "model_id": "f4e0357784cd496780c0721f9c361627",
       "version_major": 2,
       "version_minor": 0
      },
      "text/plain": [
       "Output()"
      ]
     },
     "metadata": {},
     "output_type": "display_data"
    },
    {
     "name": "stdout",
     "output_type": "stream",
     "text": [
      "Агент 1 Средняя награда: -48.3629\n",
      "Обучение агента 2/3\n"
     ]
    },
    {
     "data": {
      "text/html": [
       "<pre style=\"white-space:pre;overflow-x:auto;line-height:normal;font-family:Menlo,'DejaVu Sans Mono',consolas,'Courier New',monospace\"></pre>\n"
      ],
      "text/plain": []
     },
     "metadata": {},
     "output_type": "display_data"
    },
    {
     "data": {
      "application/vnd.jupyter.widget-view+json": {
       "model_id": "0327239fc99f45f7a1d170759dcf61cc",
       "version_major": 2,
       "version_minor": 0
      },
      "text/plain": [
       "Output()"
      ]
     },
     "metadata": {},
     "output_type": "display_data"
    },
    {
     "name": "stdout",
     "output_type": "stream",
     "text": [
      "Агент 2 Средняя награда: -57.1353\n",
      "Обучение агента 3/3\n"
     ]
    },
    {
     "data": {
      "text/html": [
       "<pre style=\"white-space:pre;overflow-x:auto;line-height:normal;font-family:Menlo,'DejaVu Sans Mono',consolas,'Courier New',monospace\"></pre>\n"
      ],
      "text/plain": []
     },
     "metadata": {},
     "output_type": "display_data"
    },
    {
     "data": {
      "application/vnd.jupyter.widget-view+json": {
       "model_id": "85b8e4066ac945ab9359c0202bfa4ed4",
       "version_major": 2,
       "version_minor": 0
      },
      "text/plain": [
       "Output()"
      ]
     },
     "metadata": {},
     "output_type": "display_data"
    },
    {
     "name": "stdout",
     "output_type": "stream",
     "text": [
      "Агент 3 Средняя награда: -60.8894\n",
      "\n",
      "Окно 5/5 (Год: 2014)\n",
      "Обучение агента 1/3\n"
     ]
    },
    {
     "data": {
      "text/html": [
       "<pre style=\"white-space:pre;overflow-x:auto;line-height:normal;font-family:Menlo,'DejaVu Sans Mono',consolas,'Courier New',monospace\"></pre>\n"
      ],
      "text/plain": []
     },
     "metadata": {},
     "output_type": "display_data"
    },
    {
     "data": {
      "application/vnd.jupyter.widget-view+json": {
       "model_id": "829c77592cc040dbb19f0b1572a57562",
       "version_major": 2,
       "version_minor": 0
      },
      "text/plain": [
       "Output()"
      ]
     },
     "metadata": {},
     "output_type": "display_data"
    },
    {
     "name": "stdout",
     "output_type": "stream",
     "text": [
      "Агент 1 Средняя награда: 48.6470\n",
      "Обучение агента 2/3\n"
     ]
    },
    {
     "data": {
      "text/html": [
       "<pre style=\"white-space:pre;overflow-x:auto;line-height:normal;font-family:Menlo,'DejaVu Sans Mono',consolas,'Courier New',monospace\"></pre>\n"
      ],
      "text/plain": []
     },
     "metadata": {},
     "output_type": "display_data"
    },
    {
     "data": {
      "application/vnd.jupyter.widget-view+json": {
       "model_id": "39c5f83f57b946c98f9ea9436bf0c9e6",
       "version_major": 2,
       "version_minor": 0
      },
      "text/plain": [
       "Output()"
      ]
     },
     "metadata": {},
     "output_type": "display_data"
    },
    {
     "name": "stdout",
     "output_type": "stream",
     "text": [
      "Агент 2 Средняя награда: 40.2095\n",
      "Обучение агента 3/3\n"
     ]
    },
    {
     "data": {
      "text/html": [
       "<pre style=\"white-space:pre;overflow-x:auto;line-height:normal;font-family:Menlo,'DejaVu Sans Mono',consolas,'Courier New',monospace\"></pre>\n"
      ],
      "text/plain": []
     },
     "metadata": {},
     "output_type": "display_data"
    },
    {
     "name": "stdout",
     "output_type": "stream",
     "text": [
      "Агент 3 Средняя награда: 41.0852\n",
      "[I 2025-07-24 15:56:43,779] Trial 9 finished with value: 1.2514208542395204 and parameters: {'window_size': 60, 'num_actions': 3, 'total_timesteps': 30000, 'n_steps': 1792, 'batch_size': 512, 'n_epochs': 5, 'gamma': 0.905, 'gae_lambda': 0.91, 'clip_range': 0.25, 'learning_rate': 0.0001883041116446473, 'ent_coef': 0.008023527304678842, 'vf_coef': 1.0, 'max_grad_norm': 0.5646703134710758, 'linear_dim': 104, 'dropout': 0.6566303363380926, 'hidden_dim': 185}. Best is trial 9 with value: 1.2514208542395204.\n"
     ]
    },
    {
     "data": {
      "application/vnd.jupyter.widget-view+json": {
       "model_id": "f302b06067bf4b7f9c9fd2a65e38f245",
       "version_major": 2,
       "version_minor": 0
      },
      "text/plain": [
       "Output()"
      ]
     },
     "metadata": {},
     "output_type": "display_data"
    },
    {
     "name": "stdout",
     "output_type": "stream",
     "text": [
      "Shape of data: (4040, 6) 2010-01-04 00:00:00 2025-06-27 00:00:00\n",
      "feature finance: Index(['f_log_ret', 'f_vol20', 'f_vol60', 'f_vol20/vol60', 'f_ema_10',\n",
      "       'f_ema_20', 'f_rsi', 'f_macd_line', 'f_macd_signal'],\n",
      "      dtype='object')\n",
      "feature time: Index(['day_of_week_sin', 'day_of_week_cos', 'day_of_month_sin',\n",
      "       'day_of_month_cos', 'day_of_year_sin', 'day_of_year_cos',\n",
      "       'week_of_year_sin', 'week_of_year_cos', 'month_sin', 'month_cos',\n",
      "       'quarter_sin', 'quarter_cos', 'is_month_end'],\n",
      "      dtype='object')\n",
      "\n",
      "Окно 1/5 (Год: 2010)\n",
      "Обучение агента 1/3\n"
     ]
    },
    {
     "data": {
      "text/html": [
       "<pre style=\"white-space:pre;overflow-x:auto;line-height:normal;font-family:Menlo,'DejaVu Sans Mono',consolas,'Courier New',monospace\"></pre>\n"
      ],
      "text/plain": []
     },
     "metadata": {},
     "output_type": "display_data"
    },
    {
     "data": {
      "application/vnd.jupyter.widget-view+json": {
       "model_id": "4c8af91cfa78417c8225f3088bd8a25a",
       "version_major": 2,
       "version_minor": 0
      },
      "text/plain": [
       "Output()"
      ]
     },
     "metadata": {},
     "output_type": "display_data"
    },
    {
     "name": "stdout",
     "output_type": "stream",
     "text": [
      "Агент 1 Средняя награда: -15.0828\n",
      "Обучение агента 2/3\n"
     ]
    },
    {
     "data": {
      "text/html": [
       "<pre style=\"white-space:pre;overflow-x:auto;line-height:normal;font-family:Menlo,'DejaVu Sans Mono',consolas,'Courier New',monospace\"></pre>\n"
      ],
      "text/plain": []
     },
     "metadata": {},
     "output_type": "display_data"
    },
    {
     "data": {
      "application/vnd.jupyter.widget-view+json": {
       "model_id": "affc40cf3465427fa6280a0ff7b57ffb",
       "version_major": 2,
       "version_minor": 0
      },
      "text/plain": [
       "Output()"
      ]
     },
     "metadata": {},
     "output_type": "display_data"
    },
    {
     "name": "stdout",
     "output_type": "stream",
     "text": [
      "Агент 2 Средняя награда: -36.1699\n",
      "Обучение агента 3/3\n"
     ]
    },
    {
     "data": {
      "text/html": [
       "<pre style=\"white-space:pre;overflow-x:auto;line-height:normal;font-family:Menlo,'DejaVu Sans Mono',consolas,'Courier New',monospace\"></pre>\n"
      ],
      "text/plain": []
     },
     "metadata": {},
     "output_type": "display_data"
    },
    {
     "data": {
      "application/vnd.jupyter.widget-view+json": {
       "model_id": "e68b460970b949f8bb190f4fdceca3da",
       "version_major": 2,
       "version_minor": 0
      },
      "text/plain": [
       "Output()"
      ]
     },
     "metadata": {},
     "output_type": "display_data"
    },
    {
     "name": "stdout",
     "output_type": "stream",
     "text": [
      "Агент 3 Средняя награда: -15.9342\n",
      "\n",
      "Окно 2/5 (Год: 2011)\n",
      "Обучение агента 1/3\n"
     ]
    },
    {
     "data": {
      "text/html": [
       "<pre style=\"white-space:pre;overflow-x:auto;line-height:normal;font-family:Menlo,'DejaVu Sans Mono',consolas,'Courier New',monospace\"></pre>\n"
      ],
      "text/plain": []
     },
     "metadata": {},
     "output_type": "display_data"
    },
    {
     "data": {
      "application/vnd.jupyter.widget-view+json": {
       "model_id": "77cf07b697b6417faaeb93536032067f",
       "version_major": 2,
       "version_minor": 0
      },
      "text/plain": [
       "Output()"
      ]
     },
     "metadata": {},
     "output_type": "display_data"
    },
    {
     "name": "stdout",
     "output_type": "stream",
     "text": [
      "Агент 1 Средняя награда: 26.4467\n",
      "Обучение агента 2/3\n"
     ]
    },
    {
     "data": {
      "text/html": [
       "<pre style=\"white-space:pre;overflow-x:auto;line-height:normal;font-family:Menlo,'DejaVu Sans Mono',consolas,'Courier New',monospace\"></pre>\n"
      ],
      "text/plain": []
     },
     "metadata": {},
     "output_type": "display_data"
    },
    {
     "data": {
      "application/vnd.jupyter.widget-view+json": {
       "model_id": "16ac22a990ec4d7e9dc52d50bf2d1918",
       "version_major": 2,
       "version_minor": 0
      },
      "text/plain": [
       "Output()"
      ]
     },
     "metadata": {},
     "output_type": "display_data"
    },
    {
     "name": "stdout",
     "output_type": "stream",
     "text": [
      "Агент 2 Средняя награда: 26.8790\n",
      "Обучение агента 3/3\n"
     ]
    },
    {
     "data": {
      "text/html": [
       "<pre style=\"white-space:pre;overflow-x:auto;line-height:normal;font-family:Menlo,'DejaVu Sans Mono',consolas,'Courier New',monospace\"></pre>\n"
      ],
      "text/plain": []
     },
     "metadata": {},
     "output_type": "display_data"
    },
    {
     "data": {
      "application/vnd.jupyter.widget-view+json": {
       "model_id": "7cc25628508d4edda2631263ee317028",
       "version_major": 2,
       "version_minor": 0
      },
      "text/plain": [
       "Output()"
      ]
     },
     "metadata": {},
     "output_type": "display_data"
    },
    {
     "name": "stdout",
     "output_type": "stream",
     "text": [
      "Агент 3 Средняя награда: 22.9017\n",
      "\n",
      "Окно 3/5 (Год: 2012)\n",
      "Обучение агента 1/3\n"
     ]
    },
    {
     "data": {
      "text/html": [
       "<pre style=\"white-space:pre;overflow-x:auto;line-height:normal;font-family:Menlo,'DejaVu Sans Mono',consolas,'Courier New',monospace\"></pre>\n"
      ],
      "text/plain": []
     },
     "metadata": {},
     "output_type": "display_data"
    },
    {
     "data": {
      "application/vnd.jupyter.widget-view+json": {
       "model_id": "c37652f7066c4af4bfba96d62ffb5b5b",
       "version_major": 2,
       "version_minor": 0
      },
      "text/plain": [
       "Output()"
      ]
     },
     "metadata": {},
     "output_type": "display_data"
    },
    {
     "name": "stdout",
     "output_type": "stream",
     "text": [
      "Агент 1 Средняя награда: -1.8828\n",
      "Обучение агента 2/3\n"
     ]
    },
    {
     "data": {
      "text/html": [
       "<pre style=\"white-space:pre;overflow-x:auto;line-height:normal;font-family:Menlo,'DejaVu Sans Mono',consolas,'Courier New',monospace\"></pre>\n"
      ],
      "text/plain": []
     },
     "metadata": {},
     "output_type": "display_data"
    },
    {
     "data": {
      "application/vnd.jupyter.widget-view+json": {
       "model_id": "7e49c7275f394a0a814bbdc246b6cdec",
       "version_major": 2,
       "version_minor": 0
      },
      "text/plain": [
       "Output()"
      ]
     },
     "metadata": {},
     "output_type": "display_data"
    },
    {
     "name": "stdout",
     "output_type": "stream",
     "text": [
      "Агент 2 Средняя награда: 124.9065\n",
      "Обучение агента 3/3\n"
     ]
    },
    {
     "data": {
      "text/html": [
       "<pre style=\"white-space:pre;overflow-x:auto;line-height:normal;font-family:Menlo,'DejaVu Sans Mono',consolas,'Courier New',monospace\"></pre>\n"
      ],
      "text/plain": []
     },
     "metadata": {},
     "output_type": "display_data"
    },
    {
     "data": {
      "application/vnd.jupyter.widget-view+json": {
       "model_id": "4c4d51dcdaf743e990f10b62d4d9738f",
       "version_major": 2,
       "version_minor": 0
      },
      "text/plain": [
       "Output()"
      ]
     },
     "metadata": {},
     "output_type": "display_data"
    },
    {
     "name": "stdout",
     "output_type": "stream",
     "text": [
      "Агент 3 Средняя награда: -10.0422\n",
      "\n",
      "Окно 4/5 (Год: 2013)\n",
      "Обучение агента 1/3\n"
     ]
    },
    {
     "data": {
      "text/html": [
       "<pre style=\"white-space:pre;overflow-x:auto;line-height:normal;font-family:Menlo,'DejaVu Sans Mono',consolas,'Courier New',monospace\"></pre>\n"
      ],
      "text/plain": []
     },
     "metadata": {},
     "output_type": "display_data"
    },
    {
     "data": {
      "application/vnd.jupyter.widget-view+json": {
       "model_id": "f4f30e3ab90646cc854268b8bda5413c",
       "version_major": 2,
       "version_minor": 0
      },
      "text/plain": [
       "Output()"
      ]
     },
     "metadata": {},
     "output_type": "display_data"
    },
    {
     "name": "stdout",
     "output_type": "stream",
     "text": [
      "Агент 1 Средняя награда: -10.8881\n",
      "Обучение агента 2/3\n"
     ]
    },
    {
     "data": {
      "text/html": [
       "<pre style=\"white-space:pre;overflow-x:auto;line-height:normal;font-family:Menlo,'DejaVu Sans Mono',consolas,'Courier New',monospace\"></pre>\n"
      ],
      "text/plain": []
     },
     "metadata": {},
     "output_type": "display_data"
    },
    {
     "data": {
      "application/vnd.jupyter.widget-view+json": {
       "model_id": "23f1b835450c4683954af0aa2986e39c",
       "version_major": 2,
       "version_minor": 0
      },
      "text/plain": [
       "Output()"
      ]
     },
     "metadata": {},
     "output_type": "display_data"
    },
    {
     "name": "stdout",
     "output_type": "stream",
     "text": [
      "Агент 2 Средняя награда: 16.3938\n",
      "Обучение агента 3/3\n"
     ]
    },
    {
     "data": {
      "text/html": [
       "<pre style=\"white-space:pre;overflow-x:auto;line-height:normal;font-family:Menlo,'DejaVu Sans Mono',consolas,'Courier New',monospace\"></pre>\n"
      ],
      "text/plain": []
     },
     "metadata": {},
     "output_type": "display_data"
    },
    {
     "data": {
      "application/vnd.jupyter.widget-view+json": {
       "model_id": "e2fcd9c4be764e28886084b4ec0a48ab",
       "version_major": 2,
       "version_minor": 0
      },
      "text/plain": [
       "Output()"
      ]
     },
     "metadata": {},
     "output_type": "display_data"
    },
    {
     "name": "stdout",
     "output_type": "stream",
     "text": [
      "Агент 3 Средняя награда: -15.3626\n",
      "\n",
      "Окно 5/5 (Год: 2014)\n",
      "Обучение агента 1/3\n"
     ]
    },
    {
     "data": {
      "text/html": [
       "<pre style=\"white-space:pre;overflow-x:auto;line-height:normal;font-family:Menlo,'DejaVu Sans Mono',consolas,'Courier New',monospace\"></pre>\n"
      ],
      "text/plain": []
     },
     "metadata": {},
     "output_type": "display_data"
    },
    {
     "data": {
      "application/vnd.jupyter.widget-view+json": {
       "model_id": "843e27056ae443818f2e13a59b770eff",
       "version_major": 2,
       "version_minor": 0
      },
      "text/plain": [
       "Output()"
      ]
     },
     "metadata": {},
     "output_type": "display_data"
    },
    {
     "name": "stdout",
     "output_type": "stream",
     "text": [
      "Агент 1 Средняя награда: -243.9739\n",
      "Обучение агента 2/3\n"
     ]
    },
    {
     "data": {
      "text/html": [
       "<pre style=\"white-space:pre;overflow-x:auto;line-height:normal;font-family:Menlo,'DejaVu Sans Mono',consolas,'Courier New',monospace\"></pre>\n"
      ],
      "text/plain": []
     },
     "metadata": {},
     "output_type": "display_data"
    },
    {
     "data": {
      "application/vnd.jupyter.widget-view+json": {
       "model_id": "cd2b2c7db39143a692bb49633670fcb6",
       "version_major": 2,
       "version_minor": 0
      },
      "text/plain": [
       "Output()"
      ]
     },
     "metadata": {},
     "output_type": "display_data"
    },
    {
     "name": "stdout",
     "output_type": "stream",
     "text": [
      "Агент 2 Средняя награда: 4.9584\n",
      "Обучение агента 3/3\n"
     ]
    },
    {
     "data": {
      "text/html": [
       "<pre style=\"white-space:pre;overflow-x:auto;line-height:normal;font-family:Menlo,'DejaVu Sans Mono',consolas,'Courier New',monospace\"></pre>\n"
      ],
      "text/plain": []
     },
     "metadata": {},
     "output_type": "display_data"
    },
    {
     "name": "stdout",
     "output_type": "stream",
     "text": [
      "Агент 3 Средняя награда: 10.9647\n",
      "[I 2025-07-24 16:14:16,944] Trial 10 finished with value: 0.4995123896608288 and parameters: {'window_size': 200, 'num_actions': 3, 'total_timesteps': 30000, 'n_steps': 2048, 'batch_size': 64, 'n_epochs': 18, 'gamma': 0.936, 'gae_lambda': 0.93, 'clip_range': 0.1, 'learning_rate': 7.218926081259325e-05, 'ent_coef': 0.0007581975333807081, 'vf_coef': 0.8, 'max_grad_norm': 0.7294921408642425, 'linear_dim': 118, 'dropout': 0.7949132721341801, 'hidden_dim': 77}. Best is trial 9 with value: 1.2514208542395204.\n"
     ]
    },
    {
     "data": {
      "application/vnd.jupyter.widget-view+json": {
       "model_id": "39e9a9ad91f34147aac4dbd68c31758d",
       "version_major": 2,
       "version_minor": 0
      },
      "text/plain": [
       "Output()"
      ]
     },
     "metadata": {},
     "output_type": "display_data"
    },
    {
     "name": "stdout",
     "output_type": "stream",
     "text": [
      "Shape of data: (4040, 6) 2010-01-04 00:00:00 2025-06-27 00:00:00\n",
      "feature finance: Index(['f_log_ret', 'f_vol20', 'f_vol60', 'f_vol20/vol60', 'f_ema_10',\n",
      "       'f_ema_20', 'f_rsi', 'f_macd_line', 'f_macd_signal'],\n",
      "      dtype='object')\n",
      "feature time: Index(['day_of_week_sin', 'day_of_week_cos', 'day_of_month_sin',\n",
      "       'day_of_month_cos', 'day_of_year_sin', 'day_of_year_cos',\n",
      "       'week_of_year_sin', 'week_of_year_cos', 'month_sin', 'month_cos',\n",
      "       'quarter_sin', 'quarter_cos', 'is_month_end'],\n",
      "      dtype='object')\n",
      "\n",
      "Окно 1/5 (Год: 2010)\n",
      "Обучение агента 1/3\n"
     ]
    },
    {
     "data": {
      "text/html": [
       "<pre style=\"white-space:pre;overflow-x:auto;line-height:normal;font-family:Menlo,'DejaVu Sans Mono',consolas,'Courier New',monospace\"></pre>\n"
      ],
      "text/plain": []
     },
     "metadata": {},
     "output_type": "display_data"
    },
    {
     "data": {
      "application/vnd.jupyter.widget-view+json": {
       "model_id": "d021e2f096fa4597b7beb3974fab196d",
       "version_major": 2,
       "version_minor": 0
      },
      "text/plain": [
       "Output()"
      ]
     },
     "metadata": {},
     "output_type": "display_data"
    },
    {
     "name": "stdout",
     "output_type": "stream",
     "text": [
      "Агент 1 Средняя награда: 29.2121\n",
      "Обучение агента 2/3\n"
     ]
    },
    {
     "data": {
      "text/html": [
       "<pre style=\"white-space:pre;overflow-x:auto;line-height:normal;font-family:Menlo,'DejaVu Sans Mono',consolas,'Courier New',monospace\"></pre>\n"
      ],
      "text/plain": []
     },
     "metadata": {},
     "output_type": "display_data"
    },
    {
     "data": {
      "application/vnd.jupyter.widget-view+json": {
       "model_id": "7b07697e07064a1ea1e2f84762f90d9b",
       "version_major": 2,
       "version_minor": 0
      },
      "text/plain": [
       "Output()"
      ]
     },
     "metadata": {},
     "output_type": "display_data"
    },
    {
     "name": "stdout",
     "output_type": "stream",
     "text": [
      "Агент 2 Средняя награда: 32.9931\n",
      "Обучение агента 3/3\n"
     ]
    },
    {
     "data": {
      "text/html": [
       "<pre style=\"white-space:pre;overflow-x:auto;line-height:normal;font-family:Menlo,'DejaVu Sans Mono',consolas,'Courier New',monospace\"></pre>\n"
      ],
      "text/plain": []
     },
     "metadata": {},
     "output_type": "display_data"
    },
    {
     "data": {
      "application/vnd.jupyter.widget-view+json": {
       "model_id": "90c345584cd745d7bd4c729d29c75631",
       "version_major": 2,
       "version_minor": 0
      },
      "text/plain": [
       "Output()"
      ]
     },
     "metadata": {},
     "output_type": "display_data"
    },
    {
     "name": "stdout",
     "output_type": "stream",
     "text": [
      "Агент 3 Средняя награда: 37.2100\n",
      "\n",
      "Окно 2/5 (Год: 2011)\n",
      "Обучение агента 1/3\n"
     ]
    },
    {
     "data": {
      "text/html": [
       "<pre style=\"white-space:pre;overflow-x:auto;line-height:normal;font-family:Menlo,'DejaVu Sans Mono',consolas,'Courier New',monospace\"></pre>\n"
      ],
      "text/plain": []
     },
     "metadata": {},
     "output_type": "display_data"
    },
    {
     "data": {
      "application/vnd.jupyter.widget-view+json": {
       "model_id": "6d4335dc7cd547fb8c1addfbcf74bf44",
       "version_major": 2,
       "version_minor": 0
      },
      "text/plain": [
       "Output()"
      ]
     },
     "metadata": {},
     "output_type": "display_data"
    },
    {
     "name": "stdout",
     "output_type": "stream",
     "text": [
      "Агент 1 Средняя награда: 923.0233\n",
      "Обучение агента 2/3\n"
     ]
    },
    {
     "data": {
      "text/html": [
       "<pre style=\"white-space:pre;overflow-x:auto;line-height:normal;font-family:Menlo,'DejaVu Sans Mono',consolas,'Courier New',monospace\"></pre>\n"
      ],
      "text/plain": []
     },
     "metadata": {},
     "output_type": "display_data"
    },
    {
     "data": {
      "application/vnd.jupyter.widget-view+json": {
       "model_id": "289a560435554dcd973eebf5f0058574",
       "version_major": 2,
       "version_minor": 0
      },
      "text/plain": [
       "Output()"
      ]
     },
     "metadata": {},
     "output_type": "display_data"
    },
    {
     "name": "stdout",
     "output_type": "stream",
     "text": [
      "Агент 2 Средняя награда: 937.7433\n",
      "Обучение агента 3/3\n"
     ]
    },
    {
     "data": {
      "text/html": [
       "<pre style=\"white-space:pre;overflow-x:auto;line-height:normal;font-family:Menlo,'DejaVu Sans Mono',consolas,'Courier New',monospace\"></pre>\n"
      ],
      "text/plain": []
     },
     "metadata": {},
     "output_type": "display_data"
    },
    {
     "data": {
      "application/vnd.jupyter.widget-view+json": {
       "model_id": "e52c1f79fc5247a3a8170301f6879407",
       "version_major": 2,
       "version_minor": 0
      },
      "text/plain": [
       "Output()"
      ]
     },
     "metadata": {},
     "output_type": "display_data"
    },
    {
     "name": "stdout",
     "output_type": "stream",
     "text": [
      "Агент 3 Средняя награда: 92.2938\n",
      "\n",
      "Окно 3/5 (Год: 2012)\n",
      "Обучение агента 1/3\n"
     ]
    },
    {
     "data": {
      "text/html": [
       "<pre style=\"white-space:pre;overflow-x:auto;line-height:normal;font-family:Menlo,'DejaVu Sans Mono',consolas,'Courier New',monospace\"></pre>\n"
      ],
      "text/plain": []
     },
     "metadata": {},
     "output_type": "display_data"
    },
    {
     "data": {
      "application/vnd.jupyter.widget-view+json": {
       "model_id": "06964dc7d5e54c0e9fd2ec2f526aee51",
       "version_major": 2,
       "version_minor": 0
      },
      "text/plain": [
       "Output()"
      ]
     },
     "metadata": {},
     "output_type": "display_data"
    },
    {
     "name": "stdout",
     "output_type": "stream",
     "text": [
      "Агент 1 Средняя награда: 565.1536\n",
      "Обучение агента 2/3\n"
     ]
    },
    {
     "data": {
      "text/html": [
       "<pre style=\"white-space:pre;overflow-x:auto;line-height:normal;font-family:Menlo,'DejaVu Sans Mono',consolas,'Courier New',monospace\"></pre>\n"
      ],
      "text/plain": []
     },
     "metadata": {},
     "output_type": "display_data"
    },
    {
     "data": {
      "application/vnd.jupyter.widget-view+json": {
       "model_id": "6dbea40110d645b585660eea7182c8c8",
       "version_major": 2,
       "version_minor": 0
      },
      "text/plain": [
       "Output()"
      ]
     },
     "metadata": {},
     "output_type": "display_data"
    },
    {
     "name": "stdout",
     "output_type": "stream",
     "text": [
      "Агент 2 Средняя награда: -42.0723\n",
      "Обучение агента 3/3\n"
     ]
    },
    {
     "data": {
      "text/html": [
       "<pre style=\"white-space:pre;overflow-x:auto;line-height:normal;font-family:Menlo,'DejaVu Sans Mono',consolas,'Courier New',monospace\"></pre>\n"
      ],
      "text/plain": []
     },
     "metadata": {},
     "output_type": "display_data"
    },
    {
     "data": {
      "application/vnd.jupyter.widget-view+json": {
       "model_id": "c1c472a57d804998b41480bd9ce481bc",
       "version_major": 2,
       "version_minor": 0
      },
      "text/plain": [
       "Output()"
      ]
     },
     "metadata": {},
     "output_type": "display_data"
    },
    {
     "data": {
      "text/html": [
       "<pre style=\"white-space:pre;overflow-x:auto;line-height:normal;font-family:Menlo,'DejaVu Sans Mono',consolas,'Courier New',monospace\"></pre>\n"
      ],
      "text/plain": []
     },
     "metadata": {},
     "output_type": "display_data"
    },
    {
     "data": {
      "application/vnd.jupyter.widget-view+json": {
       "model_id": "aa9705ba17124286af6f7c8c05f41e01",
       "version_major": 2,
       "version_minor": 0
      },
      "text/plain": [
       "Output()"
      ]
     },
     "metadata": {},
     "output_type": "display_data"
    },
    {
     "name": "stdout",
     "output_type": "stream",
     "text": [
      "Агент 1 Средняя награда: -20.8064\n",
      "Обучение агента 2/3\n"
     ]
    },
    {
     "data": {
      "text/html": [
       "<pre style=\"white-space:pre;overflow-x:auto;line-height:normal;font-family:Menlo,'DejaVu Sans Mono',consolas,'Courier New',monospace\"></pre>\n"
      ],
      "text/plain": []
     },
     "metadata": {},
     "output_type": "display_data"
    },
    {
     "data": {
      "application/vnd.jupyter.widget-view+json": {
       "model_id": "c78b282f5d7e4636986dc612460b1387",
       "version_major": 2,
       "version_minor": 0
      },
      "text/plain": [
       "Output()"
      ]
     },
     "metadata": {},
     "output_type": "display_data"
    },
    {
     "name": "stdout",
     "output_type": "stream",
     "text": [
      "Агент 2 Средняя награда: -6.9129\n",
      "Обучение агента 3/3\n"
     ]
    },
    {
     "data": {
      "text/html": [
       "<pre style=\"white-space:pre;overflow-x:auto;line-height:normal;font-family:Menlo,'DejaVu Sans Mono',consolas,'Courier New',monospace\"></pre>\n"
      ],
      "text/plain": []
     },
     "metadata": {},
     "output_type": "display_data"
    },
    {
     "data": {
      "application/vnd.jupyter.widget-view+json": {
       "model_id": "d79a2eeabc99441da14fd6dbace6d165",
       "version_major": 2,
       "version_minor": 0
      },
      "text/plain": [
       "Output()"
      ]
     },
     "metadata": {},
     "output_type": "display_data"
    },
    {
     "name": "stdout",
     "output_type": "stream",
     "text": [
      "Агент 3 Средняя награда: -8.9030\n",
      "\n",
      "Окно 5/5 (Год: 2014)\n",
      "Обучение агента 1/3\n"
     ]
    },
    {
     "data": {
      "text/html": [
       "<pre style=\"white-space:pre;overflow-x:auto;line-height:normal;font-family:Menlo,'DejaVu Sans Mono',consolas,'Courier New',monospace\"></pre>\n"
      ],
      "text/plain": []
     },
     "metadata": {},
     "output_type": "display_data"
    },
    {
     "data": {
      "application/vnd.jupyter.widget-view+json": {
       "model_id": "79d2039f4f2c450a9d8600c99fd7251e",
       "version_major": 2,
       "version_minor": 0
      },
      "text/plain": [
       "Output()"
      ]
     },
     "metadata": {},
     "output_type": "display_data"
    },
    {
     "name": "stdout",
     "output_type": "stream",
     "text": [
      "Агент 1 Средняя награда: -11.1578\n",
      "Обучение агента 2/3\n"
     ]
    },
    {
     "data": {
      "text/html": [
       "<pre style=\"white-space:pre;overflow-x:auto;line-height:normal;font-family:Menlo,'DejaVu Sans Mono',consolas,'Courier New',monospace\"></pre>\n"
      ],
      "text/plain": []
     },
     "metadata": {},
     "output_type": "display_data"
    },
    {
     "data": {
      "application/vnd.jupyter.widget-view+json": {
       "model_id": "67d097b0caf9448da6c553cbba65fc85",
       "version_major": 2,
       "version_minor": 0
      },
      "text/plain": [
       "Output()"
      ]
     },
     "metadata": {},
     "output_type": "display_data"
    },
    {
     "name": "stdout",
     "output_type": "stream",
     "text": [
      "Агент 2 Средняя награда: -2.6144\n",
      "Обучение агента 3/3\n"
     ]
    },
    {
     "data": {
      "text/html": [
       "<pre style=\"white-space:pre;overflow-x:auto;line-height:normal;font-family:Menlo,'DejaVu Sans Mono',consolas,'Courier New',monospace\"></pre>\n"
      ],
      "text/plain": []
     },
     "metadata": {},
     "output_type": "display_data"
    },
    {
     "name": "stdout",
     "output_type": "stream",
     "text": [
      "Агент 3 Средняя награда: -3.9581\n",
      "[I 2025-07-24 16:20:59,778] Trial 11 finished with value: 0.5182791139675569 and parameters: {'window_size': 120, 'num_actions': 3, 'total_timesteps': 30000, 'n_steps': 1408, 'batch_size': 128, 'n_epochs': 9, 'gamma': 0.903, 'gae_lambda': 0.92, 'clip_range': 0.25, 'learning_rate': 1.1672711987380448e-05, 'ent_coef': 7.944756246019571e-05, 'vf_coef': 1.0, 'max_grad_norm': 0.3642547223103561, 'linear_dim': 32, 'dropout': 0.5729330576947287, 'hidden_dim': 247}. Best is trial 9 with value: 1.2514208542395204.\n"
     ]
    },
    {
     "data": {
      "application/vnd.jupyter.widget-view+json": {
       "model_id": "a8e7f301c7ad4bad90898787665a6ceb",
       "version_major": 2,
       "version_minor": 0
      },
      "text/plain": [
       "Output()"
      ]
     },
     "metadata": {},
     "output_type": "display_data"
    },
    {
     "name": "stdout",
     "output_type": "stream",
     "text": [
      "Shape of data: (4040, 6) 2010-01-04 00:00:00 2025-06-27 00:00:00\n",
      "feature finance: Index(['f_log_ret', 'f_vol20', 'f_vol60', 'f_vol20/vol60', 'f_ema_10',\n",
      "       'f_ema_20', 'f_rsi', 'f_macd_line', 'f_macd_signal'],\n",
      "      dtype='object')\n",
      "feature time: Index(['day_of_week_sin', 'day_of_week_cos', 'day_of_month_sin',\n",
      "       'day_of_month_cos', 'day_of_year_sin', 'day_of_year_cos',\n",
      "       'week_of_year_sin', 'week_of_year_cos', 'month_sin', 'month_cos',\n",
      "       'quarter_sin', 'quarter_cos', 'is_month_end'],\n",
      "      dtype='object')\n",
      "\n",
      "Окно 1/5 (Год: 2010)\n",
      "Обучение агента 1/3\n"
     ]
    },
    {
     "data": {
      "text/html": [
       "<pre style=\"white-space:pre;overflow-x:auto;line-height:normal;font-family:Menlo,'DejaVu Sans Mono',consolas,'Courier New',monospace\"></pre>\n"
      ],
      "text/plain": []
     },
     "metadata": {},
     "output_type": "display_data"
    },
    {
     "data": {
      "application/vnd.jupyter.widget-view+json": {
       "model_id": "8449d93f48dc43ea828be61de67273a4",
       "version_major": 2,
       "version_minor": 0
      },
      "text/plain": [
       "Output()"
      ]
     },
     "metadata": {},
     "output_type": "display_data"
    },
    {
     "name": "stdout",
     "output_type": "stream",
     "text": [
      "Агент 1 Средняя награда: -28.3326\n",
      "Обучение агента 2/3\n"
     ]
    },
    {
     "data": {
      "text/html": [
       "<pre style=\"white-space:pre;overflow-x:auto;line-height:normal;font-family:Menlo,'DejaVu Sans Mono',consolas,'Courier New',monospace\"></pre>\n"
      ],
      "text/plain": []
     },
     "metadata": {},
     "output_type": "display_data"
    },
    {
     "data": {
      "application/vnd.jupyter.widget-view+json": {
       "model_id": "00c41edbc18e40f1938924d6a97b7c25",
       "version_major": 2,
       "version_minor": 0
      },
      "text/plain": [
       "Output()"
      ]
     },
     "metadata": {},
     "output_type": "display_data"
    },
    {
     "name": "stdout",
     "output_type": "stream",
     "text": [
      "Агент 2 Средняя награда: -21.4621\n",
      "Обучение агента 3/3\n"
     ]
    },
    {
     "data": {
      "text/html": [
       "<pre style=\"white-space:pre;overflow-x:auto;line-height:normal;font-family:Menlo,'DejaVu Sans Mono',consolas,'Courier New',monospace\"></pre>\n"
      ],
      "text/plain": []
     },
     "metadata": {},
     "output_type": "display_data"
    },
    {
     "data": {
      "application/vnd.jupyter.widget-view+json": {
       "model_id": "26acafbd51a1420e8fc94154992905ca",
       "version_major": 2,
       "version_minor": 0
      },
      "text/plain": [
       "Output()"
      ]
     },
     "metadata": {},
     "output_type": "display_data"
    },
    {
     "name": "stdout",
     "output_type": "stream",
     "text": [
      "Агент 3 Средняя награда: 248.1353\n",
      "\n",
      "Окно 2/5 (Год: 2011)\n",
      "Обучение агента 1/3\n"
     ]
    },
    {
     "data": {
      "text/html": [
       "<pre style=\"white-space:pre;overflow-x:auto;line-height:normal;font-family:Menlo,'DejaVu Sans Mono',consolas,'Courier New',monospace\"></pre>\n"
      ],
      "text/plain": []
     },
     "metadata": {},
     "output_type": "display_data"
    },
    {
     "data": {
      "application/vnd.jupyter.widget-view+json": {
       "model_id": "4dda2de72dc34b7ea327bdd5db24fbb1",
       "version_major": 2,
       "version_minor": 0
      },
      "text/plain": [
       "Output()"
      ]
     },
     "metadata": {},
     "output_type": "display_data"
    },
    {
     "name": "stdout",
     "output_type": "stream",
     "text": [
      "Агент 1 Средняя награда: 145.4229\n",
      "Обучение агента 2/3\n"
     ]
    },
    {
     "data": {
      "text/html": [
       "<pre style=\"white-space:pre;overflow-x:auto;line-height:normal;font-family:Menlo,'DejaVu Sans Mono',consolas,'Courier New',monospace\"></pre>\n"
      ],
      "text/plain": []
     },
     "metadata": {},
     "output_type": "display_data"
    },
    {
     "data": {
      "application/vnd.jupyter.widget-view+json": {
       "model_id": "ed9f795166ec489ab7757950c6fcd559",
       "version_major": 2,
       "version_minor": 0
      },
      "text/plain": [
       "Output()"
      ]
     },
     "metadata": {},
     "output_type": "display_data"
    },
    {
     "name": "stdout",
     "output_type": "stream",
     "text": [
      "Агент 2 Средняя награда: -27.3032\n",
      "Обучение агента 3/3\n"
     ]
    },
    {
     "data": {
      "text/html": [
       "<pre style=\"white-space:pre;overflow-x:auto;line-height:normal;font-family:Menlo,'DejaVu Sans Mono',consolas,'Courier New',monospace\"></pre>\n"
      ],
      "text/plain": []
     },
     "metadata": {},
     "output_type": "display_data"
    },
    {
     "data": {
      "application/vnd.jupyter.widget-view+json": {
       "model_id": "a41c580f003a415889f52f401f759e0b",
       "version_major": 2,
       "version_minor": 0
      },
      "text/plain": [
       "Output()"
      ]
     },
     "metadata": {},
     "output_type": "display_data"
    },
    {
     "name": "stdout",
     "output_type": "stream",
     "text": [
      "Агент 3 Средняя награда: 63.3434\n",
      "\n",
      "Окно 3/5 (Год: 2012)\n",
      "Обучение агента 1/3\n"
     ]
    },
    {
     "data": {
      "text/html": [
       "<pre style=\"white-space:pre;overflow-x:auto;line-height:normal;font-family:Menlo,'DejaVu Sans Mono',consolas,'Courier New',monospace\"></pre>\n"
      ],
      "text/plain": []
     },
     "metadata": {},
     "output_type": "display_data"
    },
    {
     "data": {
      "application/vnd.jupyter.widget-view+json": {
       "model_id": "4797795e8d694d5796c9138b2e73216b",
       "version_major": 2,
       "version_minor": 0
      },
      "text/plain": [
       "Output()"
      ]
     },
     "metadata": {},
     "output_type": "display_data"
    },
    {
     "name": "stdout",
     "output_type": "stream",
     "text": [
      "Агент 1 Средняя награда: 142.9482\n",
      "Обучение агента 2/3\n"
     ]
    },
    {
     "data": {
      "text/html": [
       "<pre style=\"white-space:pre;overflow-x:auto;line-height:normal;font-family:Menlo,'DejaVu Sans Mono',consolas,'Courier New',monospace\"></pre>\n"
      ],
      "text/plain": []
     },
     "metadata": {},
     "output_type": "display_data"
    },
    {
     "data": {
      "application/vnd.jupyter.widget-view+json": {
       "model_id": "9868093282f64c4f9409ba68e138075d",
       "version_major": 2,
       "version_minor": 0
      },
      "text/plain": [
       "Output()"
      ]
     },
     "metadata": {},
     "output_type": "display_data"
    },
    {
     "name": "stdout",
     "output_type": "stream",
     "text": [
      "Агент 2 Средняя награда: 83.6974\n",
      "Обучение агента 3/3\n"
     ]
    },
    {
     "data": {
      "text/html": [
       "<pre style=\"white-space:pre;overflow-x:auto;line-height:normal;font-family:Menlo,'DejaVu Sans Mono',consolas,'Courier New',monospace\"></pre>\n"
      ],
      "text/plain": []
     },
     "metadata": {},
     "output_type": "display_data"
    },
    {
     "data": {
      "application/vnd.jupyter.widget-view+json": {
       "model_id": "81b04e0ed788478ea2acee1ef05ff20a",
       "version_major": 2,
       "version_minor": 0
      },
      "text/plain": [
       "Output()"
      ]
     },
     "metadata": {},
     "output_type": "display_data"
    },
    {
     "data": {
      "text/html": [
       "<pre style=\"white-space:pre;overflow-x:auto;line-height:normal;font-family:Menlo,'DejaVu Sans Mono',consolas,'Courier New',monospace\"></pre>\n"
      ],
      "text/plain": []
     },
     "metadata": {},
     "output_type": "display_data"
    },
    {
     "data": {
      "application/vnd.jupyter.widget-view+json": {
       "model_id": "fecc090967264bd1b8a7e0eee258a635",
       "version_major": 2,
       "version_minor": 0
      },
      "text/plain": [
       "Output()"
      ]
     },
     "metadata": {},
     "output_type": "display_data"
    },
    {
     "name": "stdout",
     "output_type": "stream",
     "text": [
      "Агент 1 Средняя награда: -19.9968\n",
      "Обучение агента 2/3\n"
     ]
    },
    {
     "data": {
      "text/html": [
       "<pre style=\"white-space:pre;overflow-x:auto;line-height:normal;font-family:Menlo,'DejaVu Sans Mono',consolas,'Courier New',monospace\"></pre>\n"
      ],
      "text/plain": []
     },
     "metadata": {},
     "output_type": "display_data"
    },
    {
     "data": {
      "application/vnd.jupyter.widget-view+json": {
       "model_id": "1066649e4662491c8c1791d5dc278dbd",
       "version_major": 2,
       "version_minor": 0
      },
      "text/plain": [
       "Output()"
      ]
     },
     "metadata": {},
     "output_type": "display_data"
    },
    {
     "name": "stdout",
     "output_type": "stream",
     "text": [
      "Агент 2 Средняя награда: -77.9534\n",
      "Обучение агента 3/3\n"
     ]
    },
    {
     "data": {
      "text/html": [
       "<pre style=\"white-space:pre;overflow-x:auto;line-height:normal;font-family:Menlo,'DejaVu Sans Mono',consolas,'Courier New',monospace\"></pre>\n"
      ],
      "text/plain": []
     },
     "metadata": {},
     "output_type": "display_data"
    },
    {
     "data": {
      "application/vnd.jupyter.widget-view+json": {
       "model_id": "611d903aa3a0409db014d53a23a44974",
       "version_major": 2,
       "version_minor": 0
      },
      "text/plain": [
       "Output()"
      ]
     },
     "metadata": {},
     "output_type": "display_data"
    },
    {
     "data": {
      "text/html": [
       "<pre style=\"white-space:pre;overflow-x:auto;line-height:normal;font-family:Menlo,'DejaVu Sans Mono',consolas,'Courier New',monospace\"></pre>\n"
      ],
      "text/plain": []
     },
     "metadata": {},
     "output_type": "display_data"
    },
    {
     "data": {
      "application/vnd.jupyter.widget-view+json": {
       "model_id": "79bdeff1677f4fa2bd07b2c42f3b140e",
       "version_major": 2,
       "version_minor": 0
      },
      "text/plain": [
       "Output()"
      ]
     },
     "metadata": {},
     "output_type": "display_data"
    },
    {
     "name": "stdout",
     "output_type": "stream",
     "text": [
      "Агент 1 Средняя награда: 24.0405\n",
      "Обучение агента 2/3\n"
     ]
    },
    {
     "data": {
      "text/html": [
       "<pre style=\"white-space:pre;overflow-x:auto;line-height:normal;font-family:Menlo,'DejaVu Sans Mono',consolas,'Courier New',monospace\"></pre>\n"
      ],
      "text/plain": []
     },
     "metadata": {},
     "output_type": "display_data"
    },
    {
     "data": {
      "application/vnd.jupyter.widget-view+json": {
       "model_id": "8e6dcbaf9e5643ef91d54df18076e6a3",
       "version_major": 2,
       "version_minor": 0
      },
      "text/plain": [
       "Output()"
      ]
     },
     "metadata": {},
     "output_type": "display_data"
    },
    {
     "name": "stdout",
     "output_type": "stream",
     "text": [
      "Агент 2 Средняя награда: 1.2388\n",
      "Обучение агента 3/3\n"
     ]
    },
    {
     "data": {
      "text/html": [
       "<pre style=\"white-space:pre;overflow-x:auto;line-height:normal;font-family:Menlo,'DejaVu Sans Mono',consolas,'Courier New',monospace\"></pre>\n"
      ],
      "text/plain": []
     },
     "metadata": {},
     "output_type": "display_data"
    },
    {
     "name": "stdout",
     "output_type": "stream",
     "text": [
      "Агент 3 Средняя награда: 115.9898\n",
      "[I 2025-07-24 16:26:31,024] Trial 12 finished with value: 0.6733604154698958 and parameters: {'window_size': 60, 'num_actions': 3, 'total_timesteps': 30000, 'n_steps': 1152, 'batch_size': 512, 'n_epochs': 11, 'gamma': 0.92, 'gae_lambda': 0.91, 'clip_range': 0.25, 'learning_rate': 0.00020065771485986705, 'ent_coef': 0.0008734555018893361, 'vf_coef': 1.0, 'max_grad_norm': 0.3738958274756948, 'linear_dim': 80, 'dropout': 0.7579753649560657, 'hidden_dim': 499}. Best is trial 9 with value: 1.2514208542395204.\n"
     ]
    },
    {
     "data": {
      "application/vnd.jupyter.widget-view+json": {
       "model_id": "18a34c638c93400ba9d97fc29fd3c48d",
       "version_major": 2,
       "version_minor": 0
      },
      "text/plain": [
       "Output()"
      ]
     },
     "metadata": {},
     "output_type": "display_data"
    },
    {
     "name": "stdout",
     "output_type": "stream",
     "text": [
      "Shape of data: (4040, 6) 2010-01-04 00:00:00 2025-06-27 00:00:00\n",
      "feature finance: Index(['f_log_ret', 'f_vol20', 'f_vol60', 'f_vol20/vol60', 'f_ema_10',\n",
      "       'f_ema_20', 'f_rsi', 'f_macd_line', 'f_macd_signal'],\n",
      "      dtype='object')\n",
      "feature time: Index(['day_of_week_sin', 'day_of_week_cos', 'day_of_month_sin',\n",
      "       'day_of_month_cos', 'day_of_year_sin', 'day_of_year_cos',\n",
      "       'week_of_year_sin', 'week_of_year_cos', 'month_sin', 'month_cos',\n",
      "       'quarter_sin', 'quarter_cos', 'is_month_end'],\n",
      "      dtype='object')\n",
      "\n",
      "Окно 1/5 (Год: 2010)\n",
      "Обучение агента 1/3\n"
     ]
    },
    {
     "data": {
      "text/html": [
       "<pre style=\"white-space:pre;overflow-x:auto;line-height:normal;font-family:Menlo,'DejaVu Sans Mono',consolas,'Courier New',monospace\"></pre>\n"
      ],
      "text/plain": []
     },
     "metadata": {},
     "output_type": "display_data"
    },
    {
     "data": {
      "application/vnd.jupyter.widget-view+json": {
       "model_id": "13063186a8f9487c83864dd26bb7b9b8",
       "version_major": 2,
       "version_minor": 0
      },
      "text/plain": [
       "Output()"
      ]
     },
     "metadata": {},
     "output_type": "display_data"
    },
    {
     "name": "stdout",
     "output_type": "stream",
     "text": [
      "Агент 1 Средняя награда: 0.1438\n",
      "Обучение агента 2/3\n"
     ]
    },
    {
     "data": {
      "text/html": [
       "<pre style=\"white-space:pre;overflow-x:auto;line-height:normal;font-family:Menlo,'DejaVu Sans Mono',consolas,'Courier New',monospace\"></pre>\n"
      ],
      "text/plain": []
     },
     "metadata": {},
     "output_type": "display_data"
    },
    {
     "data": {
      "application/vnd.jupyter.widget-view+json": {
       "model_id": "bd7627a50e47482cb0a8866b13e4fbb8",
       "version_major": 2,
       "version_minor": 0
      },
      "text/plain": [
       "Output()"
      ]
     },
     "metadata": {},
     "output_type": "display_data"
    },
    {
     "name": "stdout",
     "output_type": "stream",
     "text": [
      "Агент 2 Средняя награда: 28.0366\n",
      "Обучение агента 3/3\n"
     ]
    },
    {
     "data": {
      "text/html": [
       "<pre style=\"white-space:pre;overflow-x:auto;line-height:normal;font-family:Menlo,'DejaVu Sans Mono',consolas,'Courier New',monospace\"></pre>\n"
      ],
      "text/plain": []
     },
     "metadata": {},
     "output_type": "display_data"
    },
    {
     "data": {
      "application/vnd.jupyter.widget-view+json": {
       "model_id": "af502097592245d0b8352a9522a3f6e2",
       "version_major": 2,
       "version_minor": 0
      },
      "text/plain": [
       "Output()"
      ]
     },
     "metadata": {},
     "output_type": "display_data"
    },
    {
     "name": "stdout",
     "output_type": "stream",
     "text": [
      "Агент 3 Средняя награда: 25.9860\n",
      "\n",
      "Окно 2/5 (Год: 2011)\n",
      "Обучение агента 1/3\n"
     ]
    },
    {
     "data": {
      "text/html": [
       "<pre style=\"white-space:pre;overflow-x:auto;line-height:normal;font-family:Menlo,'DejaVu Sans Mono',consolas,'Courier New',monospace\"></pre>\n"
      ],
      "text/plain": []
     },
     "metadata": {},
     "output_type": "display_data"
    },
    {
     "data": {
      "application/vnd.jupyter.widget-view+json": {
       "model_id": "872d914fc6e54e4a96f952febe1f0201",
       "version_major": 2,
       "version_minor": 0
      },
      "text/plain": [
       "Output()"
      ]
     },
     "metadata": {},
     "output_type": "display_data"
    },
    {
     "name": "stdout",
     "output_type": "stream",
     "text": [
      "Агент 1 Средняя награда: 38.1996\n",
      "Обучение агента 2/3\n"
     ]
    },
    {
     "data": {
      "text/html": [
       "<pre style=\"white-space:pre;overflow-x:auto;line-height:normal;font-family:Menlo,'DejaVu Sans Mono',consolas,'Courier New',monospace\"></pre>\n"
      ],
      "text/plain": []
     },
     "metadata": {},
     "output_type": "display_data"
    },
    {
     "data": {
      "application/vnd.jupyter.widget-view+json": {
       "model_id": "3ae8f137f4334488a942a19aa3214244",
       "version_major": 2,
       "version_minor": 0
      },
      "text/plain": [
       "Output()"
      ]
     },
     "metadata": {},
     "output_type": "display_data"
    },
    {
     "name": "stdout",
     "output_type": "stream",
     "text": [
      "Агент 2 Средняя награда: -17.6934\n",
      "Обучение агента 3/3\n"
     ]
    },
    {
     "data": {
      "text/html": [
       "<pre style=\"white-space:pre;overflow-x:auto;line-height:normal;font-family:Menlo,'DejaVu Sans Mono',consolas,'Courier New',monospace\"></pre>\n"
      ],
      "text/plain": []
     },
     "metadata": {},
     "output_type": "display_data"
    },
    {
     "data": {
      "application/vnd.jupyter.widget-view+json": {
       "model_id": "09e1f8e5b1794528a9ffe7c5a643946f",
       "version_major": 2,
       "version_minor": 0
      },
      "text/plain": [
       "Output()"
      ]
     },
     "metadata": {},
     "output_type": "display_data"
    },
    {
     "name": "stdout",
     "output_type": "stream",
     "text": [
      "Агент 3 Средняя награда: 192.2315\n",
      "\n",
      "Окно 3/5 (Год: 2012)\n",
      "Обучение агента 1/3\n"
     ]
    },
    {
     "data": {
      "text/html": [
       "<pre style=\"white-space:pre;overflow-x:auto;line-height:normal;font-family:Menlo,'DejaVu Sans Mono',consolas,'Courier New',monospace\"></pre>\n"
      ],
      "text/plain": []
     },
     "metadata": {},
     "output_type": "display_data"
    },
    {
     "data": {
      "application/vnd.jupyter.widget-view+json": {
       "model_id": "a00397214f3c450b8b4ab59aa7b53e81",
       "version_major": 2,
       "version_minor": 0
      },
      "text/plain": [
       "Output()"
      ]
     },
     "metadata": {},
     "output_type": "display_data"
    },
    {
     "name": "stdout",
     "output_type": "stream",
     "text": [
      "Агент 1 Средняя награда: 30.4962\n",
      "Обучение агента 2/3\n"
     ]
    },
    {
     "data": {
      "text/html": [
       "<pre style=\"white-space:pre;overflow-x:auto;line-height:normal;font-family:Menlo,'DejaVu Sans Mono',consolas,'Courier New',monospace\"></pre>\n"
      ],
      "text/plain": []
     },
     "metadata": {},
     "output_type": "display_data"
    },
    {
     "data": {
      "application/vnd.jupyter.widget-view+json": {
       "model_id": "cf695c640b1f42b68d7d1ea14f8ea6c8",
       "version_major": 2,
       "version_minor": 0
      },
      "text/plain": [
       "Output()"
      ]
     },
     "metadata": {},
     "output_type": "display_data"
    },
    {
     "name": "stdout",
     "output_type": "stream",
     "text": [
      "Агент 2 Средняя награда: 52.6188\n",
      "Обучение агента 3/3\n"
     ]
    },
    {
     "data": {
      "text/html": [
       "<pre style=\"white-space:pre;overflow-x:auto;line-height:normal;font-family:Menlo,'DejaVu Sans Mono',consolas,'Courier New',monospace\"></pre>\n"
      ],
      "text/plain": []
     },
     "metadata": {},
     "output_type": "display_data"
    },
    {
     "data": {
      "application/vnd.jupyter.widget-view+json": {
       "model_id": "4a222eca5ced48fca155af8e5679697b",
       "version_major": 2,
       "version_minor": 0
      },
      "text/plain": [
       "Output()"
      ]
     },
     "metadata": {},
     "output_type": "display_data"
    },
    {
     "name": "stdout",
     "output_type": "stream",
     "text": [
      "Агент 3 Средняя награда: 38.8666\n",
      "\n",
      "Окно 4/5 (Год: 2013)\n",
      "Обучение агента 1/3\n"
     ]
    },
    {
     "data": {
      "text/html": [
       "<pre style=\"white-space:pre;overflow-x:auto;line-height:normal;font-family:Menlo,'DejaVu Sans Mono',consolas,'Courier New',monospace\"></pre>\n"
      ],
      "text/plain": []
     },
     "metadata": {},
     "output_type": "display_data"
    },
    {
     "data": {
      "application/vnd.jupyter.widget-view+json": {
       "model_id": "4575cd0351244a04984ce82e79c42998",
       "version_major": 2,
       "version_minor": 0
      },
      "text/plain": [
       "Output()"
      ]
     },
     "metadata": {},
     "output_type": "display_data"
    },
    {
     "name": "stdout",
     "output_type": "stream",
     "text": [
      "Агент 1 Средняя награда: 3.0246\n",
      "Обучение агента 2/3\n"
     ]
    },
    {
     "data": {
      "text/html": [
       "<pre style=\"white-space:pre;overflow-x:auto;line-height:normal;font-family:Menlo,'DejaVu Sans Mono',consolas,'Courier New',monospace\"></pre>\n"
      ],
      "text/plain": []
     },
     "metadata": {},
     "output_type": "display_data"
    },
    {
     "data": {
      "application/vnd.jupyter.widget-view+json": {
       "model_id": "4111b66937444155bd159ca8a4e49728",
       "version_major": 2,
       "version_minor": 0
      },
      "text/plain": [
       "Output()"
      ]
     },
     "metadata": {},
     "output_type": "display_data"
    },
    {
     "name": "stdout",
     "output_type": "stream",
     "text": [
      "Агент 2 Средняя награда: -27.0679\n",
      "Обучение агента 3/3\n"
     ]
    },
    {
     "data": {
      "text/html": [
       "<pre style=\"white-space:pre;overflow-x:auto;line-height:normal;font-family:Menlo,'DejaVu Sans Mono',consolas,'Courier New',monospace\"></pre>\n"
      ],
      "text/plain": []
     },
     "metadata": {},
     "output_type": "display_data"
    },
    {
     "data": {
      "application/vnd.jupyter.widget-view+json": {
       "model_id": "c9397a559d1849808259981590b819b8",
       "version_major": 2,
       "version_minor": 0
      },
      "text/plain": [
       "Output()"
      ]
     },
     "metadata": {},
     "output_type": "display_data"
    },
    {
     "name": "stdout",
     "output_type": "stream",
     "text": [
      "Агент 3 Средняя награда: -36.9381\n",
      "\n",
      "Окно 5/5 (Год: 2014)\n",
      "Обучение агента 1/3\n"
     ]
    },
    {
     "data": {
      "text/html": [
       "<pre style=\"white-space:pre;overflow-x:auto;line-height:normal;font-family:Menlo,'DejaVu Sans Mono',consolas,'Courier New',monospace\"></pre>\n"
      ],
      "text/plain": []
     },
     "metadata": {},
     "output_type": "display_data"
    },
    {
     "data": {
      "application/vnd.jupyter.widget-view+json": {
       "model_id": "37bd4d12866545fabedf51913cffd959",
       "version_major": 2,
       "version_minor": 0
      },
      "text/plain": [
       "Output()"
      ]
     },
     "metadata": {},
     "output_type": "display_data"
    },
    {
     "name": "stdout",
     "output_type": "stream",
     "text": [
      "Агент 1 Средняя награда: -2.8038\n",
      "Обучение агента 2/3\n"
     ]
    },
    {
     "data": {
      "text/html": [
       "<pre style=\"white-space:pre;overflow-x:auto;line-height:normal;font-family:Menlo,'DejaVu Sans Mono',consolas,'Courier New',monospace\"></pre>\n"
      ],
      "text/plain": []
     },
     "metadata": {},
     "output_type": "display_data"
    },
    {
     "data": {
      "application/vnd.jupyter.widget-view+json": {
       "model_id": "f4834ccdde7445f49b2811aab63277fe",
       "version_major": 2,
       "version_minor": 0
      },
      "text/plain": [
       "Output()"
      ]
     },
     "metadata": {},
     "output_type": "display_data"
    },
    {
     "name": "stdout",
     "output_type": "stream",
     "text": [
      "Агент 2 Средняя награда: 11.4741\n",
      "Обучение агента 3/3\n"
     ]
    },
    {
     "data": {
      "text/html": [
       "<pre style=\"white-space:pre;overflow-x:auto;line-height:normal;font-family:Menlo,'DejaVu Sans Mono',consolas,'Courier New',monospace\"></pre>\n"
      ],
      "text/plain": []
     },
     "metadata": {},
     "output_type": "display_data"
    },
    {
     "name": "stdout",
     "output_type": "stream",
     "text": [
      "Агент 3 Средняя награда: 4.6583\n",
      "[I 2025-07-24 16:42:37,067] Trial 13 finished with value: 1.5140690816334297 and parameters: {'window_size': 120, 'num_actions': 3, 'total_timesteps': 30000, 'n_steps': 1280, 'batch_size': 128, 'n_epochs': 30, 'gamma': 0.9440000000000001, 'gae_lambda': 0.9400000000000001, 'clip_range': 0.30000000000000004, 'learning_rate': 4.6149277258891906e-05, 'ent_coef': 1.1158405702940466e-05, 'vf_coef': 0.8, 'max_grad_norm': 0.6914307738948051, 'linear_dim': 135, 'dropout': 0.495171410542586, 'hidden_dim': 153}. Best is trial 13 with value: 1.5140690816334297.\n"
     ]
    },
    {
     "data": {
      "application/vnd.jupyter.widget-view+json": {
       "model_id": "7aaa8be34ad5423fa1617a04a36e70f5",
       "version_major": 2,
       "version_minor": 0
      },
      "text/plain": [
       "Output()"
      ]
     },
     "metadata": {},
     "output_type": "display_data"
    },
    {
     "name": "stdout",
     "output_type": "stream",
     "text": [
      "Shape of data: (4040, 6) 2010-01-04 00:00:00 2025-06-27 00:00:00\n",
      "feature finance: Index(['f_log_ret', 'f_vol20', 'f_vol60', 'f_vol20/vol60', 'f_ema_10',\n",
      "       'f_ema_20', 'f_rsi', 'f_macd_line', 'f_macd_signal'],\n",
      "      dtype='object')\n",
      "feature time: Index(['day_of_week_sin', 'day_of_week_cos', 'day_of_month_sin',\n",
      "       'day_of_month_cos', 'day_of_year_sin', 'day_of_year_cos',\n",
      "       'week_of_year_sin', 'week_of_year_cos', 'month_sin', 'month_cos',\n",
      "       'quarter_sin', 'quarter_cos', 'is_month_end'],\n",
      "      dtype='object')\n",
      "\n",
      "Окно 1/5 (Год: 2010)\n",
      "Обучение агента 1/3\n"
     ]
    },
    {
     "data": {
      "text/html": [
       "<pre style=\"white-space:pre;overflow-x:auto;line-height:normal;font-family:Menlo,'DejaVu Sans Mono',consolas,'Courier New',monospace\"></pre>\n"
      ],
      "text/plain": []
     },
     "metadata": {},
     "output_type": "display_data"
    },
    {
     "data": {
      "application/vnd.jupyter.widget-view+json": {
       "model_id": "a18f820674734c9fb705097f632f6cac",
       "version_major": 2,
       "version_minor": 0
      },
      "text/plain": [
       "Output()"
      ]
     },
     "metadata": {},
     "output_type": "display_data"
    },
    {
     "name": "stdout",
     "output_type": "stream",
     "text": [
      "Агент 1 Средняя награда: -16.9130\n",
      "Обучение агента 2/3\n"
     ]
    },
    {
     "data": {
      "text/html": [
       "<pre style=\"white-space:pre;overflow-x:auto;line-height:normal;font-family:Menlo,'DejaVu Sans Mono',consolas,'Courier New',monospace\"></pre>\n"
      ],
      "text/plain": []
     },
     "metadata": {},
     "output_type": "display_data"
    },
    {
     "data": {
      "application/vnd.jupyter.widget-view+json": {
       "model_id": "871cd97f81ff429789aae5ab1598915c",
       "version_major": 2,
       "version_minor": 0
      },
      "text/plain": [
       "Output()"
      ]
     },
     "metadata": {},
     "output_type": "display_data"
    },
    {
     "name": "stdout",
     "output_type": "stream",
     "text": [
      "Агент 2 Средняя награда: -7.2884\n",
      "Обучение агента 3/3\n"
     ]
    },
    {
     "data": {
      "text/html": [
       "<pre style=\"white-space:pre;overflow-x:auto;line-height:normal;font-family:Menlo,'DejaVu Sans Mono',consolas,'Courier New',monospace\"></pre>\n"
      ],
      "text/plain": []
     },
     "metadata": {},
     "output_type": "display_data"
    },
    {
     "data": {
      "application/vnd.jupyter.widget-view+json": {
       "model_id": "e039bf59349e44298083bb66e77a753f",
       "version_major": 2,
       "version_minor": 0
      },
      "text/plain": [
       "Output()"
      ]
     },
     "metadata": {},
     "output_type": "display_data"
    },
    {
     "name": "stdout",
     "output_type": "stream",
     "text": [
      "Агент 3 Средняя награда: -47.3224\n",
      "\n",
      "Окно 2/5 (Год: 2011)\n",
      "Обучение агента 1/3\n"
     ]
    },
    {
     "data": {
      "text/html": [
       "<pre style=\"white-space:pre;overflow-x:auto;line-height:normal;font-family:Menlo,'DejaVu Sans Mono',consolas,'Courier New',monospace\"></pre>\n"
      ],
      "text/plain": []
     },
     "metadata": {},
     "output_type": "display_data"
    },
    {
     "data": {
      "application/vnd.jupyter.widget-view+json": {
       "model_id": "c911b1509a48450eb383e1ac33605739",
       "version_major": 2,
       "version_minor": 0
      },
      "text/plain": [
       "Output()"
      ]
     },
     "metadata": {},
     "output_type": "display_data"
    },
    {
     "name": "stdout",
     "output_type": "stream",
     "text": [
      "Агент 1 Средняя награда: 22.9881\n",
      "Обучение агента 2/3\n"
     ]
    },
    {
     "data": {
      "text/html": [
       "<pre style=\"white-space:pre;overflow-x:auto;line-height:normal;font-family:Menlo,'DejaVu Sans Mono',consolas,'Courier New',monospace\"></pre>\n"
      ],
      "text/plain": []
     },
     "metadata": {},
     "output_type": "display_data"
    },
    {
     "data": {
      "application/vnd.jupyter.widget-view+json": {
       "model_id": "677f9ff216f443b0badfb0125e6518cf",
       "version_major": 2,
       "version_minor": 0
      },
      "text/plain": [
       "Output()"
      ]
     },
     "metadata": {},
     "output_type": "display_data"
    },
    {
     "name": "stdout",
     "output_type": "stream",
     "text": [
      "Агент 2 Средняя награда: 110.4262\n",
      "Обучение агента 3/3\n"
     ]
    },
    {
     "data": {
      "text/html": [
       "<pre style=\"white-space:pre;overflow-x:auto;line-height:normal;font-family:Menlo,'DejaVu Sans Mono',consolas,'Courier New',monospace\"></pre>\n"
      ],
      "text/plain": []
     },
     "metadata": {},
     "output_type": "display_data"
    },
    {
     "data": {
      "application/vnd.jupyter.widget-view+json": {
       "model_id": "15e2a3eb5e74489882c6b20408783fff",
       "version_major": 2,
       "version_minor": 0
      },
      "text/plain": [
       "Output()"
      ]
     },
     "metadata": {},
     "output_type": "display_data"
    },
    {
     "name": "stdout",
     "output_type": "stream",
     "text": [
      "Агент 3 Средняя награда: 103.2956\n",
      "\n",
      "Окно 3/5 (Год: 2012)\n",
      "Обучение агента 1/3\n"
     ]
    },
    {
     "data": {
      "text/html": [
       "<pre style=\"white-space:pre;overflow-x:auto;line-height:normal;font-family:Menlo,'DejaVu Sans Mono',consolas,'Courier New',monospace\"></pre>\n"
      ],
      "text/plain": []
     },
     "metadata": {},
     "output_type": "display_data"
    },
    {
     "data": {
      "application/vnd.jupyter.widget-view+json": {
       "model_id": "58ddf04b0fef4518b9c55eba1af5186f",
       "version_major": 2,
       "version_minor": 0
      },
      "text/plain": [
       "Output()"
      ]
     },
     "metadata": {},
     "output_type": "display_data"
    },
    {
     "name": "stdout",
     "output_type": "stream",
     "text": [
      "Агент 1 Средняя награда: 19.4840\n",
      "Обучение агента 2/3\n"
     ]
    },
    {
     "data": {
      "text/html": [
       "<pre style=\"white-space:pre;overflow-x:auto;line-height:normal;font-family:Menlo,'DejaVu Sans Mono',consolas,'Courier New',monospace\"></pre>\n"
      ],
      "text/plain": []
     },
     "metadata": {},
     "output_type": "display_data"
    },
    {
     "data": {
      "application/vnd.jupyter.widget-view+json": {
       "model_id": "e941e9f9f5694d1aaca1c2b8b9cbef71",
       "version_major": 2,
       "version_minor": 0
      },
      "text/plain": [
       "Output()"
      ]
     },
     "metadata": {},
     "output_type": "display_data"
    },
    {
     "name": "stdout",
     "output_type": "stream",
     "text": [
      "Агент 2 Средняя награда: 0.0000\n",
      "Обучение агента 3/3\n"
     ]
    },
    {
     "data": {
      "text/html": [
       "<pre style=\"white-space:pre;overflow-x:auto;line-height:normal;font-family:Menlo,'DejaVu Sans Mono',consolas,'Courier New',monospace\"></pre>\n"
      ],
      "text/plain": []
     },
     "metadata": {},
     "output_type": "display_data"
    },
    {
     "data": {
      "application/vnd.jupyter.widget-view+json": {
       "model_id": "61db62cd35e8447b92d2fdbc7ef352bb",
       "version_major": 2,
       "version_minor": 0
      },
      "text/plain": [
       "Output()"
      ]
     },
     "metadata": {},
     "output_type": "display_data"
    },
    {
     "name": "stdout",
     "output_type": "stream",
     "text": [
      "Агент 3 Средняя награда: 0.0000\n",
      "\n",
      "Окно 4/5 (Год: 2013)\n",
      "Обучение агента 1/3\n"
     ]
    },
    {
     "data": {
      "text/html": [
       "<pre style=\"white-space:pre;overflow-x:auto;line-height:normal;font-family:Menlo,'DejaVu Sans Mono',consolas,'Courier New',monospace\"></pre>\n"
      ],
      "text/plain": []
     },
     "metadata": {},
     "output_type": "display_data"
    },
    {
     "data": {
      "application/vnd.jupyter.widget-view+json": {
       "model_id": "a74bcea41fc94e9aa3753013822bb9d0",
       "version_major": 2,
       "version_minor": 0
      },
      "text/plain": [
       "Output()"
      ]
     },
     "metadata": {},
     "output_type": "display_data"
    },
    {
     "name": "stdout",
     "output_type": "stream",
     "text": [
      "Агент 1 Средняя награда: -12.1728\n",
      "Обучение агента 2/3\n"
     ]
    },
    {
     "data": {
      "text/html": [
       "<pre style=\"white-space:pre;overflow-x:auto;line-height:normal;font-family:Menlo,'DejaVu Sans Mono',consolas,'Courier New',monospace\"></pre>\n"
      ],
      "text/plain": []
     },
     "metadata": {},
     "output_type": "display_data"
    },
    {
     "data": {
      "application/vnd.jupyter.widget-view+json": {
       "model_id": "3753a95fe07641988f3d470846ed4908",
       "version_major": 2,
       "version_minor": 0
      },
      "text/plain": [
       "Output()"
      ]
     },
     "metadata": {},
     "output_type": "display_data"
    },
    {
     "name": "stdout",
     "output_type": "stream",
     "text": [
      "Агент 2 Средняя награда: -40.1717\n",
      "Обучение агента 3/3\n"
     ]
    },
    {
     "data": {
      "text/html": [
       "<pre style=\"white-space:pre;overflow-x:auto;line-height:normal;font-family:Menlo,'DejaVu Sans Mono',consolas,'Courier New',monospace\"></pre>\n"
      ],
      "text/plain": []
     },
     "metadata": {},
     "output_type": "display_data"
    },
    {
     "data": {
      "application/vnd.jupyter.widget-view+json": {
       "model_id": "58d6fb10789a45e394f9fdb9b423654c",
       "version_major": 2,
       "version_minor": 0
      },
      "text/plain": [
       "Output()"
      ]
     },
     "metadata": {},
     "output_type": "display_data"
    },
    {
     "name": "stdout",
     "output_type": "stream",
     "text": [
      "Агент 3 Средняя награда: -227.8962\n",
      "\n",
      "Окно 5/5 (Год: 2014)\n",
      "Обучение агента 1/3\n"
     ]
    },
    {
     "data": {
      "text/html": [
       "<pre style=\"white-space:pre;overflow-x:auto;line-height:normal;font-family:Menlo,'DejaVu Sans Mono',consolas,'Courier New',monospace\"></pre>\n"
      ],
      "text/plain": []
     },
     "metadata": {},
     "output_type": "display_data"
    },
    {
     "data": {
      "application/vnd.jupyter.widget-view+json": {
       "model_id": "7ec0b884684a4f799a0b6756d684bfff",
       "version_major": 2,
       "version_minor": 0
      },
      "text/plain": [
       "Output()"
      ]
     },
     "metadata": {},
     "output_type": "display_data"
    },
    {
     "name": "stdout",
     "output_type": "stream",
     "text": [
      "Агент 1 Средняя награда: 5.8524\n",
      "Обучение агента 2/3\n"
     ]
    },
    {
     "data": {
      "text/html": [
       "<pre style=\"white-space:pre;overflow-x:auto;line-height:normal;font-family:Menlo,'DejaVu Sans Mono',consolas,'Courier New',monospace\"></pre>\n"
      ],
      "text/plain": []
     },
     "metadata": {},
     "output_type": "display_data"
    },
    {
     "data": {
      "application/vnd.jupyter.widget-view+json": {
       "model_id": "3a8f3c91e2bd491481004fffe702b242",
       "version_major": 2,
       "version_minor": 0
      },
      "text/plain": [
       "Output()"
      ]
     },
     "metadata": {},
     "output_type": "display_data"
    },
    {
     "name": "stdout",
     "output_type": "stream",
     "text": [
      "Агент 2 Средняя награда: 69.1997\n",
      "Обучение агента 3/3\n"
     ]
    },
    {
     "data": {
      "text/html": [
       "<pre style=\"white-space:pre;overflow-x:auto;line-height:normal;font-family:Menlo,'DejaVu Sans Mono',consolas,'Courier New',monospace\"></pre>\n"
      ],
      "text/plain": []
     },
     "metadata": {},
     "output_type": "display_data"
    },
    {
     "name": "stdout",
     "output_type": "stream",
     "text": [
      "Агент 3 Средняя награда: -297.6652\n",
      "[I 2025-07-24 17:11:35,676] Trial 14 finished with value: -1.2775025774515634 and parameters: {'window_size': 200, 'num_actions': 3, 'total_timesteps': 30000, 'n_steps': 1152, 'batch_size': 64, 'n_epochs': 29, 'gamma': 0.933, 'gae_lambda': 0.9500000000000001, 'clip_range': 0.30000000000000004, 'learning_rate': 4.479035127356784e-05, 'ent_coef': 2.003571282095069e-05, 'vf_coef': 0.8, 'max_grad_norm': 0.7024231104589974, 'linear_dim': 144, 'dropout': 0.6731297866574906, 'hidden_dim': 150}. Best is trial 13 with value: 1.5140690816334297.\n",
      "Лучшие параметры: {'window_size': 120, 'num_actions': 3, 'total_timesteps': 30000, 'n_steps': 1280, 'batch_size': 128, 'n_epochs': 30, 'gamma': 0.9440000000000001, 'gae_lambda': 0.9400000000000001, 'clip_range': 0.30000000000000004, 'learning_rate': 4.6149277258891906e-05, 'ent_coef': 1.1158405702940466e-05, 'vf_coef': 0.8, 'max_grad_norm': 0.6914307738948051, 'linear_dim': 135, 'dropout': 0.495171410542586, 'hidden_dim': 153}\n",
      "Лучшая награда: 1.5140690816334297\n"
     ]
    }
   ],
   "source": [
    "if CONFIG[\"optuna\"][\"n_trials\"] > 0:\n",
    "    # Оптимизация гиперпараметров с Optuna\n",
    "    study = optuna.create_study(\n",
    "        direction=CONFIG[\"optuna\"][\"direction\"],\n",
    "        sampler=TPESampler(seed=CONFIG[\"seed\"])\n",
    "    )\n",
    "\n",
    "    study.optimize(\n",
    "        objective,\n",
    "        n_trials=CONFIG[\"optuna\"][\"n_trials\"],\n",
    "        timeout=CONFIG[\"optuna\"][\"timeout\"],\n",
    "        show_progress_bar=True\n",
    "    )\n",
    "\n",
    "    best_params = study.best_params\n",
    "    \n",
    "    with open(\"best_params.yaml\", \"w\") as f:\n",
    "        yaml.dump(best_params, f)\n",
    "        \n",
    "    print(f\"Лучшие параметры: {best_params}\")\n",
    "    print(f\"Лучшая награда: {study.best_value}\")\n",
    "else:\n",
    "    # Простое обучение без оптимизации\n",
    "    metrics, ret_cur, b_h_ret_cur, model = train_single_model(CONFIG)"
   ]
  },
  {
   "cell_type": "code",
   "execution_count": 39,
   "id": "e195fd63-5f91-4543-8d35-2fde711f25ba",
   "metadata": {},
   "outputs": [
    {
     "name": "stdout",
     "output_type": "stream",
     "text": [
      "Лучшие параметры: {'window_size': 120, 'num_actions': 3, 'total_timesteps': 30000, 'n_steps': 1280, 'batch_size': 128, 'n_epochs': 30, 'gamma': 0.9440000000000001, 'gae_lambda': 0.9400000000000001, 'clip_range': 0.30000000000000004, 'learning_rate': 4.6149277258891906e-05, 'ent_coef': 1.1158405702940466e-05, 'vf_coef': 0.8, 'max_grad_norm': 0.6914307738948051, 'linear_dim': 135, 'dropout': 0.495171410542586, 'hidden_dim': 153}\n",
      "Лучшая награда: 1.5140690816334297\n"
     ]
    }
   ],
   "source": [
    "print(f\"Лучшие параметры: {best_params}\")\n",
    "print(f\"Лучшая награда: {study.best_value}\")"
   ]
  },
  {
   "cell_type": "code",
   "execution_count": 40,
   "id": "3d58d5fa-eeea-403b-a7cd-ed224a41ba4e",
   "metadata": {},
   "outputs": [],
   "source": [
    "def update_config(old_dct, new_dct):\n",
    "    for key, value in old_dct.items():\n",
    "        if key in new_dct:\n",
    "            old_dct[key] = new_dct[key]\n",
    "        else:\n",
    "            if isinstance(value, dict):\n",
    "                update_config(value, new_dct)"
   ]
  },
  {
   "cell_type": "code",
   "execution_count": 41,
   "id": "2b8c8ac2-c950-4c82-ac11-c9a15e36b818",
   "metadata": {},
   "outputs": [
    {
     "name": "stdout",
     "output_type": "stream",
     "text": [
      "{'ticker': 'AAPL', 'model_type': 'Linear', 'window_size': 120, 'price_column': 3, 'num_actions': 3, 'training_mode': 'single', 'sliding_window_config': {'train_years': 5, 'val_years': 1, 'test_years': 1, 'start_year': 2010, 'n_windows': 5, 'n_envs': 1, 'n_agents': 3}, 'seed': 42, 'ppo_params': {'n_steps': 1280, 'batch_size': 128, 'n_epochs': 30, 'gamma': 0.9440000000000001, 'gae_lambda': 0.9400000000000001, 'clip_range': 0.30000000000000004, 'learning_rate': 4.6149277258891906e-05, 'ent_coef': 1.1158405702940466e-05, 'vf_coef': 0.8, 'max_grad_norm': 0.6914307738948051, 'tensorboard_log': 'logs/'}, 'total_timesteps': 30000, 'train_period': ('2010-11-13', '2023-01-11'), 'val_period': ('2023-01-11', '2025-03-19'), 'test_period': None, 'optuna': {'n_trials': 15, 'timeout': 72000, 'direction': 'maximize'}}\n"
     ]
    }
   ],
   "source": [
    "update_config(CONFIG, best_params)\n",
    "print(CONFIG)"
   ]
  },
  {
   "cell_type": "code",
   "execution_count": 43,
   "id": "7f7151d5-5dd6-45b0-919b-4787320865a9",
   "metadata": {
    "scrolled": true
   },
   "outputs": [
    {
     "data": {
      "application/vnd.jupyter.widget-view+json": {
       "model_id": "ea5992dfeb5f4588ae7da1d2d5a35d61",
       "version_major": 2,
       "version_minor": 0
      },
      "text/plain": [
       "Output()"
      ]
     },
     "metadata": {},
     "output_type": "display_data"
    },
    {
     "name": "stdout",
     "output_type": "stream",
     "text": [
      "Shape of data: (4040, 6) 2010-01-04 00:00:00 2025-06-27 00:00:00\n",
      "feature finance: Index(['f_log_ret', 'f_vol20', 'f_vol60', 'f_vol20/vol60', 'f_ema_10',\n",
      "       'f_ema_20', 'f_rsi', 'f_macd_line', 'f_macd_signal'],\n",
      "      dtype='object')\n",
      "feature time: Index(['day_of_week_sin', 'day_of_week_cos', 'day_of_month_sin',\n",
      "       'day_of_month_cos', 'day_of_year_sin', 'day_of_year_cos',\n",
      "       'week_of_year_sin', 'week_of_year_cos', 'month_sin', 'month_cos',\n",
      "       'quarter_sin', 'quarter_cos', 'is_month_end'],\n",
      "      dtype='object')\n",
      "\n",
      "Окно 1/5 (Год: 2010)\n",
      "Обучение агента 1/3\n"
     ]
    },
    {
     "data": {
      "text/html": [
       "<pre style=\"white-space:pre;overflow-x:auto;line-height:normal;font-family:Menlo,'DejaVu Sans Mono',consolas,'Courier New',monospace\"></pre>\n"
      ],
      "text/plain": []
     },
     "metadata": {},
     "output_type": "display_data"
    },
    {
     "data": {
      "application/vnd.jupyter.widget-view+json": {
       "model_id": "3bce919cd6104e32af957e5561901d76",
       "version_major": 2,
       "version_minor": 0
      },
      "text/plain": [
       "Output()"
      ]
     },
     "metadata": {},
     "output_type": "display_data"
    },
    {
     "name": "stdout",
     "output_type": "stream",
     "text": [
      "Агент 1 Средняя награда: 35.4461\n",
      "Обучение агента 2/3\n"
     ]
    },
    {
     "data": {
      "text/html": [
       "<pre style=\"white-space:pre;overflow-x:auto;line-height:normal;font-family:Menlo,'DejaVu Sans Mono',consolas,'Courier New',monospace\"></pre>\n"
      ],
      "text/plain": []
     },
     "metadata": {},
     "output_type": "display_data"
    },
    {
     "data": {
      "application/vnd.jupyter.widget-view+json": {
       "model_id": "060ceaafca604c32a22690e02ebcfff7",
       "version_major": 2,
       "version_minor": 0
      },
      "text/plain": [
       "Output()"
      ]
     },
     "metadata": {},
     "output_type": "display_data"
    },
    {
     "name": "stdout",
     "output_type": "stream",
     "text": [
      "Агент 2 Средняя награда: 32.0447\n",
      "Обучение агента 3/3\n"
     ]
    },
    {
     "data": {
      "text/html": [
       "<pre style=\"white-space:pre;overflow-x:auto;line-height:normal;font-family:Menlo,'DejaVu Sans Mono',consolas,'Courier New',monospace\"></pre>\n"
      ],
      "text/plain": []
     },
     "metadata": {},
     "output_type": "display_data"
    },
    {
     "data": {
      "application/vnd.jupyter.widget-view+json": {
       "model_id": "5c4f6a5ce2a24f0e88bc53490bca0b7c",
       "version_major": 2,
       "version_minor": 0
      },
      "text/plain": [
       "Output()"
      ]
     },
     "metadata": {},
     "output_type": "display_data"
    },
    {
     "name": "stdout",
     "output_type": "stream",
     "text": [
      "Агент 3 Средняя награда: 15.7764\n",
      "\n",
      "Окно 2/5 (Год: 2011)\n",
      "Обучение агента 1/3\n"
     ]
    },
    {
     "data": {
      "text/html": [
       "<pre style=\"white-space:pre;overflow-x:auto;line-height:normal;font-family:Menlo,'DejaVu Sans Mono',consolas,'Courier New',monospace\"></pre>\n"
      ],
      "text/plain": []
     },
     "metadata": {},
     "output_type": "display_data"
    },
    {
     "data": {
      "application/vnd.jupyter.widget-view+json": {
       "model_id": "69f3e81bcd8f41b3bc361d08c45f6f93",
       "version_major": 2,
       "version_minor": 0
      },
      "text/plain": [
       "Output()"
      ]
     },
     "metadata": {},
     "output_type": "display_data"
    },
    {
     "name": "stdout",
     "output_type": "stream",
     "text": [
      "Агент 1 Средняя награда: 0.0000\n",
      "Обучение агента 2/3\n"
     ]
    },
    {
     "data": {
      "text/html": [
       "<pre style=\"white-space:pre;overflow-x:auto;line-height:normal;font-family:Menlo,'DejaVu Sans Mono',consolas,'Courier New',monospace\"></pre>\n"
      ],
      "text/plain": []
     },
     "metadata": {},
     "output_type": "display_data"
    },
    {
     "data": {
      "application/vnd.jupyter.widget-view+json": {
       "model_id": "dae503c5ae0f4413a8ea17d88f955c40",
       "version_major": 2,
       "version_minor": 0
      },
      "text/plain": [
       "Output()"
      ]
     },
     "metadata": {},
     "output_type": "display_data"
    },
    {
     "name": "stdout",
     "output_type": "stream",
     "text": [
      "Агент 2 Средняя награда: 2.7923\n",
      "Обучение агента 3/3\n"
     ]
    },
    {
     "data": {
      "text/html": [
       "<pre style=\"white-space:pre;overflow-x:auto;line-height:normal;font-family:Menlo,'DejaVu Sans Mono',consolas,'Courier New',monospace\"></pre>\n"
      ],
      "text/plain": []
     },
     "metadata": {},
     "output_type": "display_data"
    },
    {
     "data": {
      "application/vnd.jupyter.widget-view+json": {
       "model_id": "614ef637c77a4a98b936e308697bc1ed",
       "version_major": 2,
       "version_minor": 0
      },
      "text/plain": [
       "Output()"
      ]
     },
     "metadata": {},
     "output_type": "display_data"
    },
    {
     "name": "stdout",
     "output_type": "stream",
     "text": [
      "Агент 3 Средняя награда: 245.3961\n",
      "\n",
      "Окно 3/5 (Год: 2012)\n",
      "Обучение агента 1/3\n"
     ]
    },
    {
     "data": {
      "text/html": [
       "<pre style=\"white-space:pre;overflow-x:auto;line-height:normal;font-family:Menlo,'DejaVu Sans Mono',consolas,'Courier New',monospace\"></pre>\n"
      ],
      "text/plain": []
     },
     "metadata": {},
     "output_type": "display_data"
    },
    {
     "data": {
      "application/vnd.jupyter.widget-view+json": {
       "model_id": "9f4dae101bb74821bebfae989255045c",
       "version_major": 2,
       "version_minor": 0
      },
      "text/plain": [
       "Output()"
      ]
     },
     "metadata": {},
     "output_type": "display_data"
    },
    {
     "name": "stdout",
     "output_type": "stream",
     "text": [
      "Агент 1 Средняя награда: 22.5611\n",
      "Обучение агента 2/3\n"
     ]
    },
    {
     "data": {
      "text/html": [
       "<pre style=\"white-space:pre;overflow-x:auto;line-height:normal;font-family:Menlo,'DejaVu Sans Mono',consolas,'Courier New',monospace\"></pre>\n"
      ],
      "text/plain": []
     },
     "metadata": {},
     "output_type": "display_data"
    },
    {
     "data": {
      "application/vnd.jupyter.widget-view+json": {
       "model_id": "068274848aa14d8db6cf4d77f20f27f1",
       "version_major": 2,
       "version_minor": 0
      },
      "text/plain": [
       "Output()"
      ]
     },
     "metadata": {},
     "output_type": "display_data"
    },
    {
     "name": "stdout",
     "output_type": "stream",
     "text": [
      "Агент 2 Средняя награда: -33.1169\n",
      "Обучение агента 3/3\n"
     ]
    },
    {
     "data": {
      "text/html": [
       "<pre style=\"white-space:pre;overflow-x:auto;line-height:normal;font-family:Menlo,'DejaVu Sans Mono',consolas,'Courier New',monospace\"></pre>\n"
      ],
      "text/plain": []
     },
     "metadata": {},
     "output_type": "display_data"
    },
    {
     "data": {
      "application/vnd.jupyter.widget-view+json": {
       "model_id": "ee54efe895754ce7a7ee2445c774b5e6",
       "version_major": 2,
       "version_minor": 0
      },
      "text/plain": [
       "Output()"
      ]
     },
     "metadata": {},
     "output_type": "display_data"
    },
    {
     "name": "stdout",
     "output_type": "stream",
     "text": [
      "Агент 3 Средняя награда: 49.3467\n",
      "\n",
      "Окно 4/5 (Год: 2013)\n",
      "Обучение агента 1/3\n"
     ]
    },
    {
     "data": {
      "text/html": [
       "<pre style=\"white-space:pre;overflow-x:auto;line-height:normal;font-family:Menlo,'DejaVu Sans Mono',consolas,'Courier New',monospace\"></pre>\n"
      ],
      "text/plain": []
     },
     "metadata": {},
     "output_type": "display_data"
    },
    {
     "data": {
      "application/vnd.jupyter.widget-view+json": {
       "model_id": "87538a137916482b810060b9d965b81f",
       "version_major": 2,
       "version_minor": 0
      },
      "text/plain": [
       "Output()"
      ]
     },
     "metadata": {},
     "output_type": "display_data"
    },
    {
     "name": "stdout",
     "output_type": "stream",
     "text": [
      "Агент 1 Средняя награда: 42.3769\n",
      "Обучение агента 2/3\n"
     ]
    },
    {
     "data": {
      "text/html": [
       "<pre style=\"white-space:pre;overflow-x:auto;line-height:normal;font-family:Menlo,'DejaVu Sans Mono',consolas,'Courier New',monospace\"></pre>\n"
      ],
      "text/plain": []
     },
     "metadata": {},
     "output_type": "display_data"
    },
    {
     "data": {
      "application/vnd.jupyter.widget-view+json": {
       "model_id": "3607a9b7473d4667be7d59b769031a22",
       "version_major": 2,
       "version_minor": 0
      },
      "text/plain": [
       "Output()"
      ]
     },
     "metadata": {},
     "output_type": "display_data"
    },
    {
     "name": "stdout",
     "output_type": "stream",
     "text": [
      "Агент 2 Средняя награда: -29.2156\n",
      "Обучение агента 3/3\n"
     ]
    },
    {
     "data": {
      "text/html": [
       "<pre style=\"white-space:pre;overflow-x:auto;line-height:normal;font-family:Menlo,'DejaVu Sans Mono',consolas,'Courier New',monospace\"></pre>\n"
      ],
      "text/plain": []
     },
     "metadata": {},
     "output_type": "display_data"
    },
    {
     "data": {
      "application/vnd.jupyter.widget-view+json": {
       "model_id": "f1a24154da114295af1c471c84289857",
       "version_major": 2,
       "version_minor": 0
      },
      "text/plain": [
       "Output()"
      ]
     },
     "metadata": {},
     "output_type": "display_data"
    },
    {
     "name": "stdout",
     "output_type": "stream",
     "text": [
      "Агент 3 Средняя награда: 41.4943\n",
      "\n",
      "Окно 5/5 (Год: 2014)\n",
      "Обучение агента 1/3\n"
     ]
    },
    {
     "data": {
      "text/html": [
       "<pre style=\"white-space:pre;overflow-x:auto;line-height:normal;font-family:Menlo,'DejaVu Sans Mono',consolas,'Courier New',monospace\"></pre>\n"
      ],
      "text/plain": []
     },
     "metadata": {},
     "output_type": "display_data"
    },
    {
     "data": {
      "application/vnd.jupyter.widget-view+json": {
       "model_id": "a02075fed0dd4f9d9eac4d90b1dd90ec",
       "version_major": 2,
       "version_minor": 0
      },
      "text/plain": [
       "Output()"
      ]
     },
     "metadata": {},
     "output_type": "display_data"
    },
    {
     "name": "stdout",
     "output_type": "stream",
     "text": [
      "Агент 1 Средняя награда: -10.0659\n",
      "Обучение агента 2/3\n"
     ]
    },
    {
     "data": {
      "text/html": [
       "<pre style=\"white-space:pre;overflow-x:auto;line-height:normal;font-family:Menlo,'DejaVu Sans Mono',consolas,'Courier New',monospace\"></pre>\n"
      ],
      "text/plain": []
     },
     "metadata": {},
     "output_type": "display_data"
    },
    {
     "data": {
      "application/vnd.jupyter.widget-view+json": {
       "model_id": "a05d0304f14c473ba2f6408cfc957e0c",
       "version_major": 2,
       "version_minor": 0
      },
      "text/plain": [
       "Output()"
      ]
     },
     "metadata": {},
     "output_type": "display_data"
    },
    {
     "name": "stdout",
     "output_type": "stream",
     "text": [
      "Агент 2 Средняя награда: 0.0000\n",
      "Обучение агента 3/3\n"
     ]
    },
    {
     "data": {
      "text/html": [
       "<pre style=\"white-space:pre;overflow-x:auto;line-height:normal;font-family:Menlo,'DejaVu Sans Mono',consolas,'Courier New',monospace\"></pre>\n"
      ],
      "text/plain": []
     },
     "metadata": {},
     "output_type": "display_data"
    },
    {
     "name": "stdout",
     "output_type": "stream",
     "text": [
      "Агент 3 Средняя награда: 0.0565\n"
     ]
    }
   ],
   "source": [
    "metrics = sliding_window_training(CONFIG)"
   ]
  },
  {
   "cell_type": "code",
   "execution_count": 44,
   "id": "1f51340e-a906-4ada-8322-c06e51f9707a",
   "metadata": {},
   "outputs": [
    {
     "data": {
      "text/html": [
       "<div>\n",
       "<style scoped>\n",
       "    .dataframe tbody tr th:only-of-type {\n",
       "        vertical-align: middle;\n",
       "    }\n",
       "\n",
       "    .dataframe tbody tr th {\n",
       "        vertical-align: top;\n",
       "    }\n",
       "\n",
       "    .dataframe thead th {\n",
       "        text-align: right;\n",
       "    }\n",
       "</style>\n",
       "<table border=\"1\" class=\"dataframe\">\n",
       "  <thead>\n",
       "    <tr style=\"text-align: right;\">\n",
       "      <th></th>\n",
       "      <th>Sharpe ratio</th>\n",
       "      <th>Annual return</th>\n",
       "      <th>Volatility</th>\n",
       "    </tr>\n",
       "  </thead>\n",
       "  <tbody>\n",
       "    <tr>\n",
       "      <th>Window_0</th>\n",
       "      <td>2.858459</td>\n",
       "      <td>0.410019</td>\n",
       "      <td>0.143440</td>\n",
       "    </tr>\n",
       "    <tr>\n",
       "      <th>Window_1</th>\n",
       "      <td>1.219245</td>\n",
       "      <td>0.214453</td>\n",
       "      <td>0.175890</td>\n",
       "    </tr>\n",
       "    <tr>\n",
       "      <th>Window_2</th>\n",
       "      <td>0.296491</td>\n",
       "      <td>0.078290</td>\n",
       "      <td>0.264057</td>\n",
       "    </tr>\n",
       "    <tr>\n",
       "      <th>Window_3</th>\n",
       "      <td>1.791999</td>\n",
       "      <td>0.243388</td>\n",
       "      <td>0.135819</td>\n",
       "    </tr>\n",
       "    <tr>\n",
       "      <th>Window_4</th>\n",
       "      <td>2.362815</td>\n",
       "      <td>0.723674</td>\n",
       "      <td>0.306276</td>\n",
       "    </tr>\n",
       "  </tbody>\n",
       "</table>\n",
       "</div>"
      ],
      "text/plain": [
       "          Sharpe ratio  Annual return  Volatility\n",
       "Window_0      2.858459       0.410019    0.143440\n",
       "Window_1      1.219245       0.214453    0.175890\n",
       "Window_2      0.296491       0.078290    0.264057\n",
       "Window_3      1.791999       0.243388    0.135819\n",
       "Window_4      2.362815       0.723674    0.306276"
      ]
     },
     "execution_count": 44,
     "metadata": {},
     "output_type": "execute_result"
    }
   ],
   "source": [
    "metrics"
   ]
  },
  {
   "cell_type": "code",
   "execution_count": 45,
   "id": "ea602d04-87af-487d-ba18-374bb5a57689",
   "metadata": {},
   "outputs": [
    {
     "name": "stdout",
     "output_type": "stream",
     "text": [
      "Metrics on the best params\n",
      "Mean Sharpe ratio on AAPL: 1.7058018649291964, mean Annual return: 0.333964799057034, mean Volatility: 0.20509651473357535\n"
     ]
    }
   ],
   "source": [
    "print('Metrics on the best params')\n",
    "print(f'Mean Sharpe ratio on {CONFIG['ticker']}: {metrics['Sharpe ratio'].mean()}, mean Annual return: {metrics['Annual return'].mean()}, mean Volatility: {metrics['Volatility'].mean()}')"
   ]
  },
  {
   "cell_type": "markdown",
   "id": "75ef18d7-0562-47ab-9d6c-c069f7ed2730",
   "metadata": {},
   "source": [
    "# Запуск модели на других активах"
   ]
  },
  {
   "cell_type": "code",
   "execution_count": 46,
   "id": "6375a892-6ebc-49ff-b66b-d33c5bbf0b08",
   "metadata": {},
   "outputs": [],
   "source": [
    "CONFIG['ticker'] = 'MSFT'"
   ]
  },
  {
   "cell_type": "code",
   "execution_count": 47,
   "id": "ed23dce3-be0e-4500-be7c-59d7fcc2e400",
   "metadata": {
    "scrolled": true
   },
   "outputs": [
    {
     "data": {
      "application/vnd.jupyter.widget-view+json": {
       "model_id": "9255cc138a3b40858110f7bff1ac2518",
       "version_major": 2,
       "version_minor": 0
      },
      "text/plain": [
       "Output()"
      ]
     },
     "metadata": {},
     "output_type": "display_data"
    },
    {
     "name": "stdout",
     "output_type": "stream",
     "text": [
      "Shape of data: (4040, 6) 2010-01-04 00:00:00 2025-06-27 00:00:00\n",
      "feature finance: Index(['f_log_ret', 'f_vol20', 'f_vol60', 'f_vol20/vol60', 'f_ema_10',\n",
      "       'f_ema_20', 'f_rsi', 'f_macd_line', 'f_macd_signal'],\n",
      "      dtype='object')\n",
      "feature time: Index(['day_of_week_sin', 'day_of_week_cos', 'day_of_month_sin',\n",
      "       'day_of_month_cos', 'day_of_year_sin', 'day_of_year_cos',\n",
      "       'week_of_year_sin', 'week_of_year_cos', 'month_sin', 'month_cos',\n",
      "       'quarter_sin', 'quarter_cos', 'is_month_end'],\n",
      "      dtype='object')\n",
      "\n",
      "Окно 1/5 (Год: 2010)\n",
      "Обучение агента 1/3\n"
     ]
    },
    {
     "data": {
      "text/html": [
       "<pre style=\"white-space:pre;overflow-x:auto;line-height:normal;font-family:Menlo,'DejaVu Sans Mono',consolas,'Courier New',monospace\"></pre>\n"
      ],
      "text/plain": []
     },
     "metadata": {},
     "output_type": "display_data"
    },
    {
     "data": {
      "application/vnd.jupyter.widget-view+json": {
       "model_id": "0b8d4324da58410f9c9ecf009d1cdccc",
       "version_major": 2,
       "version_minor": 0
      },
      "text/plain": [
       "Output()"
      ]
     },
     "metadata": {},
     "output_type": "display_data"
    },
    {
     "name": "stdout",
     "output_type": "stream",
     "text": [
      "Агент 1 Средняя награда: -29.4282\n",
      "Обучение агента 2/3\n"
     ]
    },
    {
     "data": {
      "text/html": [
       "<pre style=\"white-space:pre;overflow-x:auto;line-height:normal;font-family:Menlo,'DejaVu Sans Mono',consolas,'Courier New',monospace\"></pre>\n"
      ],
      "text/plain": []
     },
     "metadata": {},
     "output_type": "display_data"
    },
    {
     "data": {
      "application/vnd.jupyter.widget-view+json": {
       "model_id": "c18825d7d90447cab5ae1bbb3921e80e",
       "version_major": 2,
       "version_minor": 0
      },
      "text/plain": [
       "Output()"
      ]
     },
     "metadata": {},
     "output_type": "display_data"
    },
    {
     "name": "stdout",
     "output_type": "stream",
     "text": [
      "Агент 2 Средняя награда: 38.9759\n",
      "Обучение агента 3/3\n"
     ]
    },
    {
     "data": {
      "text/html": [
       "<pre style=\"white-space:pre;overflow-x:auto;line-height:normal;font-family:Menlo,'DejaVu Sans Mono',consolas,'Courier New',monospace\"></pre>\n"
      ],
      "text/plain": []
     },
     "metadata": {},
     "output_type": "display_data"
    },
    {
     "data": {
      "application/vnd.jupyter.widget-view+json": {
       "model_id": "4d5cd24b447f427b957de468cbba13ec",
       "version_major": 2,
       "version_minor": 0
      },
      "text/plain": [
       "Output()"
      ]
     },
     "metadata": {},
     "output_type": "display_data"
    },
    {
     "name": "stdout",
     "output_type": "stream",
     "text": [
      "Агент 3 Средняя награда: -61.4807\n",
      "\n",
      "Окно 2/5 (Год: 2011)\n",
      "Обучение агента 1/3\n"
     ]
    },
    {
     "data": {
      "text/html": [
       "<pre style=\"white-space:pre;overflow-x:auto;line-height:normal;font-family:Menlo,'DejaVu Sans Mono',consolas,'Courier New',monospace\"></pre>\n"
      ],
      "text/plain": []
     },
     "metadata": {},
     "output_type": "display_data"
    },
    {
     "data": {
      "application/vnd.jupyter.widget-view+json": {
       "model_id": "63d69436aa8846f4a252dc5ac2dfa72b",
       "version_major": 2,
       "version_minor": 0
      },
      "text/plain": [
       "Output()"
      ]
     },
     "metadata": {},
     "output_type": "display_data"
    },
    {
     "name": "stdout",
     "output_type": "stream",
     "text": [
      "Агент 1 Средняя награда: 0.0000\n",
      "Обучение агента 2/3\n"
     ]
    },
    {
     "data": {
      "text/html": [
       "<pre style=\"white-space:pre;overflow-x:auto;line-height:normal;font-family:Menlo,'DejaVu Sans Mono',consolas,'Courier New',monospace\"></pre>\n"
      ],
      "text/plain": []
     },
     "metadata": {},
     "output_type": "display_data"
    },
    {
     "data": {
      "application/vnd.jupyter.widget-view+json": {
       "model_id": "0e3edeb01c3f4f79b4b38b26e65bb4a9",
       "version_major": 2,
       "version_minor": 0
      },
      "text/plain": [
       "Output()"
      ]
     },
     "metadata": {},
     "output_type": "display_data"
    },
    {
     "name": "stdout",
     "output_type": "stream",
     "text": [
      "Агент 2 Средняя награда: 0.0000\n",
      "Обучение агента 3/3\n"
     ]
    },
    {
     "data": {
      "text/html": [
       "<pre style=\"white-space:pre;overflow-x:auto;line-height:normal;font-family:Menlo,'DejaVu Sans Mono',consolas,'Courier New',monospace\"></pre>\n"
      ],
      "text/plain": []
     },
     "metadata": {},
     "output_type": "display_data"
    },
    {
     "data": {
      "application/vnd.jupyter.widget-view+json": {
       "model_id": "2cf7004881ca47ddaafda1ac7c57ffba",
       "version_major": 2,
       "version_minor": 0
      },
      "text/plain": [
       "Output()"
      ]
     },
     "metadata": {},
     "output_type": "display_data"
    },
    {
     "name": "stdout",
     "output_type": "stream",
     "text": [
      "Агент 3 Средняя награда: 0.0000\n",
      "\n",
      "Окно 3/5 (Год: 2012)\n",
      "Обучение агента 1/3\n"
     ]
    },
    {
     "data": {
      "text/html": [
       "<pre style=\"white-space:pre;overflow-x:auto;line-height:normal;font-family:Menlo,'DejaVu Sans Mono',consolas,'Courier New',monospace\"></pre>\n"
      ],
      "text/plain": []
     },
     "metadata": {},
     "output_type": "display_data"
    },
    {
     "data": {
      "application/vnd.jupyter.widget-view+json": {
       "model_id": "901d946218344003800ee95f1bd5d0b1",
       "version_major": 2,
       "version_minor": 0
      },
      "text/plain": [
       "Output()"
      ]
     },
     "metadata": {},
     "output_type": "display_data"
    },
    {
     "name": "stdout",
     "output_type": "stream",
     "text": [
      "Агент 1 Средняя награда: 0.0000\n",
      "Обучение агента 2/3\n"
     ]
    },
    {
     "data": {
      "text/html": [
       "<pre style=\"white-space:pre;overflow-x:auto;line-height:normal;font-family:Menlo,'DejaVu Sans Mono',consolas,'Courier New',monospace\"></pre>\n"
      ],
      "text/plain": []
     },
     "metadata": {},
     "output_type": "display_data"
    },
    {
     "data": {
      "application/vnd.jupyter.widget-view+json": {
       "model_id": "41235304cd3d4e1b84bca49dce4278bf",
       "version_major": 2,
       "version_minor": 0
      },
      "text/plain": [
       "Output()"
      ]
     },
     "metadata": {},
     "output_type": "display_data"
    },
    {
     "name": "stdout",
     "output_type": "stream",
     "text": [
      "Агент 2 Средняя награда: 0.0000\n",
      "Обучение агента 3/3\n"
     ]
    },
    {
     "data": {
      "text/html": [
       "<pre style=\"white-space:pre;overflow-x:auto;line-height:normal;font-family:Menlo,'DejaVu Sans Mono',consolas,'Courier New',monospace\"></pre>\n"
      ],
      "text/plain": []
     },
     "metadata": {},
     "output_type": "display_data"
    },
    {
     "data": {
      "application/vnd.jupyter.widget-view+json": {
       "model_id": "e848dd879ec3482d86d41a771edf89e7",
       "version_major": 2,
       "version_minor": 0
      },
      "text/plain": [
       "Output()"
      ]
     },
     "metadata": {},
     "output_type": "display_data"
    },
    {
     "name": "stdout",
     "output_type": "stream",
     "text": [
      "Агент 3 Средняя награда: 0.0000\n",
      "\n",
      "Окно 4/5 (Год: 2013)\n",
      "Обучение агента 1/3\n"
     ]
    },
    {
     "data": {
      "text/html": [
       "<pre style=\"white-space:pre;overflow-x:auto;line-height:normal;font-family:Menlo,'DejaVu Sans Mono',consolas,'Courier New',monospace\"></pre>\n"
      ],
      "text/plain": []
     },
     "metadata": {},
     "output_type": "display_data"
    },
    {
     "data": {
      "application/vnd.jupyter.widget-view+json": {
       "model_id": "5ef7e41515e94cea841005c3b46da21a",
       "version_major": 2,
       "version_minor": 0
      },
      "text/plain": [
       "Output()"
      ]
     },
     "metadata": {},
     "output_type": "display_data"
    },
    {
     "name": "stdout",
     "output_type": "stream",
     "text": [
      "Агент 1 Средняя награда: 2.1226\n",
      "Обучение агента 2/3\n"
     ]
    },
    {
     "data": {
      "text/html": [
       "<pre style=\"white-space:pre;overflow-x:auto;line-height:normal;font-family:Menlo,'DejaVu Sans Mono',consolas,'Courier New',monospace\"></pre>\n"
      ],
      "text/plain": []
     },
     "metadata": {},
     "output_type": "display_data"
    },
    {
     "data": {
      "application/vnd.jupyter.widget-view+json": {
       "model_id": "e8ca3d1d26604b5ca8662baa178dd852",
       "version_major": 2,
       "version_minor": 0
      },
      "text/plain": [
       "Output()"
      ]
     },
     "metadata": {},
     "output_type": "display_data"
    },
    {
     "name": "stdout",
     "output_type": "stream",
     "text": [
      "Агент 2 Средняя награда: -8.8707\n",
      "Обучение агента 3/3\n"
     ]
    },
    {
     "data": {
      "text/html": [
       "<pre style=\"white-space:pre;overflow-x:auto;line-height:normal;font-family:Menlo,'DejaVu Sans Mono',consolas,'Courier New',monospace\"></pre>\n"
      ],
      "text/plain": []
     },
     "metadata": {},
     "output_type": "display_data"
    },
    {
     "data": {
      "application/vnd.jupyter.widget-view+json": {
       "model_id": "9eaa00e1953347fa84f4bd067b0e8bd2",
       "version_major": 2,
       "version_minor": 0
      },
      "text/plain": [
       "Output()"
      ]
     },
     "metadata": {},
     "output_type": "display_data"
    },
    {
     "name": "stdout",
     "output_type": "stream",
     "text": [
      "Агент 3 Средняя награда: -6.8856\n",
      "\n",
      "Окно 5/5 (Год: 2014)\n",
      "Обучение агента 1/3\n"
     ]
    },
    {
     "data": {
      "text/html": [
       "<pre style=\"white-space:pre;overflow-x:auto;line-height:normal;font-family:Menlo,'DejaVu Sans Mono',consolas,'Courier New',monospace\"></pre>\n"
      ],
      "text/plain": []
     },
     "metadata": {},
     "output_type": "display_data"
    },
    {
     "data": {
      "application/vnd.jupyter.widget-view+json": {
       "model_id": "354573465f284ceb954dda1dedbc1001",
       "version_major": 2,
       "version_minor": 0
      },
      "text/plain": [
       "Output()"
      ]
     },
     "metadata": {},
     "output_type": "display_data"
    },
    {
     "name": "stdout",
     "output_type": "stream",
     "text": [
      "Агент 1 Средняя награда: -13.1127\n",
      "Обучение агента 2/3\n"
     ]
    },
    {
     "data": {
      "text/html": [
       "<pre style=\"white-space:pre;overflow-x:auto;line-height:normal;font-family:Menlo,'DejaVu Sans Mono',consolas,'Courier New',monospace\"></pre>\n"
      ],
      "text/plain": []
     },
     "metadata": {},
     "output_type": "display_data"
    },
    {
     "data": {
      "application/vnd.jupyter.widget-view+json": {
       "model_id": "36acd66d04d84d86abf9237932cbcfa0",
       "version_major": 2,
       "version_minor": 0
      },
      "text/plain": [
       "Output()"
      ]
     },
     "metadata": {},
     "output_type": "display_data"
    },
    {
     "name": "stdout",
     "output_type": "stream",
     "text": [
      "Агент 2 Средняя награда: -9.7391\n",
      "Обучение агента 3/3\n"
     ]
    },
    {
     "data": {
      "text/html": [
       "<pre style=\"white-space:pre;overflow-x:auto;line-height:normal;font-family:Menlo,'DejaVu Sans Mono',consolas,'Courier New',monospace\"></pre>\n"
      ],
      "text/plain": []
     },
     "metadata": {},
     "output_type": "display_data"
    },
    {
     "name": "stdout",
     "output_type": "stream",
     "text": [
      "Агент 3 Средняя награда: 0.0000\n"
     ]
    }
   ],
   "source": [
    "metrics = sliding_window_training(CONFIG)"
   ]
  },
  {
   "cell_type": "code",
   "execution_count": 48,
   "id": "44933af2-9bca-4ffb-9c1a-dfdd25fb8eb8",
   "metadata": {},
   "outputs": [
    {
     "data": {
      "text/html": [
       "<div>\n",
       "<style scoped>\n",
       "    .dataframe tbody tr th:only-of-type {\n",
       "        vertical-align: middle;\n",
       "    }\n",
       "\n",
       "    .dataframe tbody tr th {\n",
       "        vertical-align: top;\n",
       "    }\n",
       "\n",
       "    .dataframe thead th {\n",
       "        text-align: right;\n",
       "    }\n",
       "</style>\n",
       "<table border=\"1\" class=\"dataframe\">\n",
       "  <thead>\n",
       "    <tr style=\"text-align: right;\">\n",
       "      <th></th>\n",
       "      <th>Sharpe ratio</th>\n",
       "      <th>Annual return</th>\n",
       "      <th>Volatility</th>\n",
       "    </tr>\n",
       "  </thead>\n",
       "  <tbody>\n",
       "    <tr>\n",
       "      <th>Window_0</th>\n",
       "      <td>NaN</td>\n",
       "      <td>0.000000</td>\n",
       "      <td>0.000000</td>\n",
       "    </tr>\n",
       "    <tr>\n",
       "      <th>Window_1</th>\n",
       "      <td>NaN</td>\n",
       "      <td>0.000000</td>\n",
       "      <td>0.000000</td>\n",
       "    </tr>\n",
       "    <tr>\n",
       "      <th>Window_2</th>\n",
       "      <td>0.566357</td>\n",
       "      <td>0.038371</td>\n",
       "      <td>0.067751</td>\n",
       "    </tr>\n",
       "    <tr>\n",
       "      <th>Window_3</th>\n",
       "      <td>NaN</td>\n",
       "      <td>0.000000</td>\n",
       "      <td>0.000000</td>\n",
       "    </tr>\n",
       "    <tr>\n",
       "      <th>Window_4</th>\n",
       "      <td>-0.750051</td>\n",
       "      <td>-0.076694</td>\n",
       "      <td>0.102252</td>\n",
       "    </tr>\n",
       "  </tbody>\n",
       "</table>\n",
       "</div>"
      ],
      "text/plain": [
       "          Sharpe ratio  Annual return  Volatility\n",
       "Window_0           NaN       0.000000    0.000000\n",
       "Window_1           NaN       0.000000    0.000000\n",
       "Window_2      0.566357       0.038371    0.067751\n",
       "Window_3           NaN       0.000000    0.000000\n",
       "Window_4     -0.750051      -0.076694    0.102252"
      ]
     },
     "execution_count": 48,
     "metadata": {},
     "output_type": "execute_result"
    }
   ],
   "source": [
    "metrics"
   ]
  },
  {
   "cell_type": "code",
   "execution_count": 49,
   "id": "2f27c1d1-b0f8-4053-9883-c43c30fe9877",
   "metadata": {},
   "outputs": [
    {
     "name": "stdout",
     "output_type": "stream",
     "text": [
      "Mean Sharpe ratio on MSFT: -0.09184722117110561, mean Annual return: -0.0076645033292996444, mean Volatility: 0.03400062149323069\n"
     ]
    }
   ],
   "source": [
    "print(f'Mean Sharpe ratio on {CONFIG['ticker']}: {metrics['Sharpe ratio'].mean()}, mean Annual return: {metrics['Annual return'].mean()}, mean Volatility: {metrics['Volatility'].mean()}')"
   ]
  },
  {
   "cell_type": "code",
   "execution_count": 50,
   "id": "c3639dd3-6f72-4dfe-aeb0-c44b08d34e6e",
   "metadata": {},
   "outputs": [],
   "source": [
    "CONFIG['ticker'] = 'AMZN'"
   ]
  },
  {
   "cell_type": "code",
   "execution_count": 51,
   "id": "15e3f225-e73b-4543-a289-fba1c5912f93",
   "metadata": {
    "scrolled": true
   },
   "outputs": [
    {
     "data": {
      "application/vnd.jupyter.widget-view+json": {
       "model_id": "ab7b6f6004724ea2ab8602dfaade5247",
       "version_major": 2,
       "version_minor": 0
      },
      "text/plain": [
       "Output()"
      ]
     },
     "metadata": {},
     "output_type": "display_data"
    },
    {
     "name": "stdout",
     "output_type": "stream",
     "text": [
      "Shape of data: (4040, 6) 2010-01-04 00:00:00 2025-06-27 00:00:00\n",
      "feature finance: Index(['f_log_ret', 'f_vol20', 'f_vol60', 'f_vol20/vol60', 'f_ema_10',\n",
      "       'f_ema_20', 'f_rsi', 'f_macd_line', 'f_macd_signal'],\n",
      "      dtype='object')\n",
      "feature time: Index(['day_of_week_sin', 'day_of_week_cos', 'day_of_month_sin',\n",
      "       'day_of_month_cos', 'day_of_year_sin', 'day_of_year_cos',\n",
      "       'week_of_year_sin', 'week_of_year_cos', 'month_sin', 'month_cos',\n",
      "       'quarter_sin', 'quarter_cos', 'is_month_end'],\n",
      "      dtype='object')\n",
      "\n",
      "Окно 1/5 (Год: 2010)\n",
      "Обучение агента 1/3\n"
     ]
    },
    {
     "data": {
      "text/html": [
       "<pre style=\"white-space:pre;overflow-x:auto;line-height:normal;font-family:Menlo,'DejaVu Sans Mono',consolas,'Courier New',monospace\"></pre>\n"
      ],
      "text/plain": []
     },
     "metadata": {},
     "output_type": "display_data"
    },
    {
     "data": {
      "application/vnd.jupyter.widget-view+json": {
       "model_id": "83587acb642a4a85bc76549897692b8c",
       "version_major": 2,
       "version_minor": 0
      },
      "text/plain": [
       "Output()"
      ]
     },
     "metadata": {},
     "output_type": "display_data"
    },
    {
     "name": "stdout",
     "output_type": "stream",
     "text": [
      "Агент 1 Средняя награда: 138.0190\n",
      "Обучение агента 2/3\n"
     ]
    },
    {
     "data": {
      "text/html": [
       "<pre style=\"white-space:pre;overflow-x:auto;line-height:normal;font-family:Menlo,'DejaVu Sans Mono',consolas,'Courier New',monospace\"></pre>\n"
      ],
      "text/plain": []
     },
     "metadata": {},
     "output_type": "display_data"
    },
    {
     "data": {
      "application/vnd.jupyter.widget-view+json": {
       "model_id": "2f14a1dd668a4b278afd43aeee1a80be",
       "version_major": 2,
       "version_minor": 0
      },
      "text/plain": [
       "Output()"
      ]
     },
     "metadata": {},
     "output_type": "display_data"
    },
    {
     "name": "stdout",
     "output_type": "stream",
     "text": [
      "Агент 2 Средняя награда: 90.8369\n",
      "Обучение агента 3/3\n"
     ]
    },
    {
     "data": {
      "text/html": [
       "<pre style=\"white-space:pre;overflow-x:auto;line-height:normal;font-family:Menlo,'DejaVu Sans Mono',consolas,'Courier New',monospace\"></pre>\n"
      ],
      "text/plain": []
     },
     "metadata": {},
     "output_type": "display_data"
    },
    {
     "data": {
      "application/vnd.jupyter.widget-view+json": {
       "model_id": "638ca8cc91db4b5aa267d1412fe14608",
       "version_major": 2,
       "version_minor": 0
      },
      "text/plain": [
       "Output()"
      ]
     },
     "metadata": {},
     "output_type": "display_data"
    },
    {
     "name": "stdout",
     "output_type": "stream",
     "text": [
      "Агент 3 Средняя награда: 124.3616\n",
      "\n",
      "Окно 2/5 (Год: 2011)\n",
      "Обучение агента 1/3\n"
     ]
    },
    {
     "data": {
      "text/html": [
       "<pre style=\"white-space:pre;overflow-x:auto;line-height:normal;font-family:Menlo,'DejaVu Sans Mono',consolas,'Courier New',monospace\"></pre>\n"
      ],
      "text/plain": []
     },
     "metadata": {},
     "output_type": "display_data"
    },
    {
     "data": {
      "application/vnd.jupyter.widget-view+json": {
       "model_id": "bc5e75614786495ca30711f68e120838",
       "version_major": 2,
       "version_minor": 0
      },
      "text/plain": [
       "Output()"
      ]
     },
     "metadata": {},
     "output_type": "display_data"
    },
    {
     "name": "stdout",
     "output_type": "stream",
     "text": [
      "Агент 1 Средняя награда: -5.0856\n",
      "Обучение агента 2/3\n"
     ]
    },
    {
     "data": {
      "text/html": [
       "<pre style=\"white-space:pre;overflow-x:auto;line-height:normal;font-family:Menlo,'DejaVu Sans Mono',consolas,'Courier New',monospace\"></pre>\n"
      ],
      "text/plain": []
     },
     "metadata": {},
     "output_type": "display_data"
    },
    {
     "data": {
      "application/vnd.jupyter.widget-view+json": {
       "model_id": "dc3e40029283449aa6dfc8c90e88e855",
       "version_major": 2,
       "version_minor": 0
      },
      "text/plain": [
       "Output()"
      ]
     },
     "metadata": {},
     "output_type": "display_data"
    },
    {
     "name": "stdout",
     "output_type": "stream",
     "text": [
      "Агент 2 Средняя награда: 76.4742\n",
      "Обучение агента 3/3\n"
     ]
    },
    {
     "data": {
      "text/html": [
       "<pre style=\"white-space:pre;overflow-x:auto;line-height:normal;font-family:Menlo,'DejaVu Sans Mono',consolas,'Courier New',monospace\"></pre>\n"
      ],
      "text/plain": []
     },
     "metadata": {},
     "output_type": "display_data"
    },
    {
     "data": {
      "application/vnd.jupyter.widget-view+json": {
       "model_id": "f8e3d8e2d162453abb5f1e31ad154b7a",
       "version_major": 2,
       "version_minor": 0
      },
      "text/plain": [
       "Output()"
      ]
     },
     "metadata": {},
     "output_type": "display_data"
    },
    {
     "name": "stdout",
     "output_type": "stream",
     "text": [
      "Агент 3 Средняя награда: -42.4924\n",
      "\n",
      "Окно 3/5 (Год: 2012)\n",
      "Обучение агента 1/3\n"
     ]
    },
    {
     "data": {
      "text/html": [
       "<pre style=\"white-space:pre;overflow-x:auto;line-height:normal;font-family:Menlo,'DejaVu Sans Mono',consolas,'Courier New',monospace\"></pre>\n"
      ],
      "text/plain": []
     },
     "metadata": {},
     "output_type": "display_data"
    },
    {
     "data": {
      "application/vnd.jupyter.widget-view+json": {
       "model_id": "a12577a2de564944a73ed39deb2bdc65",
       "version_major": 2,
       "version_minor": 0
      },
      "text/plain": [
       "Output()"
      ]
     },
     "metadata": {},
     "output_type": "display_data"
    },
    {
     "name": "stdout",
     "output_type": "stream",
     "text": [
      "Агент 1 Средняя награда: -34.0005\n",
      "Обучение агента 2/3\n"
     ]
    },
    {
     "data": {
      "text/html": [
       "<pre style=\"white-space:pre;overflow-x:auto;line-height:normal;font-family:Menlo,'DejaVu Sans Mono',consolas,'Courier New',monospace\"></pre>\n"
      ],
      "text/plain": []
     },
     "metadata": {},
     "output_type": "display_data"
    },
    {
     "data": {
      "application/vnd.jupyter.widget-view+json": {
       "model_id": "2fbc223b02a241ee83afde8ffda1429f",
       "version_major": 2,
       "version_minor": 0
      },
      "text/plain": [
       "Output()"
      ]
     },
     "metadata": {},
     "output_type": "display_data"
    },
    {
     "name": "stdout",
     "output_type": "stream",
     "text": [
      "Агент 2 Средняя награда: 16.2467\n",
      "Обучение агента 3/3\n"
     ]
    },
    {
     "data": {
      "text/html": [
       "<pre style=\"white-space:pre;overflow-x:auto;line-height:normal;font-family:Menlo,'DejaVu Sans Mono',consolas,'Courier New',monospace\"></pre>\n"
      ],
      "text/plain": []
     },
     "metadata": {},
     "output_type": "display_data"
    },
    {
     "data": {
      "application/vnd.jupyter.widget-view+json": {
       "model_id": "98d83527457745f586aa094e254dbd6c",
       "version_major": 2,
       "version_minor": 0
      },
      "text/plain": [
       "Output()"
      ]
     },
     "metadata": {},
     "output_type": "display_data"
    },
    {
     "name": "stdout",
     "output_type": "stream",
     "text": [
      "Агент 3 Средняя награда: 12.2381\n",
      "\n",
      "Окно 4/5 (Год: 2013)\n",
      "Обучение агента 1/3\n"
     ]
    },
    {
     "data": {
      "text/html": [
       "<pre style=\"white-space:pre;overflow-x:auto;line-height:normal;font-family:Menlo,'DejaVu Sans Mono',consolas,'Courier New',monospace\"></pre>\n"
      ],
      "text/plain": []
     },
     "metadata": {},
     "output_type": "display_data"
    },
    {
     "data": {
      "application/vnd.jupyter.widget-view+json": {
       "model_id": "1de8f948936a494b81135b400c9f6702",
       "version_major": 2,
       "version_minor": 0
      },
      "text/plain": [
       "Output()"
      ]
     },
     "metadata": {},
     "output_type": "display_data"
    },
    {
     "name": "stdout",
     "output_type": "stream",
     "text": [
      "Агент 1 Средняя награда: 54.9573\n",
      "Обучение агента 2/3\n"
     ]
    },
    {
     "data": {
      "text/html": [
       "<pre style=\"white-space:pre;overflow-x:auto;line-height:normal;font-family:Menlo,'DejaVu Sans Mono',consolas,'Courier New',monospace\"></pre>\n"
      ],
      "text/plain": []
     },
     "metadata": {},
     "output_type": "display_data"
    },
    {
     "data": {
      "application/vnd.jupyter.widget-view+json": {
       "model_id": "7996f2cc0fff49f9a769542583397451",
       "version_major": 2,
       "version_minor": 0
      },
      "text/plain": [
       "Output()"
      ]
     },
     "metadata": {},
     "output_type": "display_data"
    },
    {
     "name": "stdout",
     "output_type": "stream",
     "text": [
      "Агент 2 Средняя награда: 24.0821\n",
      "Обучение агента 3/3\n"
     ]
    },
    {
     "data": {
      "text/html": [
       "<pre style=\"white-space:pre;overflow-x:auto;line-height:normal;font-family:Menlo,'DejaVu Sans Mono',consolas,'Courier New',monospace\"></pre>\n"
      ],
      "text/plain": []
     },
     "metadata": {},
     "output_type": "display_data"
    },
    {
     "data": {
      "application/vnd.jupyter.widget-view+json": {
       "model_id": "c053f6367c5d4ac6a4504a3ba2433d87",
       "version_major": 2,
       "version_minor": 0
      },
      "text/plain": [
       "Output()"
      ]
     },
     "metadata": {},
     "output_type": "display_data"
    },
    {
     "name": "stdout",
     "output_type": "stream",
     "text": [
      "Агент 3 Средняя награда: 58.3649\n",
      "\n",
      "Окно 5/5 (Год: 2014)\n",
      "Обучение агента 1/3\n"
     ]
    },
    {
     "data": {
      "text/html": [
       "<pre style=\"white-space:pre;overflow-x:auto;line-height:normal;font-family:Menlo,'DejaVu Sans Mono',consolas,'Courier New',monospace\"></pre>\n"
      ],
      "text/plain": []
     },
     "metadata": {},
     "output_type": "display_data"
    },
    {
     "data": {
      "application/vnd.jupyter.widget-view+json": {
       "model_id": "8d7c1316895d41389990b0b8245eace0",
       "version_major": 2,
       "version_minor": 0
      },
      "text/plain": [
       "Output()"
      ]
     },
     "metadata": {},
     "output_type": "display_data"
    },
    {
     "name": "stdout",
     "output_type": "stream",
     "text": [
      "Агент 1 Средняя награда: 6.3194\n",
      "Обучение агента 2/3\n"
     ]
    },
    {
     "data": {
      "text/html": [
       "<pre style=\"white-space:pre;overflow-x:auto;line-height:normal;font-family:Menlo,'DejaVu Sans Mono',consolas,'Courier New',monospace\"></pre>\n"
      ],
      "text/plain": []
     },
     "metadata": {},
     "output_type": "display_data"
    },
    {
     "data": {
      "application/vnd.jupyter.widget-view+json": {
       "model_id": "f2aba82c8dfc44cbb53e1983659d8d8b",
       "version_major": 2,
       "version_minor": 0
      },
      "text/plain": [
       "Output()"
      ]
     },
     "metadata": {},
     "output_type": "display_data"
    },
    {
     "name": "stdout",
     "output_type": "stream",
     "text": [
      "Агент 2 Средняя награда: -0.7164\n",
      "Обучение агента 3/3\n"
     ]
    },
    {
     "data": {
      "text/html": [
       "<pre style=\"white-space:pre;overflow-x:auto;line-height:normal;font-family:Menlo,'DejaVu Sans Mono',consolas,'Courier New',monospace\"></pre>\n"
      ],
      "text/plain": []
     },
     "metadata": {},
     "output_type": "display_data"
    },
    {
     "name": "stdout",
     "output_type": "stream",
     "text": [
      "Агент 3 Средняя награда: -26.4397\n"
     ]
    }
   ],
   "source": [
    "metrics = sliding_window_training(CONFIG)"
   ]
  },
  {
   "cell_type": "code",
   "execution_count": 52,
   "id": "ef579b4e-4b36-4294-b741-d1fff5c0e1f7",
   "metadata": {},
   "outputs": [
    {
     "data": {
      "text/html": [
       "<div>\n",
       "<style scoped>\n",
       "    .dataframe tbody tr th:only-of-type {\n",
       "        vertical-align: middle;\n",
       "    }\n",
       "\n",
       "    .dataframe tbody tr th {\n",
       "        vertical-align: top;\n",
       "    }\n",
       "\n",
       "    .dataframe thead th {\n",
       "        text-align: right;\n",
       "    }\n",
       "</style>\n",
       "<table border=\"1\" class=\"dataframe\">\n",
       "  <thead>\n",
       "    <tr style=\"text-align: right;\">\n",
       "      <th></th>\n",
       "      <th>Sharpe ratio</th>\n",
       "      <th>Annual return</th>\n",
       "      <th>Volatility</th>\n",
       "    </tr>\n",
       "  </thead>\n",
       "  <tbody>\n",
       "    <tr>\n",
       "      <th>Window_0</th>\n",
       "      <td>0.227445</td>\n",
       "      <td>0.055830</td>\n",
       "      <td>0.245467</td>\n",
       "    </tr>\n",
       "    <tr>\n",
       "      <th>Window_1</th>\n",
       "      <td>-0.226399</td>\n",
       "      <td>-0.039330</td>\n",
       "      <td>0.173722</td>\n",
       "    </tr>\n",
       "    <tr>\n",
       "      <th>Window_2</th>\n",
       "      <td>0.053265</td>\n",
       "      <td>0.012921</td>\n",
       "      <td>0.242581</td>\n",
       "    </tr>\n",
       "    <tr>\n",
       "      <th>Window_3</th>\n",
       "      <td>-1.108653</td>\n",
       "      <td>-0.163844</td>\n",
       "      <td>0.147787</td>\n",
       "    </tr>\n",
       "    <tr>\n",
       "      <th>Window_4</th>\n",
       "      <td>0.699271</td>\n",
       "      <td>0.172061</td>\n",
       "      <td>0.246057</td>\n",
       "    </tr>\n",
       "  </tbody>\n",
       "</table>\n",
       "</div>"
      ],
      "text/plain": [
       "          Sharpe ratio  Annual return  Volatility\n",
       "Window_0      0.227445       0.055830    0.245467\n",
       "Window_1     -0.226399      -0.039330    0.173722\n",
       "Window_2      0.053265       0.012921    0.242581\n",
       "Window_3     -1.108653      -0.163844    0.147787\n",
       "Window_4      0.699271       0.172061    0.246057"
      ]
     },
     "execution_count": 52,
     "metadata": {},
     "output_type": "execute_result"
    }
   ],
   "source": [
    "metrics"
   ]
  },
  {
   "cell_type": "code",
   "execution_count": 56,
   "id": "bbadb318-a2f3-41ff-b01a-02e6e1cf642d",
   "metadata": {},
   "outputs": [
    {
     "name": "stdout",
     "output_type": "stream",
     "text": [
      "Mean Sharpe ratio on AMZN: -0.0710142562211464, mean Annual return: 0.007527376093570709, mean Volatility: 0.2111226273981051\n"
     ]
    }
   ],
   "source": [
    "print(f'Mean Sharpe ratio on {CONFIG['ticker']}: {metrics['Sharpe ratio'].mean()}, mean Annual return: {metrics['Annual return'].mean()}, mean Volatility: {metrics['Volatility'].mean()}')"
   ]
  },
  {
   "cell_type": "code",
   "execution_count": null,
   "id": "8391a8a9-a990-4966-8609-1b00fc205379",
   "metadata": {},
   "outputs": [],
   "source": []
  }
 ],
 "metadata": {
  "kernelspec": {
   "display_name": "Python 3 (ipykernel)",
   "language": "python",
   "name": "python3"
  },
  "language_info": {
   "codemirror_mode": {
    "name": "ipython",
    "version": 3
   },
   "file_extension": ".py",
   "mimetype": "text/x-python",
   "name": "python",
   "nbconvert_exporter": "python",
   "pygments_lexer": "ipython3",
   "version": "3.12.10"
  }
 },
 "nbformat": 4,
 "nbformat_minor": 5
}
